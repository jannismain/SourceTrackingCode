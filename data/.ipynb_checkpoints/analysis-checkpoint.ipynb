{
 "cells": [
  {
   "cell_type": "markdown",
   "metadata": {},
   "source": [
    "# Source Tracking Thesis"
   ]
  },
  {
   "cell_type": "code",
   "execution_count": 552,
   "metadata": {},
   "outputs": [],
   "source": [
    "%matplotlib inline \n",
    "# %matplotlib notebook would provide interactive plots\n",
    "\n",
    "import glob\n",
    "import csv\n",
    "\n",
    "import pandas as pd\n",
    "import matplotlib\n",
    "import numpy as np\n",
    "import matplotlib.pyplot as plt\n",
    "\n",
    "path_root = '../matlab/mainczjs/evaluation/results/'\n",
    "\n",
    "def _get_trial_index(t):\n",
    "    return [\"t{}\".format(i+1) for i in range(t)]\n",
    "\n",
    "def _get_col_name(s,post):\n",
    "    return sum([(\"x{}{},y{}{}\".format(n,post,n,post)).split(',') for n in range(1,s+1)],[])\n",
    "\n",
    "def _get_err_col_name(s):\n",
    "    return [\"err{}\".format(n) for n in range(1,s+1)]\n",
    "\n",
    "def get_col_names(s):\n",
    "    return sum([_get_col_name(s,\"\"), _get_col_name(s,\"est\"), _get_err_col_name(s)], []) \n",
    "\n",
    "def is_x1_correct(row):\n",
    "    if abs(row[\"x1\"]-row[\"x1est\"]) > 0.001:\n",
    "        if abs(row[\"y1\"]-row[\"y1est\"]) > 0.001:\n",
    "            return 1\n",
    "    return 0"
   ]
  },
  {
   "cell_type": "markdown",
   "metadata": {},
   "source": [
    "## Evaluate Mean Error"
   ]
  },
  {
   "cell_type": "code",
   "execution_count": 553,
   "metadata": {},
   "outputs": [
    {
     "name": "stderr",
     "output_type": "stream",
     "text": [
      "/usr/local/lib/python3.6/site-packages/ipykernel_launcher.py:22: FutureWarning: convert_objects is deprecated.  Use the data-type specific converters pd.to_datetime, pd.to_timedelta and pd.to_numeric.\n"
     ]
    }
   ],
   "source": [
    "eval_columns = ['n_trials', 'mean_err']\n",
    "n_sources_range = [2, 3, 4, 5, 6, 7]\n",
    "results_dict = {}\n",
    "eval_index = n_sources_range\n",
    "eval_data = pd.DataFrame(index=range(0,len(n_sources_range)),columns=eval_columns)\n",
    "eval_data.index = eval_index\n",
    "\n",
    "for s in n_sources_range:\n",
    "    # define filename format\n",
    "    files = glob.glob(path.join(path_root,\"{}sources\".format(s),'*.txt'))\n",
    "\n",
    "    # load data\n",
    "    dfs = []\n",
    "    for f in files:\n",
    "        dfs.append(pd.DataFrame(list(csv.reader(open(f, 'r'), delimiter='\\t')), dtype=float))\n",
    "    results = pd.concat(dfs)\n",
    "    n_trials = len(results)\n",
    "    n_sources = int((len(results.columns)-1)/5)\n",
    "    results.drop(results.columns[[n_sources*4+n_sources]], axis=1, inplace=True) \n",
    "    results.columns = get_col_names(n_sources)\n",
    "    results.index = [\"t{}\".format(i+1) for i in range(n_trials)]\n",
    "    results.convert_objects()\n",
    "    results_dict['{}'.format(n_sources)] = results\n",
    "    # preview data\n",
    "#     print(results.sample(5))\n",
    "#     print(results.sample(5).loc[:,'x1':'y2'])\n",
    "#     print(results.sample(5).loc[:,\"err1\":])\n",
    "#     print(results.loc[:,\"err1\":])\n",
    "    \n",
    "    # calculate statistics\n",
    "    mean_err = results.mean()[-n_sources:].mean()\n",
    "#     results.apply(is_x1_correct,axis=0)\n",
    "    \n",
    "    # saving statistics to eval_data\n",
    "    eval_data.set_value(n_sources, 'n_trials', n_trials)\n",
    "    eval_data.set_value(n_sources, 'mean_err', round(mean_err,2))\n",
    "    \n",
    "    # output statistics\n",
    "#     print(\"# Sources: {}, # Trials: {}, Mean Error: {:0.2f}\".format(n_sources, n_trials, mean_err))"
   ]
  },
  {
   "cell_type": "markdown",
   "metadata": {},
   "source": [
    "### Plot results"
   ]
  },
  {
   "cell_type": "code",
   "execution_count": 554,
   "metadata": {},
   "outputs": [
    {
     "ename": "TypeError",
     "evalue": "'str' object is not callable",
     "output_type": "error",
     "traceback": [
      "\u001b[0;31m---------------------------------------------------------------------------\u001b[0m",
      "\u001b[0;31mTypeError\u001b[0m                                 Traceback (most recent call last)",
      "\u001b[0;32m<ipython-input-554-b75d13eea235>\u001b[0m in \u001b[0;36m<module>\u001b[0;34m()\u001b[0m\n\u001b[1;32m      5\u001b[0m \u001b[0mplt\u001b[0m\u001b[0;34m.\u001b[0m\u001b[0mxticks\u001b[0m\u001b[0;34m(\u001b[0m\u001b[0mn_sources_range\u001b[0m\u001b[0;34m)\u001b[0m\u001b[0;34m\u001b[0m\u001b[0m\n\u001b[1;32m      6\u001b[0m \u001b[0mplt\u001b[0m\u001b[0;34m.\u001b[0m\u001b[0myticks\u001b[0m\u001b[0;34m(\u001b[0m\u001b[0;34m[\u001b[0m\u001b[0;36m0.1\u001b[0m\u001b[0;34m,\u001b[0m \u001b[0;36m0.2\u001b[0m\u001b[0;34m,\u001b[0m \u001b[0;36m0.3\u001b[0m\u001b[0;34m]\u001b[0m\u001b[0;34m)\u001b[0m\u001b[0;34m\u001b[0m\u001b[0m\n\u001b[0;32m----> 7\u001b[0;31m \u001b[0mplt\u001b[0m\u001b[0;34m.\u001b[0m\u001b[0mxlabel\u001b[0m\u001b[0;34m(\u001b[0m\u001b[0;34m\"number of sources\"\u001b[0m\u001b[0;34m)\u001b[0m\u001b[0;34m\u001b[0m\u001b[0m\n\u001b[0m\u001b[1;32m      8\u001b[0m \u001b[0mplt\u001b[0m\u001b[0;34m.\u001b[0m\u001b[0mylabel\u001b[0m\u001b[0;34m(\u001b[0m\u001b[0;34m\"mean localisation error (m)\"\u001b[0m\u001b[0;34m)\u001b[0m\u001b[0;34m\u001b[0m\u001b[0m\n\u001b[1;32m      9\u001b[0m \u001b[0;31m# plt.title(\"Mean localisation error across number of sources\")\u001b[0m\u001b[0;34m\u001b[0m\u001b[0;34m\u001b[0m\u001b[0m\n",
      "\u001b[0;31mTypeError\u001b[0m: 'str' object is not callable"
     ]
    },
    {
     "data": {
      "image/png": "[encoded data removed]",
      "text/plain": [
       "<matplotlib.figure.Figure at 0x113ff5f98>"
      ]
     },
     "metadata": {},
     "output_type": "display_data"
    }
   ],
   "source": [
    "from matplotlib2tikz import save as tikz_save\n",
    "\n",
    "plt.bar(eval_data.index, height=eval_data['mean_err'])\n",
    "# plt.xticks([\"{} sources\".format(x) for x in n_sources_range])\n",
    "plt.xticks(n_sources_range)\n",
    "plt.yticks([0.1, 0.2, 0.3])\n",
    "plt.xlabel(\"number of sources\")\n",
    "plt.ylabel(\"mean localisation error (m)\")\n",
    "# plt.title(\"Mean localisation error across number of sources\")\n",
    "# plt.show()\n",
    "tikz_save('../latex/data/plots/mean-err-n-sources-bar.tex')"
   ]
  },
  {
   "cell_type": "markdown",
   "metadata": {},
   "source": [
    "### Export results to LaTeX"
   ]
  },
  {
   "cell_type": "code",
   "execution_count": 555,
   "metadata": {},
   "outputs": [
    {
     "name": "stdout",
     "output_type": "stream",
     "text": [
      "  n_trials mean_err\n",
      "2       60     0.02\n",
      "3       60     0.08\n",
      "4       60     0.08\n",
      "5       60     0.26\n"
     ]
    }
   ],
   "source": [
    "# DataFrame.to_latex(buf=None, columns=None, col_space=None, header=True, index=True, na_rep='NaN',\n",
    "#                    formatters=None, float_format=None, sparsify=None, index_names=True, bold_rows=False,\n",
    "#                    column_format=None, longtable=None, escape=None, encoding=None, decimal='.',\n",
    "#                    multicolumn=None, multicolumn_format=None, multirow=None)[source]\n",
    "\n",
    "eval_data.to_latex('../latex/data/tables/mean-err-n-sources.tex', column_format=\"rcc\", bold_rows=True)\n",
    "print(eval_data)"
   ]
  },
  {
   "cell_type": "markdown",
   "metadata": {},
   "source": [
    "### Boxplot"
   ]
  },
  {
   "cell_type": "code",
   "execution_count": 556,
   "metadata": {},
   "outputs": [
    {
     "ename": "TypeError",
     "evalue": "'str' object is not callable",
     "output_type": "error",
     "traceback": [
      "\u001b[0;31m---------------------------------------------------------------------------\u001b[0m",
      "\u001b[0;31mTypeError\u001b[0m                                 Traceback (most recent call last)",
      "\u001b[0;32m<ipython-input-556-07b01e38b5c2>\u001b[0m in \u001b[0;36m<module>\u001b[0;34m()\u001b[0m\n\u001b[1;32m      9\u001b[0m \u001b[0mdfs\u001b[0m\u001b[0;34m.\u001b[0m\u001b[0mcolumns\u001b[0m \u001b[0;34m=\u001b[0m \u001b[0;34m[\u001b[0m\u001b[0;34m'err'\u001b[0m\u001b[0;34m,\u001b[0m\u001b[0;34m'sources'\u001b[0m\u001b[0;34m]\u001b[0m\u001b[0;34m\u001b[0m\u001b[0m\n\u001b[1;32m     10\u001b[0m \u001b[0mdfs\u001b[0m\u001b[0;34m.\u001b[0m\u001b[0mboxplot\u001b[0m\u001b[0;34m(\u001b[0m\u001b[0mby\u001b[0m\u001b[0;34m=\u001b[0m\u001b[0;34m'sources'\u001b[0m\u001b[0;34m,\u001b[0m\u001b[0mfigsize\u001b[0m\u001b[0;34m=\u001b[0m\u001b[0;34m(\u001b[0m\u001b[0;36m4\u001b[0m\u001b[0;34m,\u001b[0m\u001b[0;36m14\u001b[0m\u001b[0;34m)\u001b[0m\u001b[0;34m,\u001b[0m\u001b[0;34m)\u001b[0m\u001b[0;34m\u001b[0m\u001b[0m\n\u001b[0;32m---> 11\u001b[0;31m \u001b[0mplt\u001b[0m\u001b[0;34m.\u001b[0m\u001b[0mtitle\u001b[0m\u001b[0;34m(\u001b[0m\u001b[0;34m\"\"\u001b[0m\u001b[0;34m)\u001b[0m\u001b[0;34m\u001b[0m\u001b[0m\n\u001b[0m\u001b[1;32m     12\u001b[0m \u001b[0mplt\u001b[0m\u001b[0;34m.\u001b[0m\u001b[0mxlabel\u001b[0m\u001b[0;34m(\u001b[0m\u001b[0;34m\"\"\u001b[0m\u001b[0;34m)\u001b[0m\u001b[0;34m\u001b[0m\u001b[0m\n\u001b[1;32m     13\u001b[0m \u001b[0mtikz_save\u001b[0m\u001b[0;34m(\u001b[0m\u001b[0;34m'../latex/data/plots/mean-err-n-sources-box.tex'\u001b[0m\u001b[0;34m)\u001b[0m\u001b[0;34m\u001b[0m\u001b[0m\n",
      "\u001b[0;31mTypeError\u001b[0m: 'str' object is not callable"
     ]
    },
    {
     "data": {
      "image/png": "[encoded data removed]",
      "text/plain": [
       "<matplotlib.figure.Figure at 0x11538dbe0>"
      ]
     },
     "metadata": {},
     "output_type": "display_data"
    }
   ],
   "source": [
    "frames = []\n",
    "total_trials = 0\n",
    "for n_source, res in results_dict.items():\n",
    "    df_err = pd.DataFrame(res.loc[:, 'err1':].mean(axis=1))\n",
    "    df_source = pd.DataFrame(columns=['n'], index=_get_trial_index(len(res)), data=n_source)\n",
    "    df_err['sources'] = df_source\n",
    "    frames.append(df_err)\n",
    "dfs = pd.concat(frames, ignore_index=True) # different indices\n",
    "dfs.columns = ['err','sources']\n",
    "dfs.boxplot(by='sources',figsize=(4,14),)\n",
    "plt.title(\"\")\n",
    "plt.xlabel(\"\")\n",
    "tikz_save('../latex/data/plots/mean-err-n-sources-box.tex')"
   ]
  },
  {
   "cell_type": "markdown",
   "metadata": {},
   "source": [
    "### Scatter Plot"
   ]
  },
  {
   "cell_type": "code",
   "execution_count": 557,
   "metadata": {},
   "outputs": [
    {
     "ename": "TypeError",
     "evalue": "'str' object is not callable",
     "output_type": "error",
     "traceback": [
      "\u001b[0;31m---------------------------------------------------------------------------\u001b[0m",
      "\u001b[0;31mTypeError\u001b[0m                                 Traceback (most recent call last)",
      "\u001b[0;32m<ipython-input-557-e69aaadb2928>\u001b[0m in \u001b[0;36m<module>\u001b[0;34m()\u001b[0m\n\u001b[1;32m      3\u001b[0m \u001b[0mplt\u001b[0m\u001b[0;34m.\u001b[0m\u001b[0myticks\u001b[0m\u001b[0;34m(\u001b[0m\u001b[0;34m[\u001b[0m\u001b[0;36m0.5\u001b[0m\u001b[0;34m,\u001b[0m \u001b[0;36m1.0\u001b[0m\u001b[0;34m,\u001b[0m \u001b[0;36m1.5\u001b[0m\u001b[0;34m,\u001b[0m \u001b[0;36m2.0\u001b[0m\u001b[0;34m]\u001b[0m\u001b[0;34m)\u001b[0m\u001b[0;34m\u001b[0m\u001b[0m\n\u001b[1;32m      4\u001b[0m \u001b[0mplt\u001b[0m\u001b[0;34m.\u001b[0m\u001b[0mgrid\u001b[0m\u001b[0;34m(\u001b[0m\u001b[0;32mTrue\u001b[0m\u001b[0;34m,\u001b[0m \u001b[0maxis\u001b[0m\u001b[0;34m=\u001b[0m\u001b[0;34m'y'\u001b[0m\u001b[0;34m)\u001b[0m\u001b[0;34m\u001b[0m\u001b[0m\n\u001b[0;32m----> 5\u001b[0;31m \u001b[0mplt\u001b[0m\u001b[0;34m.\u001b[0m\u001b[0mxlabel\u001b[0m\u001b[0;34m(\u001b[0m\u001b[0;34m\"number of sources\"\u001b[0m\u001b[0;34m)\u001b[0m\u001b[0;34m\u001b[0m\u001b[0m\n\u001b[0m\u001b[1;32m      6\u001b[0m \u001b[0mplt\u001b[0m\u001b[0;34m.\u001b[0m\u001b[0mylabel\u001b[0m\u001b[0;34m(\u001b[0m\u001b[0;34m\"mean localisation error (m)\"\u001b[0m\u001b[0;34m)\u001b[0m\u001b[0;34m\u001b[0m\u001b[0m\n\u001b[1;32m      7\u001b[0m \u001b[0mplt\u001b[0m\u001b[0;34m.\u001b[0m\u001b[0mtitle\u001b[0m\u001b[0;34m(\u001b[0m\u001b[0;34m\"Mean localisation error across number of sources\"\u001b[0m\u001b[0;34m)\u001b[0m\u001b[0;34m\u001b[0m\u001b[0m\n",
      "\u001b[0;31mTypeError\u001b[0m: 'str' object is not callable"
     ]
    },
    {
     "data": {
      "image/png": "[encoded data removed]",
      "text/plain": [
       "<matplotlib.figure.Figure at 0x11451d2e8>"
      ]
     },
     "metadata": {},
     "output_type": "display_data"
    }
   ],
   "source": [
    "plt.scatter(dfs['sources'], dfs['err'], alpha=0.2)\n",
    "plt.xticks(n_sources_range)\n",
    "plt.yticks([0.5, 1.0, 1.5, 2.0])\n",
    "plt.grid(True, axis='y')\n",
    "plt.xlabel(\"number of sources\")\n",
    "plt.ylabel(\"mean localisation error (m)\")\n",
    "plt.title(\"Mean localisation error across number of sources\")\n",
    "plt.show()\n",
    "tikz_save('../latex/data/plots/mean-err-n-sources-scatter.tex')"
   ]
  },
  {
   "cell_type": "code",
   "execution_count": null,
   "metadata": {
    "collapsed": true
   },
   "outputs": [],
   "source": []
  }
 ],
 "metadata": {
  "kernelspec": {
   "display_name": "Python 3",
   "language": "python",
   "name": "python3"
  },
  "language_info": {
   "codemirror_mode": {
    "name": "ipython",
    "version": 3
   },
   "file_extension": ".py",
   "mimetype": "text/x-python",
   "name": "python",
   "nbconvert_exporter": "python",
   "pygments_lexer": "ipython3",
   "version": "3.6.2"
  }
 },
 "nbformat": 4,
 "nbformat_minor": 2
}
