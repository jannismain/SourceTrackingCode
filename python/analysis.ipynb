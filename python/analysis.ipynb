{
 "cells": [
  {
   "cell_type": "markdown",
   "metadata": {},
   "source": [
    "# Mean Error Analysis"
   ]
  },
  {
   "cell_type": "code",
   "execution_count": 143,
   "metadata": {
    "scrolled": true
   },
   "outputs": [],
   "source": [
    "EXPORT_LATEX = False\n",
    "\n",
    "%matplotlib inline \n",
    "# %matplotlib notebook would provide interactive plots\n",
    "\n",
    "import glob\n",
    "import csv\n",
    "from os import path\n",
    "\n",
    "import pandas as pd\n",
    "import matplotlib\n",
    "import numpy as np\n",
    "import matplotlib.pyplot as plt\n",
    "from matplotlib2tikz import save as _tikz_save\n",
    "\n",
    "pd.set_option('display.precision', 3,\n",
    "              'display.width', 300)\n",
    "\n",
    "PATH_ROOT = '../matlab/mainczjs/evaluation/results/'\n",
    "PATH_LATEX_PLOTS = '../latex/data/plots/'\n",
    "PATH_LATEX_TABLES = '../latex/data/tables/'\n",
    "\n",
    "NAME_FOLDER = \"fixed-em-iterations-5\"\n",
    "NAME_EVALUATION = NAME_FOLDER\n",
    "NAME_DATA_FILES = '*results.txt'\n",
    "NAME_DATAFRAME = NAME_EVALUATION+'.pkl'\n",
    "\n",
    "NAME_SCATTER_PLOT = NAME_EVALUATION+'-scatter.tex'\n",
    "NAME_BOX_PLOT = NAME_EVALUATION+'-box.tex'\n",
    "NAME_BAR_PLOT = NAME_EVALUATION+'-bar.tex'\n",
    "NAME_SUMMARY_TABLE = NAME_EVALUATION+'-summary.tex'\n",
    "NAME_PERFECT_MATCHES_PLOT = NAME_EVALUATION+'-perfect-matches-bar.tex'\n",
    "PATH_SCATTER_PLOT = path.join(PATH_LATEX_PLOTS, NAME_SCATTER_PLOT)\n",
    "PATH_BOX_PLOT = path.join(PATH_LATEX_PLOTS, NAME_BOX_PLOT)\n",
    "PATH_BAR_PLOT = path.join(PATH_LATEX_PLOTS, NAME_BAR_PLOT)\n",
    "PATH_LATEX_SUMMARY_TABLE = path.join(PATH_LATEX_TABLES, NAME_SUMMARY_TABLE)\n",
    "\n",
    "lms_red = (204/255, 53/255, 56/255)\n",
    "\n",
    "DICT_SUMMARY = {'x1':'count',  # sample size\n",
    "                'em':np.mean,  # em-iterations\n",
    "                'T60':np.mean,\n",
    "                'SNR':np.mean,\n",
    "                'err_mean':np.mean,\n",
    "                'perfect_match':np.mean}\n",
    "\n",
    "DEFAULT_LINE_PLOT_ARGS = {'kind':'line',\n",
    "                          'marker':'o',\n",
    "                          'color':[lms_red, \"darkgray\", \"lightgray\", \"orange\", \"black\"]}\n",
    "\n",
    "def _get_trial_index(t):\n",
    "    return [\"t{}\".format(i+1) for i in range(t)]\n",
    "\n",
    "def _get_col_name(s,post):\n",
    "    return sum([(\"x{}{},y{}{}\".format(n,post,n,post)).split(',') for n in range(1,s+1)],[])\n",
    "\n",
    "def _get_err_col_name(s):\n",
    "    return [\"err{}\".format(n) for n in range(1,s+1)]\n",
    "\n",
    "def get_col_names(s):\n",
    "    return sum([_get_col_name(s,\"\"), _get_col_name(s,\"est\"), _get_err_col_name(s)], []) \n",
    "\n",
    "def is_x1_correct(row):\n",
    "    if abs(row[\"x1\"]-row[\"x1est\"]) > 0.001:\n",
    "        if abs(row[\"y1\"]-row[\"y1est\"]) > 0.001:\n",
    "            return 1\n",
    "    return 0\n",
    "\n",
    "def tikz_save(*args, **kwargs):\n",
    "    \"\"\"Wrapper for tikz_save function, that always suppresses additional info output\"\"\"\n",
    "    kwargs['show_info'] = False \n",
    "    _tikz_save(*args, **kwargs)\n",
    "\n",
    "def adjust_y_axis(step_size, digits=0, min=None):\n",
    "    start, end = plt.axes().get_ylim()\n",
    "    if min==None: min=start\n",
    "    plt.yticks(np.arange(min, round(end+step_size, digits), step_size))\n",
    "\n",
    "def scatter_plot(df, xaxis='n_sources', yaxis='err_mean'):\n",
    "    x = df[xaxis].values\n",
    "    y = df[yaxis].values\n",
    "    means = df.groupby([xaxis]).mean()[yaxis]\n",
    "    medians = df.groupby([xaxis]).median()[yaxis]\n",
    "    plt.scatter(x, y, alpha=0.1, c=\"gray\")\n",
    "    plt.scatter(means.index.values, means.values, alpha=1.0, c=lms_red, marker=\"o\", linewidth=\"4\", label=\"mean\")\n",
    "    plt.scatter(medians.index.values, medians.values, alpha=1.0, c=\"black\", marker=\"_\", linewidth=\"2\", label=\"median\")\n",
    "    # plt.xticks(n_sources_range)\n",
    "    adjust_y_axis(step_size=0.5, digits=2, min=0)\n",
    "    plt.grid(True, axis='y')\n",
    "    plt.xlabel(\"number of sources\")\n",
    "    plt.ylabel(\"mean localisation error (m)\")\n",
    "    l = plt.legend()\n",
    "    if EXPORT_LATEX:\n",
    "        tikz_save(PATH_SCATTER_PLOT, show_info=False)\n",
    "\n",
    "def style_boxplot(boxplots, fig=None, axes=None):\n",
    "    if not type(boxplots)==type([]): boxplots=[boxplots]\n",
    "    if not fig: fig = boxplots[0][0].ax.get_figure()\n",
    "    if not axes: axes = [boxplots[0][0].ax]\n",
    "    for bp in boxplots:\n",
    "        for key in bp[0].lines.keys():\n",
    "            for item in bp[0].lines[key]:\n",
    "                if key==\"fliers\":\n",
    "                    item.set_markerfacecolor(\"lightgray\")\n",
    "                    item.set_markeredgewidth(0)\n",
    "                    item.set_markeredgecolor(lms_red)\n",
    "                    item.set_markersize(7)\n",
    "                if key==\"medians\":\n",
    "                    item.set_color(lms_red)\n",
    "                    item.set_linewidth(3)\n",
    "                if key==\"whiskers\" or key==\"caps\":\n",
    "                    item.set_color(\"gray\")\n",
    "                else:\n",
    "                    item.set_color(lms_red)\n",
    "    if axes:\n",
    "        for ax in axes:\n",
    "            ax.set_title(\"\")\n",
    "            ax.set_xlabel(\"number of sources\")\n",
    "            ax.set_ylabel(\"mean localisation error (m)\")\n",
    "            ax.grid(axis=\"x\")\n",
    "    if fig:\n",
    "        fig.suptitle('')\n",
    "\n",
    "def print_summary(df):\n",
    "    print(df.description[1].upper()+\":\")\n",
    "    summary = df.groupby('n_sources').agg(DICT_SUMMARY).rename(columns={'x1':'n', 'em':'em-iterations'})\n",
    "    print(summary.transpose())\n",
    "    for col in ['T60', 'em', 'SNR']:  # Print additional notes for these columns\n",
    "        if df[col].min()!=df[col].max():\n",
    "            col_values = df.pivot_table(\"x1\", index=[col], columns=[\"n_sources\"], aggfunc=\"count\")\n",
    "            if col_values.min().min()==col_values.max().max():\n",
    "                n=col_values.min().min()\n",
    "            else:\n",
    "                if (col_values.min(axis=1).values-col_values.max(axis=1)).sum() == 0:\n",
    "                    n = col_values.min(axis=1).values\n",
    "                else:\n",
    "                    print(\"WARN: Unbalanced n_sources for {}\".format(col))\n",
    "                    n=\"?\"\n",
    "            print(\"NOTE: Data contains range of {col} ({values}, n={n})\".format(col=col, values=col_values.index.values, n=n))\n",
    "    print()  # empty line at the end\n",
    "            \n",
    "def parse_parameters(fname):\n",
    "    done=False\n",
    "    s=0\n",
    "    ret = {}\n",
    "    while not done:\n",
    "        i = fname.find(\"_\", s)\n",
    "        i2 = fname.find(\"_\", i+1)\n",
    "        s=i2\n",
    "        if i < 0 or i2 < 0:\n",
    "            done=True\n",
    "            break\n",
    "        else:\n",
    "            fname_slice = fname[i+1:i2]\n",
    "            name, value = fname_slice.split(\"=\", 1)\n",
    "            ret[name]=value\n",
    "    return ret\n",
    "        \n",
    "def matlab2pandas(dirname=NAME_FOLDER, filename=NAME_DATA_FILES, save_to=None):\n",
    "    files = glob.glob(path.join(PATH_ROOT,dirname,filename))\n",
    "    dfs = []\n",
    "    \n",
    "    # read data\n",
    "    for f in files:\n",
    "        # look at filename\n",
    "        fname = f.split(sep=\"/\")[-1]\n",
    "        params = parse_parameters(fname)\n",
    "        n_sources = int(params[\"s\"])\n",
    "        # prepare DataFrame\n",
    "        df = pd.DataFrame(list(csv.reader(open(f, 'r'), delimiter='\\t')), dtype=float)\n",
    "        df.drop(df.columns[[n_sources*4+n_sources]], axis=1, inplace=True) # drops empty column\n",
    "        df.columns = get_col_names(n_sources)\n",
    "        df.index = [\"t{}\".format(i+1) for i in range(len(df))]\n",
    "        for key, value in params.items():\n",
    "            df[key] = np.float(value)\n",
    "        df[\"description\"] = dirname\n",
    "        dfs.append(df)\n",
    "    df = pd.concat(dfs)\n",
    "    \n",
    "    # edit data\n",
    "    df.rename(columns={'s':'n_sources'}, inplace=True)\n",
    "    df['SNR'] = df['SNR'].apply(int)\n",
    "    df['em'] = df['em'].apply(int)\n",
    "    df['n_sources'] = df['n_sources'].apply(int)\n",
    "    df[\"err_mean\"]      = df.loc[:, \"err1\":_get_err_col_name(n_sources)[-1]].mean(axis=1)\n",
    "    df[\"err_total\"]     = df.loc[:, \"err1\":_get_err_col_name(n_sources)[-1]].sum(axis=1)\n",
    "    df[\"perfect_match\"] = df[\"err_total\"]<=0.01\n",
    "    \n",
    "    print_summary(df)\n",
    "\n",
    "    # export data\n",
    "    if save_to: \n",
    "        df.to_pickle(save_to+\".pkl\")\n",
    "\n",
    "    return df"
   ]
  },
  {
   "cell_type": "code",
   "execution_count": 161,
   "metadata": {},
   "outputs": [
    {
     "name": "stdout",
     "output_type": "stream",
     "text": [
      "T60:\n",
      "n_sources            2        3        4        5        6        7\n",
      "n              100.000  100.000  100.000  100.000  100.000  100.000\n",
      "em-iterations   10.000   10.000   10.000   10.000   10.000   10.000\n",
      "T60              0.300    0.300    0.300    0.300    0.300    0.300\n",
      "SNR              0.000    0.000    0.000    0.000    0.000    0.000\n",
      "err_mean         0.104    0.169    0.257    0.408    0.414    0.449\n",
      "perfect_match    0.550    0.270    0.090    0.030    0.000    0.000\n",
      "\n"
     ]
    },
    {
     "data": {
      "image/png": "[encoded data removed]",
      "text/plain": [
       "<matplotlib.figure.Figure at 0x1143abb38>"
      ]
     },
     "metadata": {},
     "output_type": "display_data"
    }
   ],
   "source": [
    "dft = df[df[\"em\"]==10]\n",
    "dft = dft[dft[\"T60\"]==0.3]\n",
    "print_summary(dft)\n",
    "scatter_plot(dft)"
   ]
  },
  {
   "cell_type": "markdown",
   "metadata": {},
   "source": [
    "## Base"
   ]
  },
  {
   "cell_type": "code",
   "execution_count": 123,
   "metadata": {},
   "outputs": [
    {
     "name": "stdout",
     "output_type": "stream",
     "text": [
      "BASE:\n",
      "n_sources            2        3        4        5        6        7\n",
      "n              100.000  100.000  100.000  100.000  100.000  100.000\n",
      "em-iterations   10.000   10.000   10.000   10.000   10.000   10.000\n",
      "T60              0.000    0.000    0.000    0.000    0.000    0.000\n",
      "SNR              0.000    0.000    0.000    0.000    0.000    0.000\n",
      "err_mean         0.035    0.023    0.137    0.157    0.255    0.329\n",
      "perfect_match    0.930    0.860    0.620    0.440    0.270    0.190\n"
     ]
    },
    {
     "data": {
      "image/png": "[encoded data removed]",
      "text/plain": [
       "<matplotlib.figure.Figure at 0x115768588>"
      ]
     },
     "metadata": {},
     "output_type": "display_data"
    }
   ],
   "source": [
    "dfs = []\n",
    "for desc in ['base']:\n",
    "    dfs.append(matlab2pandas(dirname=desc, save_to=path.join(PATH_ROOT, desc)))\n",
    "df = pd.concat(dfs)\n",
    "dfp = df.pivot_table(\"err_mean\", index=\"description\", columns=\"n_sources\", aggfunc='mean').transpose()\n",
    "ax = dfp.plot(**DEFAULT_LINE_PLOT_ARGS, grid=True)"
   ]
  },
  {
   "cell_type": "markdown",
   "metadata": {},
   "source": [
    "## Fixed EM-Iterations"
   ]
  },
  {
   "cell_type": "code",
   "execution_count": 124,
   "metadata": {},
   "outputs": [
    {
     "name": "stdout",
     "output_type": "stream",
     "text": [
      "FIXED-EM-ITERATIONS:\n",
      "n_sources            2        3        4        5        6        7\n",
      "n              150.000  150.000  150.000  150.000  150.000  150.000\n",
      "em-iterations   11.667   11.667   11.667   11.667   11.667   11.667\n",
      "T60              0.600    0.600    0.600    0.600    0.600    0.600\n",
      "SNR              0.000    0.000    0.000    0.000    0.000    0.000\n",
      "err_mean         0.195    0.260    0.385    0.469    0.515    0.633\n",
      "perfect_match    0.313    0.113    0.013    0.007    0.000    0.000\n",
      "NOTE: Data contains range of em ([ 5 10 20], n=50)\n",
      "\n"
     ]
    },
    {
     "data": {
      "image/png": "[encoded data removed]",
      "text/plain": [
       "<matplotlib.figure.Figure at 0x11555bf98>"
      ]
     },
     "metadata": {},
     "output_type": "display_data"
    }
   ],
   "source": [
    "dfs = []\n",
    "for desc in ['fixed-em-iterations']:\n",
    "    dfs.append(matlab2pandas(dirname=desc, save_to=path.join(PATH_ROOT, desc)))\n",
    "df = pd.concat(dfs, ignore_index=True)\n",
    "\n",
    "dfp = df.pivot_table(\"err_mean\", index=[\"em\", \"T60\"], columns=\"n_sources\", aggfunc='mean').transpose()\n",
    "dfp.plot(**DEFAULT_LINE_PLOT_ARGS)\n",
    "# Style plot\n",
    "plt.xlabel(\"number of sources\")\n",
    "plt.ylabel(\"mean localisation error (m)\")\n",
    "plt.grid(axis=\"y\")\n",
    "adjust_y_axis(0.05, 2, 0)"
   ]
  },
  {
   "cell_type": "markdown",
   "metadata": {},
   "source": [
    "## T60"
   ]
  },
  {
   "cell_type": "code",
   "execution_count": 125,
   "metadata": {},
   "outputs": [
    {
     "name": "stdout",
     "output_type": "stream",
     "text": [
      "T60:\n",
      "n_sources            2        3       4        5        6        7\n",
      "n              200.000  200.000  200.00  200.000  200.000  200.000\n",
      "em-iterations   10.000   10.000   10.00   10.000   10.000   10.000\n",
      "T60              0.600    0.600    0.60    0.600    0.600    0.600\n",
      "SNR              0.000    0.000    0.00    0.000    0.000    0.000\n",
      "err_mean         0.149    0.233    0.35    0.507    0.528    0.515\n",
      "perfect_match    0.385    0.155    0.05    0.015    0.000    0.000\n",
      "NOTE: Data contains range of T60 ([ 0.3  0.9], n=100)\n",
      "\n",
      "FIXED-EM-ITERATIONS:\n",
      "n_sources            2        3        4        5        6        7\n",
      "n              150.000  150.000  150.000  150.000  150.000  150.000\n",
      "em-iterations   11.667   11.667   11.667   11.667   11.667   11.667\n",
      "T60              0.600    0.600    0.600    0.600    0.600    0.600\n",
      "SNR              0.000    0.000    0.000    0.000    0.000    0.000\n",
      "err_mean         0.195    0.260    0.385    0.469    0.515    0.633\n",
      "perfect_match    0.313    0.113    0.013    0.007    0.000    0.000\n",
      "NOTE: Data contains range of em ([ 5 10 20], n=50)\n",
      "\n",
      "BASE:\n",
      "n_sources            2        3        4        5        6        7\n",
      "n              100.000  100.000  100.000  100.000  100.000  100.000\n",
      "em-iterations   10.000   10.000   10.000   10.000   10.000   10.000\n",
      "T60              0.000    0.000    0.000    0.000    0.000    0.000\n",
      "SNR              0.000    0.000    0.000    0.000    0.000    0.000\n",
      "err_mean         0.035    0.023    0.137    0.157    0.255    0.329\n",
      "perfect_match    0.930    0.860    0.620    0.440    0.270    0.190\n"
     ]
    },
    {
     "data": {
      "image/png": "[encoded data removed]",
      "text/plain": [
       "<matplotlib.figure.Figure at 0x11554d4a8>"
      ]
     },
     "metadata": {},
     "output_type": "display_data"
    }
   ],
   "source": [
    "dfs = []\n",
    "for desc in ['T60', 'fixed-em-iterations', 'base']:\n",
    "    dfs.append(matlab2pandas(dirname=desc, save_to=path.join(PATH_ROOT, desc)))\n",
    "df = pd.concat(dfs)\n",
    "\n",
    "dfp = df[df[\"em\"]==10].pivot_table(\"err_mean\", index=[\"em\", \"T60\"], columns=\"n_sources\", aggfunc='mean').transpose()\n",
    "dfp.plot(**DEFAULT_LINE_PLOT_ARGS)\n",
    "# Style plot\n",
    "plt.xlabel(\"number of sources\")\n",
    "plt.ylabel(\"mean localisation error (m)\")\n",
    "plt.grid(axis=\"y\")\n",
    "adjust_y_axis(0.05, 2, 0)"
   ]
  },
  {
   "cell_type": "markdown",
   "metadata": {},
   "source": [
    "# Analyse DataFrame"
   ]
  },
  {
   "cell_type": "markdown",
   "metadata": {},
   "source": [
    "### Plot"
   ]
  },
  {
   "cell_type": "markdown",
   "metadata": {},
   "source": [
    "### Examine Outliers"
   ]
  },
  {
   "cell_type": "code",
   "execution_count": null,
   "metadata": {
    "collapsed": true
   },
   "outputs": [],
   "source": [
    "print(results[results[\"err_mean\"]>=1.5])"
   ]
  },
  {
   "cell_type": "markdown",
   "metadata": {},
   "source": [
    "# Compare DataFrames"
   ]
  },
  {
   "cell_type": "markdown",
   "metadata": {},
   "source": [
    "## Mean error"
   ]
  },
  {
   "cell_type": "code",
   "execution_count": null,
   "metadata": {
    "collapsed": true
   },
   "outputs": [],
   "source": [
    "dfcp = dfc.pivot_table(\"err_mean\", index=\"version\", columns=\"n_sources\", aggfunc='mean').transpose()\n",
    "dfcp.plot(kind='line', marker='o', color=[lms_red, \"darkgray\", \"lightgray\", \"orange\", \"black\"])\n",
    "# Style plot\n",
    "plt.xlabel(\"number of sources\")\n",
    "plt.ylabel(\"mean localisation error (m)\")\n",
    "plt.grid(axis=\"y\")\n",
    "print(dfcp)"
   ]
  },
  {
   "cell_type": "code",
   "execution_count": null,
   "metadata": {
    "collapsed": true
   },
   "outputs": [],
   "source": [
    "# Box Plot\n",
    "bp = dfc.boxplot('err_mean', by=[\"n_sources\", \"version\"], return_type='both', figsize=(17,  12), showmeans=True, meanline=True)\n",
    "style_boxplot(bp)\n",
    "\n",
    "if EXPORT_LATEX:\n",
    "    tikz_save(PATH_BOX_PLOT, show_info=False)"
   ]
  },
  {
   "cell_type": "markdown",
   "metadata": {},
   "source": [
    "### Perfect matches"
   ]
  },
  {
   "cell_type": "code",
   "execution_count": null,
   "metadata": {
    "collapsed": true
   },
   "outputs": [],
   "source": [
    "dfcp = dfc.pivot_table(\"perfect_match\", index=\"version\", columns=\"n_sources\", aggfunc='mean').transpose()\n",
    "dfcp.plot(kind='line', marker='o', color=[lms_red, \"darkgrey\", \"lightgray\", \"black\", \"darkgrey\", \"darkgrey\"])\n",
    "# Style plot\n",
    "plt.xlabel(\"number of sources\")\n",
    "plt.ylabel(\"perfect matches\")\n",
    "plt.grid(axis=\"y\")\n",
    "# print(dfcp)"
   ]
  },
  {
   "cell_type": "markdown",
   "metadata": {},
   "source": [
    "## Effect of em_iterations "
   ]
  },
  {
   "cell_type": "code",
   "execution_count": null,
   "metadata": {},
   "outputs": [],
   "source": [
    "files = glob.glob(path.join(PATH_ROOT, 'mean-err-n-sources-rnd-T60=0.6-em*-dataframe.pkl'))\n",
    "from pprint import pprint\n",
    "print(\"The following files match the criterion:\")\n",
    "\n",
    "dfs = []\n",
    "for f in files:\n",
    "    df = pd.read_pickle(f)\n",
    "    fname = f.split(sep=\"/\")[-1]\n",
    "    print(fname)\n",
    "    T60 = fname[fname.find(\"T60\")+4:fname.find(\"T60\")+7]\n",
    "    df[\"T60\"] = T60\n",
    "    em_iterations = fname[fname.find(\"em=\")+3:fname.find(\"em=\")+5]\n",
    "    if \"-\" in em_iterations: em_iterations = em_iterations[0]  # if em_iterations is a single digit\n",
    "    df[\"em_iterations\"] = em_iterations\n",
    "    dfs.append(df)\n",
    "\n",
    "dfc = pd.concat(dfs, ignore_index=True)\n",
    "print(\"\\nSUMMARY:\")\n",
    "print(dfc.groupby(by=[\"em_iterations\", \"n_sources\", \"T60\"]).agg({'x1':'count', 'err_mean':np.mean, 'perfect_match':np.mean}).rename(columns={'x1':'sample size'}))"
   ]
  },
  {
   "cell_type": "markdown",
   "metadata": {},
   "source": [
    "## Other"
   ]
  },
  {
   "cell_type": "markdown",
   "metadata": {},
   "source": [
    "### Significance testing"
   ]
  },
  {
   "cell_type": "code",
   "execution_count": null,
   "metadata": {
    "collapsed": true
   },
   "outputs": [],
   "source": [
    "from scipy.stats import ttest_ind, describe, norm\n",
    "from statsmodels.formula.api import ols\n",
    "\n",
    "means = []\n",
    "stddevs = []\n",
    "\n",
    "fig, ax = plt.subplots(1,3, figsize=(17,  6))\n",
    "\n",
    "# extract err_mean per n_sources\n",
    "cat = {}\n",
    "for n in n_sources_range:\n",
    "    cat[str(n)] = results[results['n_sources']==n]['err_mean']\n",
    "\n",
    "x = np.linspace(0,1.5,100)\n",
    "print(\"DESCRIPTIVE ANALYSIS:\")\n",
    "for n, c in cat.items():\n",
    "    dr = describe(c)\n",
    "    means.append(dr.mean)\n",
    "    stddevs.append(np.sqrt(dr.variance))\n",
    "    y = norm.pdf(x, loc=dr.mean, scale=np.sqrt(dr.variance))\n",
    "    plt.subplot(131)\n",
    "    plt.plot(x, y, label=n)  # plot gaussian\n",
    "    print(\"{} sources: n={:3}, min={:0.3f}, max={:0.3f}, mean={:0.3f}, variance={:0.3f}, std.dev={:0.3f}\".format(\n",
    "        n, dr.nobs, dr.minmax[0], dr.minmax[1], dr.mean, dr.variance, np.sqrt(dr.variance)))\n",
    "plt.legend()\n",
    "\n",
    "plt.subplot(132)\n",
    "plt.boxplot(list(cat.values()), showmeans=True, meanline=True)\n",
    "\n",
    "plt.subplot(133)\n",
    "plt.boxplot(list(cat.values()), showmeans=True, meanline=True)\n",
    "plt.ylim(-0.01, 0.31)\n",
    "plt.yticks([0, 0.1, 0.2, 0.3])\n",
    "# plt.plot([n_sources_range, n_sources_range], [means, stddevs], marker=\"o\")  # plot mean\n",
    "# plt.title(\"Means\")\n",
    "# plt.plot()\n",
    "# plt.subplot(133)\n",
    "# plt.plot(stddevs)  # plot variance\n",
    "\n",
    "# This means that given p and t values from a two-tailed test, you would reject the null hypothesis \n",
    "# of a greater-than test when p/2 < alpha and t > 0, and of a less-than test when p/2 < alpha and t < 0.    \n",
    "\n",
    "print(\"\\nT-TEST FOR DIFFERENCE IN MEANS:\")\n",
    "for i1 in n_sources_range:\n",
    "    for i2 in n_sources_range:\n",
    "        if i1!=i2 and i2>i1 and i2<=i1+1:\n",
    "            ttest = ttest_ind(cat[str(i2)], cat[str(i1)], equal_var=False)\n",
    "            p_onesided = ttest.pvalue/2\n",
    "            if p_onesided <= 0.01:sign=\"***\"\n",
    "            elif p_onesided <= 0.05: sign=\"**\"\n",
    "            elif p_onesided <= 0.10: sign=\"*\"\n",
    "            else: sign=\"(n.s.)\"\n",
    "            print(\"{}x{}: t={t.statistic:0.3f}, p={p:0.3f} {s:^6}\".format(i1, i2, t=ttest, p=p_onesided, s=sign))\n",
    "\n",
    "print(\"\\nVISUALIZE MEANS AND VARIANCE OF DATA:\")"
   ]
  },
  {
   "cell_type": "markdown",
   "metadata": {},
   "source": [
    "## Guessing at random"
   ]
  },
  {
   "cell_type": "code",
   "execution_count": null,
   "metadata": {},
   "outputs": [],
   "source": [
    "dfs = []\n",
    "for desc in ['guessing-at-random', 'base']:\n",
    "    dfs.append(matlab2pandas(dirname=desc, save_to=path.join(PATH_ROOT, desc)))\n",
    "df = pd.concat(dfs)\n",
    "\n",
    "dfp = df.pivot_table(\"err_mean\", columns=\"n_sources\", aggfunc='max').transpose()\n",
    "dfp.plot(kind='line', marker='o', color=[lms_red, \"darkgray\", \"lightgray\", \"orange\", \"black\"])\n",
    "# Style plot\n",
    "plt.xlabel(\"number of sources\")\n",
    "plt.ylabel(\"mean localisation error (m)\")\n",
    "plt.grid(axis=\"y\")\n",
    "adjust_y_axis(0.2, 1, 0)"
   ]
  },
  {
   "cell_type": "markdown",
   "metadata": {
    "collapsed": true
   },
   "source": [
    "## T60"
   ]
  },
  {
   "cell_type": "code",
   "execution_count": null,
   "metadata": {
    "collapsed": true
   },
   "outputs": [],
   "source": []
  }
 ],
 "metadata": {
  "kernelspec": {
   "display_name": "Python 3",
   "language": "python",
   "name": "python3"
  },
  "language_info": {
   "codemirror_mode": {
    "name": "ipython",
    "version": 3
   },
   "file_extension": ".py",
   "mimetype": "text/x-python",
   "name": "python",
   "nbconvert_exporter": "python",
   "pygments_lexer": "ipython3",
   "version": "3.6.2"
  }
 },
 "nbformat": 4,
 "nbformat_minor": 2
}
