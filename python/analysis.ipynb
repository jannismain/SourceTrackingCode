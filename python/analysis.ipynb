{
 "cells": [
  {
   "cell_type": "markdown",
   "metadata": {},
   "source": [
    "# Create DataFrame"
   ]
  },
  {
   "cell_type": "code",
   "execution_count": 1,
   "metadata": {
    "collapsed": true
   },
   "outputs": [],
   "source": [
    "# Configuration\n",
    "\n",
    "# NAME_EVALUATION = 'mean-err-n-sources'\n",
    "# NAME_FOLDER = \"{}sources\"\n",
    "# NAME_DATA_FILES = '2017-10-04*.txt'  # 1st trials, original speech samples\n",
    "\n",
    "# NAME_EVALUATION = 'mean-err-n-sources-sample3and5exchanged'\n",
    "# NAME_FOLDER = \"{}sources\"\n",
    "# NAME_DATA_FILES = '2017-10-11*.txt'  # 2nd trials, rearranged speech samples\n",
    "\n",
    "# NAME_EVALUATION = 'mean-err-n-sources-rnd-T60=0.0'\n",
    "# NAME_FOLDER = \"{}sources-rnd\"\n",
    "# NAME_DATA_FILES = '2017-*results.txt'  # 3rd trials, BASE\n",
    "\n",
    "# NAME_EVALUATION = 'mean-err-n-sources-rnd-T60=0.3'\n",
    "# NAME_FOLDER = \"{}sources-rnd-T60\"\n",
    "# NAME_DATA_FILES = '2017-*0.3T60*results.txt'  # 4th trials, T60=0.3\n",
    "\n",
    "# NAME_EVALUATION = 'mean-err-n-sources-rnd-T60=0.6-em=5'\n",
    "# NAME_FOLDER = \"{}sources-rnd-T60\"\n",
    "# NAME_DATA_FILES = '2017-*0.6T60*5em_results.txt'  # 5th trials, T60=0.6, em=5\n",
    "\n",
    "# NAME_EVALUATION = 'mean-err-n-sources-rnd-T60=0.6-em=10'\n",
    "# NAME_FOLDER = \"{}sources-rnd-T60\"\n",
    "# NAME_DATA_FILES = '2017-*0.6T60*10em_results.txt'  # 6th trials, T60=0.6, em=10\n",
    "\n",
    "# NAME_EVALUATION = 'mean-err-n-sources-rnd-estimates'\n",
    "# NAME_FOLDER = \"{}sources-rnd-estimates\"\n",
    "# NAME_DATA_FILES = '*results.txt'  # 7th trials, random estimates (benchmark)\n",
    "\n",
    "EXPORT_LATEX = False"
   ]
  },
  {
   "cell_type": "code",
   "execution_count": 2,
   "metadata": {
    "scrolled": true
   },
   "outputs": [
    {
     "name": "stdout",
     "output_type": "stream",
     "text": [
      "\n"
     ]
    }
   ],
   "source": [
    "%matplotlib inline \n",
    "# %matplotlib notebook would provide interactive plots\n",
    "\n",
    "import glob\n",
    "import csv\n",
    "from os import path\n",
    "\n",
    "import pandas as pd\n",
    "import matplotlib\n",
    "import numpy as np\n",
    "import matplotlib.pyplot as plt\n",
    "from matplotlib2tikz import save as _tikz_save\n",
    "\n",
    "pd.set_option('display.precision',3)\n",
    "\n",
    "PATH_ROOT = '../matlab/mainczjs/evaluation/results/'\n",
    "PATH_LATEX_PLOTS = '../latex/data/plots/'\n",
    "PATH_LATEX_TABLES = '../latex/data/tables/'\n",
    "\n",
    "NAME_FOLDER = \"fixed-em-iterations-5\"\n",
    "NAME_EVALUATION = NAME_FOLDER\n",
    "NAME_DATA_FILES = '*results.txt'\n",
    "NAME_DATAFRAME = NAME_EVALUATION+'.pkl'\n",
    "\n",
    "NAME_SCATTER_PLOT = NAME_EVALUATION+'-scatter.tex'\n",
    "NAME_BOX_PLOT = NAME_EVALUATION+'-box.tex'\n",
    "NAME_BAR_PLOT = NAME_EVALUATION+'-bar.tex'\n",
    "NAME_SUMMARY_TABLE = NAME_EVALUATION+'-summary.tex'\n",
    "NAME_PERFECT_MATCHES_PLOT = NAME_EVALUATION+'-perfect-matches-bar.tex'\n",
    "PATH_SCATTER_PLOT = path.join(PATH_LATEX_PLOTS, NAME_SCATTER_PLOT)\n",
    "PATH_BOX_PLOT = path.join(PATH_LATEX_PLOTS, NAME_BOX_PLOT)\n",
    "PATH_BAR_PLOT = path.join(PATH_LATEX_PLOTS, NAME_BAR_PLOT)\n",
    "PATH_LATEX_SUMMARY_TABLE = path.join(PATH_LATEX_TABLES, NAME_SUMMARY_TABLE)\n",
    "\n",
    "lms_red = (204/255, 53/255, 56/255)\n",
    "\n",
    "def _get_trial_index(t):\n",
    "    return [\"t{}\".format(i+1) for i in range(t)]\n",
    "\n",
    "def _get_col_name(s,post):\n",
    "    return sum([(\"x{}{},y{}{}\".format(n,post,n,post)).split(',') for n in range(1,s+1)],[])\n",
    "\n",
    "def _get_err_col_name(s):\n",
    "    return [\"err{}\".format(n) for n in range(1,s+1)]\n",
    "\n",
    "def get_col_names(s):\n",
    "    return sum([_get_col_name(s,\"\"), _get_col_name(s,\"est\"), _get_err_col_name(s)], []) \n",
    "\n",
    "def is_x1_correct(row):\n",
    "    if abs(row[\"x1\"]-row[\"x1est\"]) > 0.001:\n",
    "        if abs(row[\"y1\"]-row[\"y1est\"]) > 0.001:\n",
    "            return 1\n",
    "    return 0\n",
    "\n",
    "def tikz_save(*args, **kwargs):\n",
    "    \"\"\"Wrapper for tikz_save function, that always suppresses additional info output\"\"\"\n",
    "    kwargs['show_info'] = False \n",
    "    _tikz_save(*args, **kwargs)\n",
    "\n",
    "def adjust_y_axis(step_size, digits=0, min=None):\n",
    "    start, end = plt.axes().get_ylim()\n",
    "    if min==None: min=start\n",
    "    plt.yticks(np.arange(min, round(end+step_size, digits), step_size))\n",
    "\n",
    "def style_boxplot(boxplots, fig=None, axes=None):\n",
    "    if not type(boxplots)==type([]): boxplots=[boxplots]\n",
    "    if not fig: fig = boxplots[0][0].ax.get_figure()\n",
    "    if not axes: axes = [boxplots[0][0].ax]\n",
    "    for bp in boxplots:\n",
    "        for key in bp[0].lines.keys():\n",
    "            for item in bp[0].lines[key]:\n",
    "                if key==\"fliers\":\n",
    "                    item.set_markerfacecolor(\"lightgray\")\n",
    "                    item.set_markeredgewidth(0)\n",
    "                    item.set_markeredgecolor(lms_red)\n",
    "                    item.set_markersize(7)\n",
    "                if key==\"medians\":\n",
    "                    item.set_color(lms_red)\n",
    "                    item.set_linewidth(3)\n",
    "                if key==\"whiskers\" or key==\"caps\":\n",
    "                    item.set_color(\"gray\")\n",
    "                else:\n",
    "                    item.set_color(lms_red)\n",
    "    if axes:\n",
    "        for ax in axes:\n",
    "            ax.set_title(\"\")\n",
    "            ax.set_xlabel(\"number of sources\")\n",
    "            ax.set_ylabel(\"mean localisation error (m)\")\n",
    "            ax.grid(axis=\"x\")\n",
    "    if fig:\n",
    "        fig.suptitle('')\n",
    "\n",
    "def parse_parameters(fname):\n",
    "    done=False\n",
    "    s=0\n",
    "    ret = {}\n",
    "    while not done:\n",
    "        i = fname.find(\"_\", s)\n",
    "        i2 = fname.find(\"_\", i+1)\n",
    "        s=i2\n",
    "        if i < 0 or i2 < 0:\n",
    "            done=True\n",
    "            break\n",
    "        else:\n",
    "            fname_slice = fname[i+1:i2]\n",
    "            name, value = fname_slice.split(\"=\", 1)\n",
    "            ret[name]=value\n",
    "    return ret\n",
    "        \n",
    "def matlab2pandas(dirname=NAME_FOLDER, filename=NAME_DATA_FILES, save_to=None):\n",
    "    files = glob.glob(path.join(PATH_ROOT,dirname,filename))\n",
    "    dfs = []\n",
    "    for f in files:\n",
    "        # look at filename\n",
    "        fname = f.split(sep=\"/\")[-1]\n",
    "        params = parse_parameters(fname)\n",
    "        n_sources = int(params[\"s\"])\n",
    "        # prepare DataFrame\n",
    "        df = pd.DataFrame(list(csv.reader(open(f, 'r'), delimiter='\\t')), dtype=float)\n",
    "        df.drop(df.columns[[n_sources*4+n_sources]], axis=1, inplace=True) # drops empty column\n",
    "        df.columns = get_col_names(n_sources)\n",
    "        df.index = [\"t{}\".format(i+1) for i in range(len(df))]\n",
    "        for key, value in params.items():\n",
    "            df[key] = value\n",
    "        dfs.append(df)\n",
    "    \n",
    "    df = pd.concat(dfs)\n",
    "    df.rename(columns={'s':'n_sources'}, inplace=True)\n",
    "    df[\"err_mean\"]      = df.loc[:, \"err1\":_get_err_col_name(n_sources)[-1]].mean(axis=1)\n",
    "    df[\"err_total\"]     = df.loc[:, \"err1\":_get_err_col_name(n_sources)[-1]].sum(axis=1)\n",
    "    df[\"perfect_match\"] = df[\"err_total\"]<=0.01\n",
    "\n",
    "    print(dirname.upper()+\":\")\n",
    "    summary = df.groupby('n_sources').agg({'x1':'count', 'err_mean':np.mean, 'perfect_match':np.mean}).rename(columns={'x1':'sample size'})\n",
    "    print(summary.transpose(), end='\\n\\n')\n",
    "\n",
    "    if save_to: \n",
    "        df.to_pickle(save_to+\".pkl\")\n",
    "\n",
    "    return df"
   ]
  },
  {
   "cell_type": "markdown",
   "metadata": {},
   "source": [
    "## Get Data"
   ]
  },
  {
   "cell_type": "code",
   "execution_count": 3,
   "metadata": {},
   "outputs": [
    {
     "name": "stdout",
     "output_type": "stream",
     "text": [
      "FIXED-EM-ITERATIONS-5:\n",
      "n_sources           2       3       4       5       6       7\n",
      "sample size    50.000  50.000  50.000  40.000  40.000  40.000\n",
      "err_mean        0.157   0.272   0.364   0.416   0.384   0.428\n",
      "perfect_match   0.300   0.120   0.000   0.000   0.000   0.025\n",
      "\n",
      "FIXED-EM-ITERATIONS-10:\n",
      "n_sources           2       3       4       5      6       7\n",
      "sample size    50.000  50.000  50.000  50.000  50.00  40.000\n",
      "err_mean        0.184   0.253   0.423   0.453   0.48   0.549\n",
      "perfect_match   0.360   0.080   0.020   0.020   0.00   0.000\n",
      "\n"
     ]
    },
    {
     "data": {
      "image/png": "[encoded data removed]",
      "text/plain": [
       "<matplotlib.figure.Figure at 0x10ca2c860>"
      ]
     },
     "metadata": {},
     "output_type": "display_data"
    }
   ],
   "source": [
    "df1 = matlab2pandas(dirname='fixed-em-iterations-5', save_to=path.join(PATH_ROOT, 'fixed-em-iterations-5'))\n",
    "# ax1 = df1.groupby('n_sources').agg({'x1':'count', 'err_mean':np.mean, 'perfect_match':np.mean}).err_mean.plot(kind=\"line\")\n",
    "df2 = matlab2pandas(dirname='fixed-em-iterations-10', save_to=path.join(PATH_ROOT, 'fixed-em-iterations-10'))\n",
    "# df2.groupby('n_sources').agg({'x1':'count', 'err_mean':np.mean, 'perfect_match':np.mean}).err_mean.plot(kind=\"line\")\n",
    "df = pd.concat([df1, df2])\n",
    "\n",
    "dfp = df.pivot_table(\"err_mean\", index=\"em\", columns=\"n_sources\", aggfunc='mean').transpose()\n",
    "dfp.plot(kind='line', marker='o', color=[lms_red, \"darkgray\", \"lightgray\", \"orange\", \"black\"])\n",
    "# Style plot\n",
    "plt.xlabel(\"number of sources\")\n",
    "plt.ylabel(\"mean localisation error (m)\")\n",
    "plt.grid(axis=\"y\")\n",
    "adjust_y_axis(0.05, 2, 0)"
   ]
  },
  {
   "cell_type": "code",
   "execution_count": null,
   "metadata": {
    "collapsed": true
   },
   "outputs": [],
   "source": []
  },
  {
   "cell_type": "code",
   "execution_count": null,
   "metadata": {},
   "outputs": [],
   "source": [
    "n_sources_range = [1, 2, 3, 4, 5, 6, 7]\n",
    "results_dict = {}\n",
    "\n",
    "for s in n_sources_range:\n",
    "    # define filename format\n",
    "    files = glob.glob(path.join(PATH_ROOT,NAME_FOLDER.format(s), NAME_DATA_FILES))\n",
    "\n",
    "    # load data\n",
    "    dfs = []\n",
    "    for f in files:\n",
    "        dfs.append(pd.DataFrame(list(csv.reader(open(f, 'r'), delimiter='\\t')), dtype=float))\n",
    "    try:   \n",
    "        results = pd.concat(dfs)\n",
    "    except ValueError:\n",
    "        continue\n",
    "    n_trials = len(results)\n",
    "    n_sources = int((len(results.columns)-1)/5)\n",
    "    results.drop(results.columns[[n_sources*4+n_sources]], axis=1, inplace=True) # drops empty column\n",
    "    results.columns = get_col_names(n_sources)\n",
    "    results.index = [\"t{}\".format(i+1) for i in range(n_trials)]\n",
    "    results_dict['{}'.format(n_sources)] = results\n",
    "    \n",
    "    # calculate helper columns\n",
    "    results['n_sources']     = n_sources\n",
    "    results[\"err_mean\"]      = results.loc[:, \"err1\":_get_err_col_name(s)[-1]].mean(axis=1)\n",
    "    results[\"err_total\"]     = results.loc[:, \"err1\":_get_err_col_name(s)[-1]].sum(axis=1)\n",
    "    results[\"perfect_match\"] = results[\"err_total\"]<=0.01\n",
    "\n",
    "try:   \n",
    "    results = pd.concat(results_dict, ignore_index=True)\n",
    "except ValueError:\n",
    "    print(\"NO DATA FOUND!\")\n",
    "\n",
    "print(\"SUMMARY:\")\n",
    "summary = results.groupby('n_sources').agg({'x1':'count', 'err_mean':np.mean, 'perfect_match':np.mean}).rename(columns={'x1':'sample size'})\n",
    "print(summary.transpose())\n",
    "\n",
    "# print(\"\")\n",
    "# print(\"COMPLETE DATA:\")\n",
    "# print(results.sample(5))\n",
    "if EXPORT_RESULTS:\n",
    "    results.to_pickle(path.join(PATH_ROOT, NAME_DATAFRAME))\n",
    "if EXPORT_LATEX:\n",
    "    summary.transpose().to_latex(PATH_LATEX_SUMMARY_TABLE, column_format=\"rrrrrrr\", bold_rows=True)"
   ]
  },
  {
   "cell_type": "markdown",
   "metadata": {},
   "source": [
    "# Analyse DataFrame"
   ]
  },
  {
   "cell_type": "markdown",
   "metadata": {},
   "source": [
    "### Plot"
   ]
  },
  {
   "cell_type": "code",
   "execution_count": null,
   "metadata": {},
   "outputs": [],
   "source": [
    "# Scatter Plot\n",
    "x = pd.to_numeric(results['n_sources'].values)  # without to_numeric(), tikz_save() fails (TypeError: str instead of int)\n",
    "y = results[\"err_mean\"].values\n",
    "print()\n",
    "means = results.groupby(['n_sources']).mean()[\"err_mean\"]\n",
    "medians = results.groupby(['n_sources']).median()[\"err_mean\"]\n",
    "plt.scatter(x, y, alpha=0.1, c=\"gray\")\n",
    "plt.scatter(means.index.values, means.values, alpha=1.0, c=lms_red, marker=\"o\", linewidth=\"4\", label=\"mean\")\n",
    "plt.scatter(medians.index.values, medians.values, alpha=1.0, c=\"black\", marker=\"_\", linewidth=\"2\", label=\"median\")\n",
    "plt.xticks(n_sources_range)\n",
    "adjust_y_axis(step_size=0.5, digits=2, min=0)\n",
    "plt.grid(True, axis='y')\n",
    "plt.xlabel(\"number of sources\")\n",
    "plt.ylabel(\"mean localisation error (m)\")\n",
    "l = plt.legend()\n",
    "if EXPORT_LATEX:\n",
    "    tikz_save(PATH_SCATTER_PLOT, show_info=False)"
   ]
  },
  {
   "cell_type": "markdown",
   "metadata": {},
   "source": [
    "### Examine Outliers"
   ]
  },
  {
   "cell_type": "code",
   "execution_count": null,
   "metadata": {},
   "outputs": [],
   "source": [
    "# print(results[results[\"err_mean\"]>=1].loc[:, \"x1\":\"x2est\"])\n",
    "print(results[results[\"err_mean\"]>=1.5])"
   ]
  },
  {
   "cell_type": "markdown",
   "metadata": {},
   "source": [
    "# Compare DataFrames"
   ]
  },
  {
   "cell_type": "markdown",
   "metadata": {},
   "source": [
    "## Load data"
   ]
  },
  {
   "cell_type": "code",
   "execution_count": null,
   "metadata": {},
   "outputs": [],
   "source": [
    "files = glob.glob(path.join(PATH_ROOT, 'mean-err-n-sources-rnd-T60*-dataframe.pkl'))\n",
    "files2 = glob.glob(path.join(PATH_ROOT, 'mean-err-n-sources-rnd-estimates-dataframe.pkl'))\n",
    "from pprint import pprint\n",
    "print(\"The following files match the criterion:\")\n",
    "\n",
    "dfs = []\n",
    "for f in files:\n",
    "    df = pd.read_pickle(f)\n",
    "    fname = f.split(sep=\"/\")[-1]\n",
    "    print(fname)\n",
    "    version = fname[fname.find(\"rnd-\")+4:fname.find(\"-dataframe\")]\n",
    "    if version==\"\": version=\"latest\"\n",
    "    df[\"version\"] = version\n",
    "    dfs.append(df)\n",
    "\n",
    "for f in files2:\n",
    "    df = pd.read_pickle(f)\n",
    "    fname = f.split(sep=\"/\")[-1]\n",
    "    print(fname)\n",
    "    df[\"version\"] = \"random\"\n",
    "    dfs.append(df)\n",
    "\n",
    "dfc = pd.concat(dfs, ignore_index=True)\n",
    "print(\"\\nSUMMARY:\")\n",
    "print(dfc.groupby(by=[\"version\", \"n_sources\"]).agg({'x1':'count', 'err_mean':np.mean, 'perfect_match':np.mean}).rename(columns={'x1':'sample size'}))"
   ]
  },
  {
   "cell_type": "markdown",
   "metadata": {},
   "source": [
    "## Mean error"
   ]
  },
  {
   "cell_type": "code",
   "execution_count": null,
   "metadata": {},
   "outputs": [],
   "source": [
    "dfcp = dfc.pivot_table(\"err_mean\", index=\"version\", columns=\"n_sources\", aggfunc='mean').transpose()\n",
    "dfcp.plot(kind='line', marker='o', color=[lms_red, \"darkgray\", \"lightgray\", \"orange\", \"black\"])\n",
    "# Style plot\n",
    "plt.xlabel(\"number of sources\")\n",
    "plt.ylabel(\"mean localisation error (m)\")\n",
    "plt.grid(axis=\"y\")\n",
    "print(dfcp)"
   ]
  },
  {
   "cell_type": "code",
   "execution_count": null,
   "metadata": {},
   "outputs": [],
   "source": [
    "# Box Plot\n",
    "bp = dfc.boxplot('err_mean', by=[\"n_sources\", \"version\"], return_type='both', figsize=(17,  12), showmeans=True, meanline=True)\n",
    "style_boxplot(bp)\n",
    "\n",
    "if EXPORT_LATEX:\n",
    "    tikz_save(PATH_BOX_PLOT, show_info=False)"
   ]
  },
  {
   "cell_type": "markdown",
   "metadata": {},
   "source": [
    "### Perfect matches"
   ]
  },
  {
   "cell_type": "code",
   "execution_count": null,
   "metadata": {},
   "outputs": [],
   "source": [
    "dfcp = dfc.pivot_table(\"perfect_match\", index=\"version\", columns=\"n_sources\", aggfunc='mean').transpose()\n",
    "dfcp.plot(kind='line', marker='o', color=[lms_red, \"darkgrey\", \"lightgray\", \"black\", \"darkgrey\", \"darkgrey\"])\n",
    "# Style plot\n",
    "plt.xlabel(\"number of sources\")\n",
    "plt.ylabel(\"perfect matches\")\n",
    "plt.grid(axis=\"y\")\n",
    "# print(dfcp)"
   ]
  },
  {
   "cell_type": "markdown",
   "metadata": {},
   "source": [
    "## Effect of em_iterations "
   ]
  },
  {
   "cell_type": "code",
   "execution_count": null,
   "metadata": {},
   "outputs": [],
   "source": [
    "files = glob.glob(path.join(PATH_ROOT, 'mean-err-n-sources-rnd-T60=0.6-em*-dataframe.pkl'))\n",
    "from pprint import pprint\n",
    "print(\"The following files match the criterion:\")\n",
    "\n",
    "dfs = []\n",
    "for f in files:\n",
    "    df = pd.read_pickle(f)\n",
    "    fname = f.split(sep=\"/\")[-1]\n",
    "    print(fname)\n",
    "    T60 = fname[fname.find(\"T60\")+4:fname.find(\"T60\")+7]\n",
    "    df[\"T60\"] = T60\n",
    "    em_iterations = fname[fname.find(\"em=\")+3:fname.find(\"em=\")+5]\n",
    "    if \"-\" in em_iterations: em_iterations = em_iterations[0]  # if em_iterations is a single digit\n",
    "    df[\"em_iterations\"] = em_iterations\n",
    "    dfs.append(df)\n",
    "\n",
    "dfc = pd.concat(dfs, ignore_index=True)\n",
    "print(\"\\nSUMMARY:\")\n",
    "print(dfc.groupby(by=[\"em_iterations\", \"n_sources\", \"T60\"]).agg({'x1':'count', 'err_mean':np.mean, 'perfect_match':np.mean}).rename(columns={'x1':'sample size'}))"
   ]
  },
  {
   "cell_type": "markdown",
   "metadata": {},
   "source": [
    "## Other"
   ]
  },
  {
   "cell_type": "markdown",
   "metadata": {},
   "source": [
    "### Significance testing"
   ]
  },
  {
   "cell_type": "code",
   "execution_count": null,
   "metadata": {},
   "outputs": [],
   "source": [
    "from scipy.stats import ttest_ind, describe, norm\n",
    "from statsmodels.formula.api import ols\n",
    "\n",
    "means = []\n",
    "stddevs = []\n",
    "\n",
    "fig, ax = plt.subplots(1,3, figsize=(17,  6))\n",
    "\n",
    "# extract err_mean per n_sources\n",
    "cat = {}\n",
    "for n in n_sources_range:\n",
    "    cat[str(n)] = results[results['n_sources']==n]['err_mean']\n",
    "\n",
    "x = np.linspace(0,1.5,100)\n",
    "print(\"DESCRIPTIVE ANALYSIS:\")\n",
    "for n, c in cat.items():\n",
    "    dr = describe(c)\n",
    "    means.append(dr.mean)\n",
    "    stddevs.append(np.sqrt(dr.variance))\n",
    "    y = norm.pdf(x, loc=dr.mean, scale=np.sqrt(dr.variance))\n",
    "    plt.subplot(131)\n",
    "    plt.plot(x, y, label=n)  # plot gaussian\n",
    "    print(\"{} sources: n={:3}, min={:0.3f}, max={:0.3f}, mean={:0.3f}, variance={:0.3f}, std.dev={:0.3f}\".format(\n",
    "        n, dr.nobs, dr.minmax[0], dr.minmax[1], dr.mean, dr.variance, np.sqrt(dr.variance)))\n",
    "plt.legend()\n",
    "\n",
    "plt.subplot(132)\n",
    "plt.boxplot(list(cat.values()), showmeans=True, meanline=True)\n",
    "\n",
    "plt.subplot(133)\n",
    "plt.boxplot(list(cat.values()), showmeans=True, meanline=True)\n",
    "plt.ylim(-0.01, 0.31)\n",
    "plt.yticks([0, 0.1, 0.2, 0.3])\n",
    "# plt.plot([n_sources_range, n_sources_range], [means, stddevs], marker=\"o\")  # plot mean\n",
    "# plt.title(\"Means\")\n",
    "# plt.plot()\n",
    "# plt.subplot(133)\n",
    "# plt.plot(stddevs)  # plot variance\n",
    "\n",
    "# This means that given p and t values from a two-tailed test, you would reject the null hypothesis \n",
    "# of a greater-than test when p/2 < alpha and t > 0, and of a less-than test when p/2 < alpha and t < 0.    \n",
    "\n",
    "print(\"\\nT-TEST FOR DIFFERENCE IN MEANS:\")\n",
    "for i1 in n_sources_range:\n",
    "    for i2 in n_sources_range:\n",
    "        if i1!=i2 and i2>i1 and i2<=i1+1:\n",
    "            ttest = ttest_ind(cat[str(i2)], cat[str(i1)], equal_var=False)\n",
    "            p_onesided = ttest.pvalue/2\n",
    "            if p_onesided <= 0.01:sign=\"***\"\n",
    "            elif p_onesided <= 0.05: sign=\"**\"\n",
    "            elif p_onesided <= 0.10: sign=\"*\"\n",
    "            else: sign=\"(n.s.)\"\n",
    "            print(\"{}x{}: t={t.statistic:0.3f}, p={p:0.3f} {s:^6}\".format(i1, i2, t=ttest, p=p_onesided, s=sign))\n",
    "\n",
    "print(\"\\nVISUALIZE MEANS AND VARIANCE OF DATA:\")"
   ]
  },
  {
   "cell_type": "code",
   "execution_count": null,
   "metadata": {},
   "outputs": [],
   "source": [
    "import pandas as pd\n",
    "import numpy as np\n",
    "from matplotlib import pyplot as plt\n",
    "from itertools import groupby\n",
    "\n",
    "def test_table():\n",
    "    data_table = pd.DataFrame({'version':['v1']*4 + ['v2']*4,\n",
    "                               'n_sources':(['2']*2 + ['3']*2)*2,\n",
    "                               'Quantity':[10,20,5,6,4,7,2,1],\n",
    "                               'Ordered':np.random.randint(0,10,8)\n",
    "                               })\n",
    "    return data_table\n",
    "\n",
    "def add_line(ax, xpos, ypos):\n",
    "    line = plt.Line2D([xpos, xpos], [ypos + .1, ypos],\n",
    "                      transform=ax.transAxes, color='black')\n",
    "    line.set_clip_on(False)\n",
    "    ax.add_line(line)\n",
    "\n",
    "def label_len(my_index,level):\n",
    "    labels = my_index.get_level_values(level)\n",
    "    return [(k, sum(1 for i in g)) for k,g in groupby(labels)]\n",
    "\n",
    "def label_group_bar_table(ax, df):\n",
    "    ypos = -.1\n",
    "    scale = 1./df.index.size\n",
    "    for level in range(df.index.nlevels)[::-1]:\n",
    "        pos = 0\n",
    "        for label, rpos in label_len(df.index,level):\n",
    "            lxpos = (pos + .5 * rpos)*scale\n",
    "            ax.text(lxpos, ypos, label, ha='center', transform=ax.transAxes)\n",
    "            add_line(ax, pos*scale, ypos)\n",
    "            pos += rpos\n",
    "        add_line(ax, pos*scale , ypos)\n",
    "        ypos -= .1\n",
    "\n",
    "df = dfc.groupby(['n_sources','version']).mean()[\"err_mean\"]\n",
    "fig = plt.figure(figsize=(17,5))\n",
    "ax = fig.add_subplot(111)\n",
    "df.plot(kind='bar',stacked=False,ax=fig.gca(),color=[lms_red,'black', 'gray'])\n",
    "#Below 3 lines remove default labels\n",
    "labels = ['' for item in ax.get_xticklabels()]\n",
    "ax.set_xticklabels(labels)\n",
    "ax.set_xlabel('')\n",
    "label_group_bar_table(ax, df)\n",
    "fig.subplots_adjust(bottom=.1*df.index.nlevels)"
   ]
  },
  {
   "cell_type": "markdown",
   "metadata": {},
   "source": [
    "## Guessing at random"
   ]
  },
  {
   "cell_type": "code",
   "execution_count": 7,
   "metadata": {},
   "outputs": [
    {
     "name": "stdout",
     "output_type": "stream",
     "text": [
      "GUESSING-AT-RANDOM:\n",
      "n_sources          1      2      3      4      5      6      7      8      9\n",
      "sample size      500    500    500    500    500    500    500    500    500\n",
      "err_mean        1.96   1.68   1.54   1.42   1.36   1.26   1.23   1.15   1.13\n",
      "perfect_match  False  False  False  False  False  False  False  False  False\n",
      "\n",
      "FIXED-EM-ITERATIONS-5:\n",
      "n_sources           2       3       4       5       6       7\n",
      "sample size    50.000  50.000  50.000  50.000  50.000  50.000\n",
      "err_mean        0.157   0.272   0.364   0.521   0.551   0.675\n",
      "perfect_match   0.300   0.120   0.000   0.000   0.000   0.000\n",
      "\n",
      "FIXED-EM-ITERATIONS-10:\n",
      "n_sources           2       3       4       5      6       7\n",
      "sample size    50.000  50.000  50.000  50.000  50.00  50.000\n",
      "err_mean        0.184   0.253   0.423   0.453   0.48   0.583\n",
      "perfect_match   0.360   0.080   0.020   0.020   0.00   0.000\n",
      "\n"
     ]
    },
    {
     "data": {
      "image/png": "[encoded data removed]",
      "text/plain": [
       "<matplotlib.figure.Figure at 0x10e901080>"
      ]
     },
     "metadata": {},
     "output_type": "display_data"
    }
   ],
   "source": [
    "dfs = []\n",
    "for desc in ['guessing-at-random', 'fixed-em-iterations-5', 'fixed-em-iterations-10']:\n",
    "    dfs.append(matlab2pandas(dirname=desc, save_to=path.join(PATH_ROOT, desc)))\n",
    "df = pd.concat(dfs)\n",
    "\n",
    "dfp = df.pivot_table(\"err_mean\", index=\"em\", columns=\"n_sources\", aggfunc='max').transpose()\n",
    "dfp.plot(kind='line', marker='o', color=[lms_red, \"darkgray\", \"lightgray\", \"orange\", \"black\"])\n",
    "# Style plot\n",
    "plt.xlabel(\"number of sources\")\n",
    "plt.ylabel(\"mean localisation error (m)\")\n",
    "plt.grid(axis=\"y\")\n",
    "adjust_y_axis(0.2, 1, 0)"
   ]
  },
  {
   "cell_type": "code",
   "execution_count": null,
   "metadata": {
    "collapsed": true
   },
   "outputs": [],
   "source": []
  }
 ],
 "metadata": {
  "kernelspec": {
   "display_name": "Python 3",
   "language": "python",
   "name": "python3"
  },
  "language_info": {
   "codemirror_mode": {
    "name": "ipython",
    "version": 3
   },
   "file_extension": ".py",
   "mimetype": "text/x-python",
   "name": "python",
   "nbconvert_exporter": "python",
   "pygments_lexer": "ipython3",
   "version": "3.6.2"
  }
 },
 "nbformat": 4,
 "nbformat_minor": 2
}
