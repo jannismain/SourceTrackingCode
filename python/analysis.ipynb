{
 "cells": [
  {
   "cell_type": "markdown",
   "metadata": {},
   "source": [
    "# Source Tracking Thesis"
   ]
  },
  {
   "cell_type": "code",
   "execution_count": 190,
   "metadata": {
    "collapsed": true
   },
   "outputs": [],
   "source": [
    "%matplotlib inline \n",
    "# %matplotlib notebook would provide interactive plots\n",
    "\n",
    "import glob\n",
    "import csv\n",
    "from os import path\n",
    "\n",
    "import pandas as pd\n",
    "import matplotlib\n",
    "import numpy as np\n",
    "import matplotlib.pyplot as plt\n",
    "\n",
    "path_root = '../matlab/mainczjs/evaluation/results/'\n",
    "lms_red = (204/255, 53/255, 56/255)\n",
    "\n",
    "def _get_trial_index(t):\n",
    "    return [\"t{}\".format(i+1) for i in range(t)]\n",
    "\n",
    "def _get_col_name(s,post):\n",
    "    return sum([(\"x{}{},y{}{}\".format(n,post,n,post)).split(',') for n in range(1,s+1)],[])\n",
    "\n",
    "def _get_err_col_name(s):\n",
    "    return [\"err{}\".format(n) for n in range(1,s+1)]\n",
    "\n",
    "def get_col_names(s):\n",
    "    return sum([_get_col_name(s,\"\"), _get_col_name(s,\"est\"), _get_err_col_name(s)], []) \n",
    "\n",
    "def is_x1_correct(row):\n",
    "    if abs(row[\"x1\"]-row[\"x1est\"]) > 0.001:\n",
    "        if abs(row[\"y1\"]-row[\"y1est\"]) > 0.001:\n",
    "            return 1\n",
    "    return 0"
   ]
  },
  {
   "cell_type": "markdown",
   "metadata": {},
   "source": [
    "## Evaluate Mean Error"
   ]
  },
  {
   "cell_type": "code",
   "execution_count": 206,
   "metadata": {},
   "outputs": [],
   "source": [
    "eval_columns = ['n_trials', 'mean_err']\n",
    "n_sources_range = [2, 3, 4, 5, 6, 7]\n",
    "results_dict = {}\n",
    "eval_index = n_sources_range\n",
    "eval_data = pd.DataFrame(index=range(0,len(n_sources_range)),columns=eval_columns)\n",
    "eval_data.index = eval_index\n",
    "\n",
    "for s in n_sources_range:\n",
    "    # define filename format\n",
    "    files = glob.glob(path.join(path_root,\"{}sources\".format(s),'*.txt'))\n",
    "\n",
    "    # load data\n",
    "    dfs = []\n",
    "    for f in files:\n",
    "        dfs.append(pd.DataFrame(list(csv.reader(open(f, 'r'), delimiter='\\t')), dtype=float))\n",
    "    results = pd.concat(dfs)\n",
    "    n_trials = len(results)\n",
    "    n_sources = int((len(results.columns)-1)/5)\n",
    "    results.drop(results.columns[[n_sources*4+n_sources]], axis=1, inplace=True) \n",
    "    results.columns = get_col_names(n_sources)\n",
    "    results.index = [\"t{}\".format(i+1) for i in range(n_trials)]\n",
    "    results_dict['{}'.format(n_sources)] = results\n",
    "    # preview data\n",
    "    # print(results.sample(5))\n",
    "    # print(results.sample(5).loc[:,'x1':'y2'])\n",
    "    # print(results.sample(5).loc[:,\"err1\":])\n",
    "    # print(results.loc[:,\"err1\":])\n",
    "    \n",
    "    # calculate statistics\n",
    "    mean_err = results.mean()[-n_sources:].mean()\n",
    "    # results.apply(is_x1_correct,axis=0)\n",
    "    \n",
    "    # saving statistics to eval_data\n",
    "    eval_data.set_value(n_sources, 'n_trials', n_trials)\n",
    "    eval_data.set_value(n_sources, 'mean_err', round(mean_err,3))\n",
    "    \n",
    "    # output statistics\n",
    "    # print(\"# Sources: {}, # Trials: {}, Mean Error: {:0.2f}\".format(n_sources, n_trials, mean_err))"
   ]
  },
  {
   "cell_type": "markdown",
   "metadata": {},
   "source": [
    "### Plot results"
   ]
  },
  {
   "cell_type": "code",
   "execution_count": 207,
   "metadata": {},
   "outputs": [
    {
     "name": "stdout",
     "output_type": "stream",
     "text": [
      "=========================================================\n",
      "Please add the following lines to your LaTeX preamble:\n",
      "\n",
      "\\usepackage[utf8]{inputenc}\n",
      "\\usepackage{fontspec} % This line only for XeLaTeX and LuaLaTeX\n",
      "\\usepackage{pgfplots}\n",
      "=========================================================\n",
      "Horizontal alignment will be ignored as no 'x tick label text width' has been passed in the 'extra' parameter\n",
      "Horizontal alignment will be ignored as no 'y tick label text width' has been passed in the 'extra' parameter\n"
     ]
    },
    {
     "data": {
      "image/png": "[encoded data removed]",
      "text/plain": [
       "<matplotlib.figure.Figure at 0x10b561630>"
      ]
     },
     "metadata": {},
     "output_type": "display_data"
    }
   ],
   "source": [
    "from matplotlib2tikz import save as tikz_save\n",
    "\n",
    "plt.bar(eval_data.index, height=eval_data['mean_err'], color=lms_red)\n",
    "# plt.xticks([\"{} sources\".format(x) for x in n_sources_range])\n",
    "plt.xticks(n_sources_range)\n",
    "plt.yticks([0.1, 0.2, 0.3])\n",
    "plt.xlabel(\"number of sources\")\n",
    "plt.ylabel(\"mean localisation error (m)\")\n",
    "# plt.title(\"Mean localisation error across number of sources\")\n",
    "# plt.show()\n",
    "tikz_save('../latex/data/plots/mean-err-n-sources-bar.tex')"
   ]
  },
  {
   "cell_type": "markdown",
   "metadata": {},
   "source": [
    "### Export results to LaTeX"
   ]
  },
  {
   "cell_type": "code",
   "execution_count": 213,
   "metadata": {},
   "outputs": [
    {
     "name": "stdout",
     "output_type": "stream",
     "text": [
      "             2      3      4      5      6      7\n",
      "n_trials    70     60     60     60     60     60\n",
      "mean_err  0.02  0.079  0.077  0.256  0.295  0.294\n"
     ]
    }
   ],
   "source": [
    "eval_data.transpose().to_latex('../latex/data/tables/mean-err-n-sources.tex', column_format=\"rrrrrrr\", bold_rows=True)\n",
    "print(eval_data.transpose())"
   ]
  },
  {
   "cell_type": "markdown",
   "metadata": {},
   "source": [
    "### Boxplot"
   ]
  },
  {
   "cell_type": "code",
   "execution_count": 209,
   "metadata": {},
   "outputs": [
    {
     "name": "stdout",
     "output_type": "stream",
     "text": [
      "Horizontal alignment will be ignored as no 'x tick label text width' has been passed in the 'extra' parameter\n",
      "Horizontal alignment will be ignored as no 'y tick label text width' has been passed in the 'extra' parameter\n"
     ]
    },
    {
     "data": {
      "image/png": "[encoded data removed]",
      "text/plain": [
       "<matplotlib.figure.Figure at 0x106cd5978>"
      ]
     },
     "metadata": {},
     "output_type": "display_data"
    }
   ],
   "source": [
    "frames = []\n",
    "total_trials = 0\n",
    "for n_source, res in results_dict.items():\n",
    "    df_err = pd.DataFrame(res.loc[:, 'err1':].mean(axis=1))\n",
    "    df_source = pd.DataFrame(columns=['n'], index=_get_trial_index(len(res)), data=n_source)\n",
    "    df_err['sources'] = df_source\n",
    "    frames.append(df_err)\n",
    "dfs = pd.concat(frames, ignore_index=True) # different indices\n",
    "dfs.columns = ['err','sources']\n",
    "bp = dfs.boxplot(by='sources',figsize=(12,16),return_type='both')\n",
    "\n",
    "# style output\n",
    "fig = bp[0].ax.get_figure()\n",
    "for key in bp[0].lines.keys():\n",
    "    for item in bp[0].lines[key]:\n",
    "        item.set_color(lms_red)\n",
    "for item in bp[0].lines['fliers']:\n",
    "    item.set_markerfacecolor(lms_red)\n",
    "    item.set_markeredgewidth(0)\n",
    "    item.set_markeredgecolor(lms_red)\n",
    "    item.set_markersize(7)\n",
    "\n",
    "\n",
    "fig.suptitle('')\n",
    "plt.title(\"\")\n",
    "plt.xlabel(\"number of sources\")\n",
    "plt.ylabel(\"mean localisation error (m)\")\n",
    "plt.grid(axis='x')\n",
    "tikz_save('../latex/data/plots/mean-err-n-sources-box.tex', show_info=False)\n",
    "\n",
    "\n"
   ]
  },
  {
   "cell_type": "markdown",
   "metadata": {},
   "source": [
    "### Scatter Plot"
   ]
  },
  {
   "cell_type": "code",
   "execution_count": 210,
   "metadata": {},
   "outputs": [
    {
     "name": "stdout",
     "output_type": "stream",
     "text": [
      "Horizontal alignment will be ignored as no 'x tick label text width' has been passed in the 'extra' parameter\n",
      "Horizontal alignment will be ignored as no 'y tick label text width' has been passed in the 'extra' parameter\n"
     ]
    },
    {
     "data": {
      "image/png": "[encoded data removed]",
      "text/plain": [
       "<matplotlib.figure.Figure at 0x106c9a278>"
      ]
     },
     "metadata": {},
     "output_type": "display_data"
    }
   ],
   "source": [
    "x = pd.to_numeric(dfs['sources'].values)  # without to_numeric(), tikz_save() fails (TypeError: str instead of int)\n",
    "y = dfs['err'].values\n",
    "plt.scatter(x, y, alpha=0.3, c=lms_red)\n",
    "plt.xticks(n_sources_range)\n",
    "plt.yticks([0.5, 1.0, 1.5, 2.0])\n",
    "plt.grid(True, axis='y')\n",
    "plt.xlabel(\"number of sources\")\n",
    "plt.ylabel(\"mean localisation error (m)\")\n",
    "# plt.show()\n",
    "tikz_save('../latex/data/plots/mean-err-n-sources-scatter.tex', show_info=False)"
   ]
  }
 ],
 "metadata": {
  "kernelspec": {
   "display_name": "Python 3",
   "language": "python",
   "name": "python3"
  },
  "language_info": {
   "codemirror_mode": {
    "name": "ipython",
    "version": 3
   },
   "file_extension": ".py",
   "mimetype": "text/x-python",
   "name": "python",
   "nbconvert_exporter": "python",
   "pygments_lexer": "ipython3",
   "version": "3.6.2"
  }
 },
 "nbformat": 4,
 "nbformat_minor": 2
}
