{
 "cells": [
  {
   "cell_type": "markdown",
   "metadata": {},
   "source": [
    "# Acoustic Source Localisation (ASL)"
   ]
  },
  {
   "cell_type": "code",
   "execution_count": 554,
   "metadata": {
    "collapsed": true
   },
   "outputs": [],
   "source": [
    "# Configuration\n",
    "\n",
    "# NAME_EVALUATION = 'mean-err-n-sources'\n",
    "# NAME_EVALUATION_OTHER = 'mean-err-n-sources-sample3and5exchanged'\n",
    "# NAME_DATA_FILES = '2017-10-04*.txt'  # first trials, original speech samples\n",
    "\n",
    "NAME_EVALUATION = 'mean-err-n-sources-sample3and5exchanged'\n",
    "NAME_EVALUATION_OTHER = 'mean-err-n-sources'\n",
    "NAME_DATA_FILES = '2017-10-11*.txt'  # second trials, rearranged speech samples\n",
    "\n",
    "EXPORT = True"
   ]
  },
  {
   "cell_type": "code",
   "execution_count": 555,
   "metadata": {},
   "outputs": [],
   "source": [
    "%matplotlib inline \n",
    "# %matplotlib notebook would provide interactive plots\n",
    "\n",
    "import glob\n",
    "import csv\n",
    "from os import path\n",
    "\n",
    "import pandas as pd\n",
    "import matplotlib\n",
    "import numpy as np\n",
    "import matplotlib.pyplot as plt\n",
    "from matplotlib2tikz import save as _tikz_save\n",
    "\n",
    "NAME_SCATTER_PLOT = NAME_EVALUATION+'-scatter.tex'\n",
    "NAME_BOX_PLOT = NAME_EVALUATION+'-box.tex'\n",
    "NAME_BAR_PLOT = NAME_EVALUATION+'-bar.tex'\n",
    "NAME_SUMMARY_TABLE = NAME_EVALUATION+'-summary.tex'\n",
    "NAME_PERFECT_MATCHES_PLOT = NAME_EVALUATION+'-perfect-matches-bar.tex'\n",
    "NAME_DATAFRAME = NAME_EVALUATION+'-dataframe.pkl'\n",
    "NAME_DATAFRAME_OTHER = NAME_EVALUATION_OTHER+'-dataframe.pkl'\n",
    "\n",
    "PATH_ROOT = '../matlab/mainczjs/evaluation/results/'\n",
    "PATH_LATEX_PLOTS = '../latex/data/plots/'\n",
    "PATH_LATEX_TABLES = '../latex/data/tables/'\n",
    "\n",
    "PATH_SCATTER_PLOT = path.join(PATH_LATEX_PLOTS, NAME_SCATTER_PLOT)\n",
    "PATH_BOX_PLOT = path.join(PATH_LATEX_PLOTS, NAME_BOX_PLOT)\n",
    "PATH_BAR_PLOT = path.join(PATH_LATEX_PLOTS, NAME_BAR_PLOT)\n",
    "PATH_LATEX_SUMMARY_TABLE = path.join(PATH_LATEX_TABLES, NAME_SUMMARY_TABLE)\n",
    "\n",
    "lms_red = (204/255, 53/255, 56/255)\n",
    "\n",
    "def _get_trial_index(t):\n",
    "    return [\"t{}\".format(i+1) for i in range(t)]\n",
    "\n",
    "def _get_col_name(s,post):\n",
    "    return sum([(\"x{}{},y{}{}\".format(n,post,n,post)).split(',') for n in range(1,s+1)],[])\n",
    "\n",
    "def _get_err_col_name(s):\n",
    "    return [\"err{}\".format(n) for n in range(1,s+1)]\n",
    "\n",
    "def get_col_names(s):\n",
    "    return sum([_get_col_name(s,\"\"), _get_col_name(s,\"est\"), _get_err_col_name(s)], []) \n",
    "\n",
    "def is_x1_correct(row):\n",
    "    if abs(row[\"x1\"]-row[\"x1est\"]) > 0.001:\n",
    "        if abs(row[\"y1\"]-row[\"y1est\"]) > 0.001:\n",
    "            return 1\n",
    "    return 0\n",
    "\n",
    "def tikz_save(*args, **kwargs):\n",
    "    \"\"\"Wrapper for tikz_save function, that always suppresses additional info output\"\"\"\n",
    "    kwargs['show_info'] = False \n",
    "    _tikz_save(*args, **kwargs)\n",
    "\n",
    "def adjust_y_axis(step_size, digits=0, min=None):\n",
    "    start, end = plt.axes().get_ylim()\n",
    "    if min==None: min=start\n",
    "    plt.yticks(np.arange(min, round(end+step_size, digits), step_size))"
   ]
  },
  {
   "cell_type": "markdown",
   "metadata": {},
   "source": [
    "## Get Data"
   ]
  },
  {
   "cell_type": "code",
   "execution_count": 556,
   "metadata": {},
   "outputs": [
    {
     "name": "stdout",
     "output_type": "stream",
     "text": [
      "SUMMARY:\n",
      "                     2      3      4      5      6      7\n",
      "n_trials            70     70     70     70     70     70\n",
      "mean_err         0.021  0.068  0.152  0.258  0.334  0.289\n",
      "perfect_matches  0.914  0.843  0.557    0.4  0.171  0.257\n",
      "\n",
      "COMPLETE DATA:\n",
      "     err1      err2  err3  err4      err5      err6  err7  err_total  \\\n",
      "353   0.0  0.000000   0.0   0.0  0.000000  2.402082   0.0   2.402082   \n",
      "285   0.0  0.223607   0.1   0.1  2.433105  3.534119   NaN   6.390831   \n",
      "125   0.0  0.000000   0.0   NaN       NaN       NaN   NaN   0.000000   \n",
      "44    0.0  0.000000   NaN   NaN       NaN       NaN   NaN   0.000000   \n",
      "267   0.0  0.000000   0.0   0.0  0.806226       NaN   NaN   0.806226   \n",
      "\n",
      "     n_sources  perfect_match    ...     y3est   y4  y4est   y5  y5est   y6  \\\n",
      "353          7          False    ...       3.1  2.2    2.2  4.1    4.1  1.5   \n",
      "285          6          False    ...       1.6  3.9    3.9  4.8    2.4  2.4   \n",
      "125          3           True    ...       3.8  NaN    NaN  NaN    NaN  NaN   \n",
      "44           2           True    ...       NaN  NaN    NaN  NaN    NaN  NaN   \n",
      "267          5          False    ...       3.4  4.0    4.0  4.6    3.9  NaN   \n",
      "\n",
      "     y6est   y7  y7est  err_mean  \n",
      "353    3.9  4.1    4.1  0.343155  \n",
      "285    3.9  NaN    NaN  1.065139  \n",
      "125    NaN  NaN    NaN  0.000000  \n",
      "44     NaN  NaN    NaN  0.000000  \n",
      "267    NaN  NaN    NaN  0.161245  \n",
      "\n",
      "[5 rows x 39 columns]\n"
     ]
    }
   ],
   "source": [
    "summary_columns = ['n_trials', 'mean_err', 'perfect_matches']\n",
    "n_sources_range = [2, 3, 4, 5, 6, 7]\n",
    "results_dict = {}\n",
    "summary_index = n_sources_range\n",
    "summary = pd.DataFrame(index=range(0,len(n_sources_range)),columns=summary_columns)\n",
    "summary.index = eval_index\n",
    "\n",
    "for s in n_sources_range:\n",
    "    # define filename format\n",
    "    files = glob.glob(path.join(PATH_ROOT,\"{}sources\".format(s), NAME_DATA_FILES))\n",
    "\n",
    "    # load data\n",
    "    dfs = []\n",
    "    for f in files:\n",
    "        dfs.append(pd.DataFrame(list(csv.reader(open(f, 'r'), delimiter='\\t')), dtype=float))\n",
    "    try:   \n",
    "        results = pd.concat(dfs)\n",
    "    except ValueError:\n",
    "        continue\n",
    "    n_trials = len(results)\n",
    "    n_sources = int((len(results.columns)-1)/5)\n",
    "    results.drop(results.columns[[n_sources*4+n_sources]], axis=1, inplace=True) # drops empty column\n",
    "    results.columns = get_col_names(n_sources)\n",
    "    results.index = [\"t{}\".format(i+1) for i in range(n_trials)]\n",
    "    results_dict['{}'.format(n_sources)] = results\n",
    "    \n",
    "    # calculate helper columns\n",
    "    results['n_sources'] = n_sources\n",
    "    results[\"err_total\"] = results.loc[:, \"err1\":_get_err_col_name(s)[-1]].sum(axis=1)\n",
    "    results[\"perfect_match\"] = results[\"err_total\"]==0\n",
    "\n",
    "    # calculate statistics\n",
    "    mean_err = results.mean()[\"err1\":\"err{}\".format(s)].mean() \n",
    "    perfect_matches = round(sum(results[\"err_total\"]==0)/results[\"err_total\"].count(),3)\n",
    "    \n",
    "    # saving statistics to data summary\n",
    "    summary.set_value(n_sources, 'n_trials', n_trials)\n",
    "    summary.set_value(n_sources, 'mean_err', round(mean_err,3))\n",
    "    summary.set_value(n_sources, 'perfect_matches', perfect_matches)\n",
    "\n",
    "results = pd.concat(results_dict, ignore_index=True)\n",
    "results[\"err_mean\"] = results.loc[:, \"err1\":\"err7\"].mean(axis=1)\n",
    "print(\"SUMMARY:\")\n",
    "print(summary.transpose())\n",
    "print(\"\")\n",
    "print(\"COMPLETE DATA:\")\n",
    "print(results.sample(5))\n",
    "if EXPORT:\n",
    "    summary.transpose().to_latex(PATH_LATEX_SUMMARY_TABLE, column_format=\"rrrrrrr\", bold_rows=True)\n",
    "    results.to_pickle(path.join(PATH_ROOT, NAME_DATAFRAME))"
   ]
  },
  {
   "cell_type": "markdown",
   "metadata": {},
   "source": [
    "## Plot Results"
   ]
  },
  {
   "cell_type": "code",
   "execution_count": 551,
   "metadata": {},
   "outputs": [
    {
     "name": "stdout",
     "output_type": "stream",
     "text": [
      "Horizontal alignment will be ignored as no 'x tick label text width' has been passed in the 'extra' parameter\n",
      "Horizontal alignment will be ignored as no 'y tick label text width' has been passed in the 'extra' parameter\n"
     ]
    },
    {
     "data": {
      "image/png": "[encoded data removed]",
      "text/plain": [
       "<matplotlib.figure.Figure at 0x1164efe10>"
      ]
     },
     "metadata": {},
     "output_type": "display_data"
    }
   ],
   "source": [
    "# Scatter Plot\n",
    "bp = results.boxplot('err_mean', by='n_sources',figsize=(4,6),return_type='both')\n",
    "\n",
    "# style boxplot output\n",
    "fig = bp[0].ax.get_figure()\n",
    "for key in bp[0].lines.keys():\n",
    "    for item in bp[0].lines[key]:\n",
    "        item.set_color(lms_red)\n",
    "for item in bp[0].lines['fliers']:\n",
    "    item.set_markerfacecolor(lms_red)\n",
    "    item.set_markeredgewidth(0)\n",
    "    item.set_markeredgecolor(lms_red)\n",
    "    item.set_markersize(7)\n",
    "\n",
    "fig.suptitle('')\n",
    "plt.title(\"\")\n",
    "plt.xlabel(\"number of sources\")\n",
    "plt.ylabel(\"mean localisation error (m)\")\n",
    "plt.grid(axis='x')\n",
    "if EXPORT:\n",
    "    tikz_save(PATH_BOX_PLOT, show_info=False)"
   ]
  },
  {
   "cell_type": "code",
   "execution_count": 465,
   "metadata": {},
   "outputs": [
    {
     "name": "stdout",
     "output_type": "stream",
     "text": [
      "Horizontal alignment will be ignored as no 'x tick label text width' has been passed in the 'extra' parameter\n",
      "Horizontal alignment will be ignored as no 'y tick label text width' has been passed in the 'extra' parameter\n"
     ]
    },
    {
     "data": {
      "image/png": "[encoded data removed]",
      "text/plain": [
       "<matplotlib.figure.Figure at 0x113f729b0>"
      ]
     },
     "metadata": {},
     "output_type": "display_data"
    }
   ],
   "source": [
    "# Scatter Plot\n",
    "x = pd.to_numeric(results['n_sources'].values)  # without to_numeric(), tikz_save() fails (TypeError: str instead of int)\n",
    "y = results[\"err_mean\"].values\n",
    "plt.scatter(x, y, alpha=0.3, c=lms_red)\n",
    "plt.xticks(n_sources_range)\n",
    "adjust_y_axis(step_size=0.5, digits=2, min=0)\n",
    "plt.grid(True, axis='y')\n",
    "plt.xlabel(\"number of sources\")\n",
    "plt.ylabel(\"mean localisation error (m)\")\n",
    "if EXPORT:\n",
    "    tikz_save(PATH_SCATTER_PLOT, show_info=False)"
   ]
  },
  {
   "cell_type": "code",
   "execution_count": 466,
   "metadata": {},
   "outputs": [
    {
     "name": "stdout",
     "output_type": "stream",
     "text": [
      "Horizontal alignment will be ignored as no 'x tick label text width' has been passed in the 'extra' parameter\n",
      "Horizontal alignment will be ignored as no 'y tick label text width' has been passed in the 'extra' parameter\n"
     ]
    },
    {
     "data": {
      "image/png": "[encoded data removed]",
      "text/plain": [
       "<matplotlib.figure.Figure at 0x114a02588>"
      ]
     },
     "metadata": {},
     "output_type": "display_data"
    }
   ],
   "source": [
    "# Bar Plot\n",
    "plt.bar(eval_data.index, height=eval_data['mean_err'], color=lms_red)\n",
    "plt.xlabel(\"number of sources\")\n",
    "plt.ylabel(\"mean localisation error (m)\")\n",
    "adjust_y_axis(step_size=0.05, digits=2)\n",
    "if EXPORT_TO_LATEX:\n",
    "    tikz_save(PATH_BAR_PLOT)"
   ]
  },
  {
   "cell_type": "markdown",
   "metadata": {},
   "source": [
    "## Compare Trials"
   ]
  },
  {
   "cell_type": "markdown",
   "metadata": {},
   "source": [
    "### T-Test"
   ]
  },
  {
   "cell_type": "code",
   "execution_count": 467,
   "metadata": {},
   "outputs": [],
   "source": [
    "from scipy.stats import ttest_ind, describe\n",
    "from statsmodels.formula.api import ols\n",
    "\n",
    "# print(results[['err_mean', 'n_sources']])\n",
    "\n",
    "cat2 = results[results['n_sources']==2]['err_mean']\n",
    "cat3 = results[results['n_sources']==3]['err_mean']\n",
    "cat4 = results[results['n_sources']==4]['err_mean']\n",
    "cat5 = results[results['n_sources']==5]['err_mean']\n",
    "cat6 = results[results['n_sources']==6]['err_mean']\n",
    "cat7 = results[results['n_sources']==7]['err_mean']\n",
    "\n",
    "# ttest_ind(cat2, cat4, equal_var=False)\n",
    "# model = ols(\"err_mean ~ n_sources + 1\", results).fit()\n",
    "# print(model.summary())"
   ]
  },
  {
   "cell_type": "markdown",
   "metadata": {},
   "source": [
    "### Perfect matches"
   ]
  },
  {
   "cell_type": "code",
   "execution_count": 557,
   "metadata": {},
   "outputs": [
    {
     "data": {
      "text/plain": [
       "<Container object of 6 artists>"
      ]
     },
     "execution_count": 557,
     "metadata": {},
     "output_type": "execute_result"
    },
    {
     "data": {
      "image/png": "[encoded data removed]",
      "text/plain": [
       "<matplotlib.figure.Figure at 0x116b46ef0>"
      ]
     },
     "metadata": {},
     "output_type": "display_data"
    }
   ],
   "source": [
    "plt.subplot(121)\n",
    "df = pd.read_pickle(path.join(PATH_ROOT, NAME_DATAFRAME))\n",
    "dfpm = df.pivot_table(\"perfect_match\", columns=\"n_sources\", aggfunc='mean').transpose()\n",
    "plt.bar(dfpm.index, height=dfpm.values)\n",
    "\n",
    "plt.subplot(122)\n",
    "df2 = pd.read_pickle(path.join(PATH_ROOT, NAME_DATAFRAME_OTHER))\n",
    "dfpm2 = df2.pivot_table(\"perfect_match\", columns=\"n_sources\", aggfunc='mean').transpose()\n",
    "plt.bar(dfpm2.index, height=dfpm2.values)"
   ]
  },
  {
   "cell_type": "code",
   "execution_count": null,
   "metadata": {
    "collapsed": true
   },
   "outputs": [],
   "source": []
  }
 ],
 "metadata": {
  "kernelspec": {
   "display_name": "Python 3",
   "language": "python",
   "name": "python3"
  },
  "language_info": {
   "codemirror_mode": {
    "name": "ipython",
    "version": 3
   },
   "file_extension": ".py",
   "mimetype": "text/x-python",
   "name": "python",
   "nbconvert_exporter": "python",
   "pygments_lexer": "ipython3",
   "version": "3.6.2"
  }
 },
 "nbformat": 4,
 "nbformat_minor": 2
}
