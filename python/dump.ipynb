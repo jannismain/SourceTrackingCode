{
 "cells": [
  {
   "cell_type": "code",
   "execution_count": 3,
   "metadata": {},
   "outputs": [],
   "source": [
    "EXPORT_LATEX = True\n",
    "\n",
    "%matplotlib inline \n",
    "# %matplotlib notebook would provide interactive plots\n",
    "\n",
    "import os\n",
    "import sys\n",
    "nb_dir = os.path.split(os.getcwd())[0]\n",
    "if nb_dir not in sys.path:\n",
    "    sys.path.append(nb_dir)\n",
    "\n",
    "from mthesis.helpers import *  # all functions are in this package"
   ]
  },
  {
   "cell_type": "markdown",
   "metadata": {},
   "source": [
    "# Boxplot Legend"
   ]
  },
  {
   "cell_type": "code",
   "execution_count": 4,
   "metadata": {},
   "outputs": [],
   "source": [
    "df = load_all_data()\n",
    "dft = df"
   ]
  },
  {
   "cell_type": "code",
   "execution_count": 211,
   "metadata": {},
   "outputs": [
    {
     "name": "stdout",
     "output_type": "stream",
     "text": [
      "DATA FROM:  {'reflect-order', 'em-iterations'}\n",
      "n-sources          3\n",
      "n                250\n",
      "em-iterations      5\n",
      "T60             0.60\n",
      "SNR                0\n",
      "md              0.50\n",
      "reflect-order      3\n",
      "var-fixed          0\n",
      "var-val         0.10\n",
      "err-mean        0.29\n",
      "percent-matched 0.63\n",
      "\n"
     ]
    }
   ],
   "source": [
    "# Manipulate Data\n",
    "var = \"T60\"\n",
    "dft = df\n",
    "# dft = dft[dft[\"description\"]==\"em-iterations\"]\n",
    "dft = dft[dft[\"reflect-order\"]==3]\n",
    "dft = dft[dft[\"T60\"].isin([0.6])]\n",
    "dft = dft[dft[\"em\"]==5]\n",
    "dft = dft[dft[\"wd\"]==1.2]\n",
    "dft = dft[dft[\"md\"]==0.5]\n",
    "dft = dft[dft[\"SNR\"]==0]\n",
    "dft = dft[dft[\"var-fixed\"]==0]\n",
    "dft = dft[dft[\"var-val\"]==0.1]\n",
    "dft = dft[dft[\"n-sources\"].isin([3])]\n",
    "dft = dft[0:1900] # reduce sample size to 200 each\n",
    "print_summary(dft)"
   ]
  },
  {
   "cell_type": "code",
   "execution_count": 213,
   "metadata": {},
   "outputs": [
    {
     "name": "stdout",
     "output_type": "stream",
     "text": [
      "Horizontal alignment will be ignored as no 'x tick label text width' has been passed in the 'extra' parameter\n",
      "Horizontal alignment will be ignored as no 'y tick label text width' has been passed in the 'extra' parameter\n",
      "Warning: Anything else except for explicit positioning is not supported for annotations yet :(\n",
      "Warning: Anything else except for explicit positioning is not supported for annotations yet :(\n",
      "Warning: Anything else except for explicit positioning is not supported for annotations yet :(\n",
      "Warning: Anything else except for explicit positioning is not supported for annotations yet :(\n",
      "Warning: Anything else except for explicit positioning is not supported for annotations yet :(\n",
      "Warning: Anything else except for explicit positioning is not supported for annotations yet :(\n",
      "Warning: Anything else except for explicit positioning is not supported for annotations yet :(\n",
      "Warning: Anything else except for explicit positioning is not supported for annotations yet :(\n",
      "Warning: Anything else except for explicit positioning is not supported for annotations yet :(\n"
     ]
    },
    {
     "data": {
      "image/png": "[encoded data removed]",
      "text/plain": [
       "<matplotlib.figure.Figure at 0x10a984e48>"
      ]
     },
     "metadata": {},
     "output_type": "display_data"
    }
   ],
   "source": [
    "# Joint Boxplot, grouped\n",
    "dfp = dft.pivot_table(\"err-mean\", index=[\"n-sources\"], columns=var, aggfunc='mean').transpose()\n",
    "offset = 0\n",
    "colors = [lms_red,'k', 'lightblue']\n",
    "offset_table = np.linspace(-offset, offset, len(dfp.index.values))\n",
    "fig = figure( figsize=(6,6.5) )\n",
    "ax  = fig.add_subplot(111)\n",
    "boxplot_args = {'ax':ax,'notch':False,'return_type':'both','widths':0.18,'showmeans':True, 'meanline':False}\n",
    "idx=0\n",
    "legend_dict = {}\n",
    "\n",
    "def shape(x):\n",
    "    return x*1.5+0.5\n",
    "\n",
    "dftt = dft.copy()\n",
    "dftt[\"err-mean\"] = dftt[\"err-mean\"].apply(shape)\n",
    "\n",
    "bp = dftt.boxplot(\"err-mean\", by=[\"n-sources\"], **boxplot_args, whiskerprops = WHISKER_PROPS)\n",
    "style_boxplot(bp, None, colors[idx])\n",
    "boxlines = bp[\"err-mean\"][1]\n",
    "boxlines['means'][0].set_markersize(18)\n",
    "boxlines['means'][0].set_markeredgewidth(1)\n",
    "boxlines['fliers'][0].set_markeredgewidth(0)\n",
    "boxlines['fliers'][0].set_markeredgecolor('gray')\n",
    "for el in boxlines:\n",
    "    setp(boxlines[el], color=colors[idx],linewidth=0.5)  # this styles elements not in box\n",
    "    for el2 in boxlines[el]:\n",
    "        setp(el2, xdata=getp(el2, 'xdata')+offset_table[idx])\n",
    "idx+=1\n",
    "\n",
    "## ANNOTATIONS\n",
    "ax.set_xlabel(\"number of sources $S$\")\n",
    "ax.set_ylabel(\"mean localisation error\")\n",
    "\n",
    "annotate_props = {'fontsize':14, 'arrowprops':{'arrowstyle':'-|>'}, \"textcoords\":'offset points'}\n",
    "annotate_props2 = {'xytext':(-120, 0), 'fontsize':12, 'color':lms_red, 'backgroundcolor':'w', \"textcoords\":'offset points'}\n",
    "annotate_props3 = {'xytext':(-120, 0), 'fontsize':12, 'color':'gray', 'backgroundcolor':'w', \"textcoords\":'offset points'}\n",
    "\n",
    "# left side\n",
    "plt.annotate(xy=[1, 0.57], s=\"25% quantile\", **annotate_props2)\n",
    "plt.annotate(xy=[1, 0.69], s=\"50% quantile\", **annotate_props2)\n",
    "plt.annotate(xy=[1, 0.95], s=\"75% quantile\", **annotate_props2)\n",
    "plt.annotate(xy=[1, 1.65], s=\"$>1.5*Q_{3,max}$\", **annotate_props3)\n",
    "\n",
    "# right side\n",
    "plt.annotate(xy=[1, 0.50], s=\"lower whisker\", xytext=(50, -30), **annotate_props)\n",
    "plt.annotate(xy=[1, 0.71], s=\"median\", xytext=(50, -30), **annotate_props)\n",
    "plt.annotate(xy=[1, 0.93], s=\"mean\", xytext=(50, -30), **annotate_props)\n",
    "plt.annotate(xy=[1, 1.53], s=\"upper whisker\", **annotate_props, xytext=(50, -30))\n",
    "plt.annotate(xy=[1, 1.68], s=\"outliers\", **annotate_props, xytext=(50, -30))\n",
    "\n",
    "\n",
    "## EXPORT\n",
    "if EXPORT_LATEX:\n",
    "    tikz_save(\"\".join([PATH_LATEX_PLOTS, 'boxplot-reference.tex']), strict=True)"
   ]
  },
  {
   "cell_type": "markdown",
   "metadata": {},
   "source": [
    "## Old way of reading data"
   ]
  },
  {
   "cell_type": "code",
   "execution_count": null,
   "metadata": {
    "collapsed": true
   },
   "outputs": [],
   "source": [
    "# Configuration\n",
    "\n",
    "# NAME_EVALUATION = 'mean-err-n-sources'\n",
    "# NAME_FOLDER = \"{}sources\"\n",
    "# NAME_DATA_FILES = '2017-10-04*.txt'  # 1st trials, original speech samples\n",
    "\n",
    "# NAME_EVALUATION = 'mean-err-n-sources-sample3and5exchanged'\n",
    "# NAME_FOLDER = \"{}sources\"\n",
    "# NAME_DATA_FILES = '2017-10-11*.txt'  # 2nd trials, rearranged speech samples\n",
    "\n",
    "# NAME_EVALUATION = 'mean-err-n-sources-rnd-T60=0.0'\n",
    "# NAME_FOLDER = \"{}sources-rnd\"\n",
    "# NAME_DATA_FILES = '2017-*results.txt'  # 3rd trials, BASE\n",
    "\n",
    "# NAME_EVALUATION = 'mean-err-n-sources-rnd-T60=0.3'\n",
    "# NAME_FOLDER = \"{}sources-rnd-T60\"\n",
    "# NAME_DATA_FILES = '2017-*0.3T60*results.txt'  # 4th trials, T60=0.3\n",
    "\n",
    "# NAME_EVALUATION = 'mean-err-n-sources-rnd-T60=0.6-em=5'\n",
    "# NAME_FOLDER = \"{}sources-rnd-T60\"\n",
    "# NAME_DATA_FILES = '2017-*0.6T60*5em_results.txt'  # 5th trials, T60=0.6, em=5\n",
    "\n",
    "# NAME_EVALUATION = 'mean-err-n-sources-rnd-T60=0.6-em=10'\n",
    "# NAME_FOLDER = \"{}sources-rnd-T60\"\n",
    "# NAME_DATA_FILES = '2017-*0.6T60*10em_results.txt'  # 6th trials, T60=0.6, em=10\n",
    "\n",
    "# NAME_EVALUATION = 'mean-err-n-sources-rnd-estimates'\n",
    "# NAME_FOLDER = \"{}sources-rnd-estimates\"\n",
    "# NAME_DATA_FILES = '*results.txt'  # 7th trials, random estimates (benchmark)"
   ]
  },
  {
   "cell_type": "code",
   "execution_count": null,
   "metadata": {
    "collapsed": true
   },
   "outputs": [],
   "source": [
    "n_sources_range = [1, 2, 3, 4, 5, 6, 7]\n",
    "results_dict = {}\n",
    "\n",
    "for s in n_sources_range:\n",
    "    # define filename format\n",
    "    files = glob.glob(path.join(PATH_ROOT,NAME_FOLDER.format(s), NAME_DATA_FILES))\n",
    "\n",
    "    # load data\n",
    "    dfs = []\n",
    "    for f in files:\n",
    "        dfs.append(pd.DataFrame(list(csv.reader(open(f, 'r'), delimiter='\\t')), dtype=float))\n",
    "    try:   \n",
    "        results = pd.concat(dfs)\n",
    "    except ValueError:\n",
    "        continue\n",
    "    n_trials = len(results)\n",
    "    n_sources = int((len(results.columns)-1)/5)\n",
    "    results.drop(results.columns[[n_sources*4+n_sources]], axis=1, inplace=True) # drops empty column\n",
    "    results.columns = get_col_names(n_sources)\n",
    "    results.index = [\"t{}\".format(i+1) for i in range(n_trials)]\n",
    "    results_dict['{}'.format(n_sources)] = results\n",
    "    \n",
    "    # calculate helper columns\n",
    "    results['n_sources']     = n_sources\n",
    "    results[\"err_mean\"]      = results.loc[:, \"err1\":_get_err_col_name(s)[-1]].mean(axis=1)\n",
    "    results[\"err_total\"]     = results.loc[:, \"err1\":_get_err_col_name(s)[-1]].sum(axis=1)\n",
    "    results[\"perfect_match\"] = results[\"err_total\"]<=0.01\n",
    "\n",
    "try:   \n",
    "    results = pd.concat(results_dict, ignore_index=True)\n",
    "except ValueError:\n",
    "    print(\"NO DATA FOUND!\")\n",
    "\n",
    "print(\"SUMMARY:\")\n",
    "summary = results.groupby('n_sources').agg({'x1':'count', 'err_mean':np.mean, 'perfect_match':np.mean}).rename(columns={'x1':'sample size'})\n",
    "print(summary.transpose())\n",
    "\n",
    "# print(\"\")\n",
    "# print(\"COMPLETE DATA:\")\n",
    "# print(results.sample(5))\n",
    "if EXPORT_RESULTS:\n",
    "    results.to_pickle(path.join(PATH_ROOT, NAME_DATAFRAME))\n",
    "if EXPORT_LATEX:\n",
    "    summary.transpose().to_latex(PATH_LATEX_SUMMARY_TABLE, column_format=\"rrrrrrr\", bold_rows=True)"
   ]
  },
  {
   "cell_type": "markdown",
   "metadata": {},
   "source": [
    "## Old way of comparing"
   ]
  },
  {
   "cell_type": "code",
   "execution_count": null,
   "metadata": {
    "collapsed": true
   },
   "outputs": [],
   "source": [
    "files = glob.glob(path.join(PATH_ROOT, 'mean-err-n-sources-rnd-T60*-dataframe.pkl'))\n",
    "files2 = glob.glob(path.join(PATH_ROOT, 'mean-err-n-sources-rnd-estimates-dataframe.pkl'))\n",
    "from pprint import pprint\n",
    "print(\"The following files match the criterion:\")\n",
    "\n",
    "dfs = []\n",
    "for f in files:\n",
    "    df = pd.read_pickle(f)\n",
    "    fname = f.split(sep=\"/\")[-1]\n",
    "    print(fname)\n",
    "    version = fname[fname.find(\"rnd-\")+4:fname.find(\"-dataframe\")]\n",
    "    if version==\"\": version=\"latest\"\n",
    "    df[\"version\"] = version\n",
    "    dfs.append(df)\n",
    "\n",
    "for f in files2:\n",
    "    df = pd.read_pickle(f)\n",
    "    fname = f.split(sep=\"/\")[-1]\n",
    "    print(fname)\n",
    "    df[\"version\"] = \"random\"\n",
    "    dfs.append(df)\n",
    "\n",
    "dfc = pd.concat(dfs, ignore_index=True)\n",
    "print(\"\\nSUMMARY:\")\n",
    "print(dfc.groupby(by=[\"version\", \"n_sources\"]).agg({'x1':'count', 'err_mean':np.mean, 'perfect_match':np.mean}).rename(columns={'x1':'sample size'}))"
   ]
  },
  {
   "cell_type": "markdown",
   "metadata": {},
   "source": [
    "## Plot with groups "
   ]
  },
  {
   "cell_type": "code",
   "execution_count": 1,
   "metadata": {},
   "outputs": [
    {
     "ename": "NameError",
     "evalue": "name 'dfc' is not defined",
     "output_type": "error",
     "traceback": [
      "\u001b[0;31m---------------------------------------------------------------------------\u001b[0m",
      "\u001b[0;31mNameError\u001b[0m                                 Traceback (most recent call last)",
      "\u001b[0;32m<ipython-input-1-a8f4749f3b6c>\u001b[0m in \u001b[0;36m<module>\u001b[0;34m()\u001b[0m\n\u001b[1;32m     35\u001b[0m         \u001b[0mypos\u001b[0m \u001b[0;34m-=\u001b[0m \u001b[0;36m.1\u001b[0m\u001b[0;34m\u001b[0m\u001b[0m\n\u001b[1;32m     36\u001b[0m \u001b[0;34m\u001b[0m\u001b[0m\n\u001b[0;32m---> 37\u001b[0;31m \u001b[0mdf\u001b[0m \u001b[0;34m=\u001b[0m \u001b[0mdfc\u001b[0m\u001b[0;34m.\u001b[0m\u001b[0mgroupby\u001b[0m\u001b[0;34m(\u001b[0m\u001b[0;34m[\u001b[0m\u001b[0;34m'n_sources'\u001b[0m\u001b[0;34m,\u001b[0m\u001b[0;34m'version'\u001b[0m\u001b[0;34m]\u001b[0m\u001b[0;34m)\u001b[0m\u001b[0;34m.\u001b[0m\u001b[0mmean\u001b[0m\u001b[0;34m(\u001b[0m\u001b[0;34m)\u001b[0m\u001b[0;34m[\u001b[0m\u001b[0;34m\"err_mean\"\u001b[0m\u001b[0;34m]\u001b[0m\u001b[0;34m\u001b[0m\u001b[0m\n\u001b[0m\u001b[1;32m     38\u001b[0m \u001b[0mfig\u001b[0m \u001b[0;34m=\u001b[0m \u001b[0mplt\u001b[0m\u001b[0;34m.\u001b[0m\u001b[0mfigure\u001b[0m\u001b[0;34m(\u001b[0m\u001b[0mfigsize\u001b[0m\u001b[0;34m=\u001b[0m\u001b[0;34m(\u001b[0m\u001b[0;36m17\u001b[0m\u001b[0;34m,\u001b[0m\u001b[0;36m5\u001b[0m\u001b[0;34m)\u001b[0m\u001b[0;34m)\u001b[0m\u001b[0;34m\u001b[0m\u001b[0m\n\u001b[1;32m     39\u001b[0m \u001b[0max\u001b[0m \u001b[0;34m=\u001b[0m \u001b[0mfig\u001b[0m\u001b[0;34m.\u001b[0m\u001b[0madd_subplot\u001b[0m\u001b[0;34m(\u001b[0m\u001b[0;36m111\u001b[0m\u001b[0;34m)\u001b[0m\u001b[0;34m\u001b[0m\u001b[0m\n",
      "\u001b[0;31mNameError\u001b[0m: name 'dfc' is not defined"
     ]
    }
   ],
   "source": [
    "import pandas as pd\n",
    "import numpy as np\n",
    "from matplotlib import pyplot as plt\n",
    "from itertools import groupby\n",
    "\n",
    "def test_table():\n",
    "    data_table = pd.DataFrame({'version':['v1']*4 + ['v2']*4,\n",
    "                               'n_sources':(['2']*2 + ['3']*2)*2,\n",
    "                               'Quantity':[10,20,5,6,4,7,2,1],\n",
    "                               'Ordered':np.random.randint(0,10,8)\n",
    "                               })\n",
    "    return data_table\n",
    "\n",
    "def add_line(ax, xpos, ypos):\n",
    "    line = plt.Line2D([xpos, xpos], [ypos + .1, ypos],\n",
    "                      transform=ax.transAxes, color='black')\n",
    "    line.set_clip_on(False)\n",
    "    ax.add_line(line)\n",
    "\n",
    "def label_len(my_index,level):\n",
    "    labels = my_index.get_level_values(level)\n",
    "    return [(k, sum(1 for i in g)) for k,g in groupby(labels)]\n",
    "\n",
    "def label_group_bar_table(ax, df):\n",
    "    ypos = -.1\n",
    "    scale = 1./df.index.size\n",
    "    for level in range(df.index.nlevels)[::-1]:\n",
    "        pos = 0\n",
    "        for label, rpos in label_len(df.index,level):\n",
    "            lxpos = (pos + .5 * rpos)*scale\n",
    "            ax.text(lxpos, ypos, label, ha='center', transform=ax.transAxes)\n",
    "            add_line(ax, pos*scale, ypos)\n",
    "            pos += rpos\n",
    "        add_line(ax, pos*scale , ypos)\n",
    "        ypos -= .1\n",
    "\n",
    "df = dfc.groupby(['n_sources','version']).mean()[\"err_mean\"]\n",
    "fig = plt.figure(figsize=(17,5))\n",
    "ax = fig.add_subplot(111)\n",
    "df.plot(kind='bar',stacked=False,ax=fig.gca(),color=[lms_red,'black', 'gray'])\n",
    "#Below 3 lines remove default labels\n",
    "labels = ['' for item in ax.get_xticklabels()]\n",
    "ax.set_xticklabels(labels)\n",
    "ax.set_xlabel('')\n",
    "label_group_bar_table(ax, df)\n",
    "fig.subplots_adjust(bottom=.1*df.index.nlevels)"
   ]
  },
  {
   "cell_type": "markdown",
   "metadata": {},
   "source": [
    "## Check for Normality (Q-Q-Plot)"
   ]
  },
  {
   "cell_type": "code",
   "execution_count": 69,
   "metadata": {},
   "outputs": [
    {
     "name": "stdout",
     "output_type": "stream",
     "text": [
      "GUESSING-AT-RANDOM:\n",
      "n_sources          2      3      4      5      6      7\n",
      "n                500    500    500    500    500    500\n",
      "em-iterations      0      0      0      0      0      0\n",
      "T60                0      0      0      0      0      0\n",
      "SNR                0      0      0      0      0      0\n",
      "err_mean        1.68   1.54   1.42   1.36   1.26   1.23\n",
      "perfect_match  False  False  False  False  False  False\n",
      "\n",
      "BASE:\n",
      "n_sources            2        3        4        5        6        7\n",
      "n              100.000  100.000  100.000  100.000  100.000  100.000\n",
      "em-iterations   10.000   10.000   10.000   10.000   10.000   10.000\n",
      "T60              0.000    0.000    0.000    0.000    0.000    0.000\n",
      "SNR              0.000    0.000    0.000    0.000    0.000    0.000\n",
      "err_mean         0.035    0.023    0.137    0.157    0.255    0.329\n",
      "perfect_match    0.930    0.860    0.620    0.440    0.270    0.190\n",
      "\n"
     ]
    },
    {
     "data": {
      "image/png": "[encoded data removed]",
      "text/plain": [
       "<matplotlib.figure.Figure at 0x10a64b278>"
      ]
     },
     "metadata": {},
     "output_type": "display_data"
    }
   ],
   "source": [
    "import pylab \n",
    "import numpy as np\n",
    "import scipy.stats as stats\n",
    "\n",
    "def transform(x):\n",
    "    return np.power(x, -1)\n",
    "\n",
    "evalruns = ['guessing-at-random', 'base']\n",
    "\n",
    "pylab.subplots(1,2,figsize=(17, 5))\n",
    "for desc in evalruns:\n",
    "    df = matlab2pandas(dirname=desc, save_to=False, summary=True)\n",
    "    df[\"err_mean\"] = pd.to_numeric(df[\"err_mean\"])\n",
    "    df_s = df[df[\"n_sources\"]==2]\n",
    "    pylab.subplot(1,2,evalruns.index(desc)+1)\n",
    "    stats.probplot(df_s[\"err_mean\"], dist=\"norm\", plot=pylab)\n",
    "    pylab.title(desc)\n",
    "\n",
    "pylab.show()"
   ]
  },
  {
   "cell_type": "markdown",
   "metadata": {},
   "source": [
    "## Custom Boxplot with Lines "
   ]
  },
  {
   "cell_type": "code",
   "execution_count": 2,
   "metadata": {},
   "outputs": [
    {
     "data": {
      "image/png": "[encoded data removed]",
      "text/plain": [
       "<matplotlib.figure.Figure at 0x10d977940>"
      ]
     },
     "metadata": {},
     "output_type": "display_data"
    }
   ],
   "source": [
    "import matplotlib.pyplot as plt\n",
    "import numpy as np\n",
    "\n",
    "# Generate some data...\n",
    "data = np.random.random((100, 5))\n",
    "y = data.mean(axis=0)\n",
    "x = np.random.random(y.size) * 10\n",
    "x -= x.min()\n",
    "x.sort()\n",
    "\n",
    "# Plot a line between the means of each dataset\n",
    "plt.plot(x, y, 'b-')\n",
    "\n",
    "# Save the default tick positions, so we can reset them...\n",
    "locs, labels = plt.xticks() \n",
    "\n",
    "plt.boxplot(data, positions=x, notch=True)\n",
    "\n",
    "# Reset the xtick locations.\n",
    "#plt.xticks(locs)\n",
    "plt.show()"
   ]
  }
 ],
 "metadata": {
  "kernelspec": {
   "display_name": "Python 3",
   "language": "python",
   "name": "python3"
  },
  "language_info": {
   "codemirror_mode": {
    "name": "ipython",
    "version": 3
   },
   "file_extension": ".py",
   "mimetype": "text/x-python",
   "name": "python",
   "nbconvert_exporter": "python",
   "pygments_lexer": "ipython3",
   "version": "3.6.2"
  }
 },
 "nbformat": 4,
 "nbformat_minor": 2
}
