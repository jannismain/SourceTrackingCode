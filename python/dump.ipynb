{
 "cells": [
  {
   "cell_type": "code",
   "execution_count": 1,
   "metadata": {
    "collapsed": true
   },
   "outputs": [],
   "source": [
    "import os\n",
    "import sys\n",
    "nb_dir = os.path.split(os.getcwd())[0]\n",
    "if nb_dir not in sys.path:\n",
    "    sys.path.append(nb_dir)\n",
    "\n",
    "EXPORT_LATEX = True\n",
    "PATH_LATEX = os.path.expanduser('~/latex/data/')\n",
    "\n",
    "%matplotlib inline \n",
    "# %matplotlib notebook would provide interactive plots\n",
    "\n",
    "\n",
    "\n",
    "from mthesis.helpers import *  # all functions are in this package"
   ]
  },
  {
   "cell_type": "markdown",
   "metadata": {},
   "source": [
    "# Boxplot Legend"
   ]
  },
  {
   "cell_type": "code",
   "execution_count": 5,
   "metadata": {
    "collapsed": true
   },
   "outputs": [],
   "source": [
    "df = load_all_data()\n",
    "dft = df"
   ]
  },
  {
   "cell_type": "code",
   "execution_count": 6,
   "metadata": {},
   "outputs": [
    {
     "name": "stdout",
     "output_type": "stream",
     "text": [
      "DATA FROM:  {'reflect-order', 'em-iterations'}\n",
      "n-sources          3\n",
      "n                250\n",
      "em-iterations      5\n",
      "T60             0.60\n",
      "SNR                0\n",
      "md              0.50\n",
      "reflect-order      3\n",
      "var-fixed          0\n",
      "var-val         0.10\n",
      "err-mean        0.29\n",
      "percent-matched 0.63\n",
      "\n"
     ]
    }
   ],
   "source": [
    "# Manipulate Data\n",
    "var = \"T60\"\n",
    "dft = df\n",
    "# dft = dft[dft[\"description\"]==\"em-iterations\"]\n",
    "dft = dft[dft[\"reflect-order\"]==3]\n",
    "dft = dft[dft[\"T60\"].isin([0.6])]\n",
    "dft = dft[dft[\"em\"]==5]\n",
    "dft = dft[dft[\"wd\"]==1.2]\n",
    "dft = dft[dft[\"md\"]==0.5]\n",
    "dft = dft[dft[\"SNR\"]==0]\n",
    "dft = dft[dft[\"var-fixed\"]==0]\n",
    "dft = dft[dft[\"var-val\"]==0.1]\n",
    "dft = dft[dft[\"n-sources\"].isin([3])]\n",
    "dft = dft[0:1900] # reduce sample size to 200 each\n",
    "print_summary(dft)"
   ]
  },
  {
   "cell_type": "code",
   "execution_count": 7,
   "metadata": {},
   "outputs": [
    {
     "name": "stdout",
     "output_type": "stream",
     "text": [
      "Horizontal alignment will be ignored as no 'x tick label text width' has been passed in the 'extra' parameter\n",
      "Horizontal alignment will be ignored as no 'y tick label text width' has been passed in the 'extra' parameter\n"
     ]
    },
    {
     "data": {
      "image/png": "[encoded data removed]",
      "text/plain": [
       "<matplotlib.figure.Figure at 0x10a699470>"
      ]
     },
     "metadata": {},
     "output_type": "display_data"
    }
   ],
   "source": [
    "# Joint Boxplot, grouped\n",
    "dfp = dft.pivot_table(\"err-mean\", index=[\"n-sources\"], columns=var, aggfunc='mean').transpose()\n",
    "\n",
    "fig = figure( figsize=(6,6.5) ); ax  = fig.add_subplot(111)\n",
    "idx=0\n",
    "\n",
    "def shape(x):\n",
    "    return x*1.5+0.5\n",
    "\n",
    "dftt = dft.copy()\n",
    "dftt[\"err-mean\"] = dftt[\"err-mean\"].apply(shape)\n",
    "\n",
    "bp = dftt.boxplot(\"err-mean\", by=[\"n-sources\"], ax=ax, **boxplot_args)\n",
    "style_boxplot(bp, None, 0,1, lms_red)\n",
    "\n",
    "ax = bp[0].ax\n",
    "ax.set_ylim([0,1.75])\n",
    "ax.set_yticks(np.arange(0,1.76, 0.25))\n",
    "idx+=1\n",
    "\n",
    "# Annotations get not exported to pgfplots/tikz... :( \n",
    "# annotate_props = {'fontsize':14, 'arrowprops':{'arrowstyle':'-|>'}, \"textcoords\":'offset points'}\n",
    "# annotate_props2 = {'xytext':(-120, 0), 'fontsize':12, 'color':lms_red, 'backgroundcolor':'w', \"textcoords\":'offset points'}\n",
    "# annotate_props3 = {'xytext':(-120, 0), 'fontsize':12, 'color':'gray', 'backgroundcolor':'w', \"textcoords\":'offset points'}\n",
    "\n",
    "# # left side\n",
    "# plt.annotate(xy=[1, 0.57], s=\"25% quantile\", **annotate_props2)\n",
    "# plt.annotate(xy=[1, 0.69], s=\"50% quantile\", **annotate_props2)\n",
    "# plt.annotate(xy=[1, 0.95], s=\"75% quantile\", **annotate_props2)\n",
    "# plt.annotate(xy=[1, 1.65], s=\"$>1.5*Q_{3,max}$\", **annotate_props3)\n",
    "\n",
    "# # right side\n",
    "# plt.annotate(xy=[1, 0.50], s=\"lower whisker\", xytext=(50, -30), **annotate_props)\n",
    "# plt.annotate(xy=[1, 0.71], s=\"median\", xytext=(50, -30), **annotate_props)\n",
    "# plt.annotate(xy=[1, 0.93], s=\"mean\", xytext=(50, -30), **annotate_props)\n",
    "# plt.annotate(xy=[1, 1.53], s=\"upper whisker\", **annotate_props, xytext=(50, -30))\n",
    "# plt.annotate(xy=[1, 1.68], s=\"outliers\", **annotate_props, xytext=(50, -30))\n",
    "\n",
    "\n",
    "## EXPORT\n",
    "if EXPORT_LATEX:\n",
    "    tikz_save(os.path.join(PATH_LATEX, 'plots', 'reference', 'boxplot-reference.tex'), strict=True)"
   ]
  },
  {
   "cell_type": "markdown",
   "metadata": {},
   "source": [
    "## Old way of reading data"
   ]
  },
  {
   "cell_type": "code",
   "execution_count": null,
   "metadata": {
    "collapsed": true
   },
   "outputs": [],
   "source": [
    "# Configuration\n",
    "\n",
    "# NAME_EVALUATION = 'mean-err-n-sources'\n",
    "# NAME_FOLDER = \"{}sources\"\n",
    "# NAME_DATA_FILES = '2017-10-04*.txt'  # 1st trials, original speech samples\n",
    "\n",
    "# NAME_EVALUATION = 'mean-err-n-sources-sample3and5exchanged'\n",
    "# NAME_FOLDER = \"{}sources\"\n",
    "# NAME_DATA_FILES = '2017-10-11*.txt'  # 2nd trials, rearranged speech samples\n",
    "\n",
    "# NAME_EVALUATION = 'mean-err-n-sources-rnd-T60=0.0'\n",
    "# NAME_FOLDER = \"{}sources-rnd\"\n",
    "# NAME_DATA_FILES = '2017-*results.txt'  # 3rd trials, BASE\n",
    "\n",
    "# NAME_EVALUATION = 'mean-err-n-sources-rnd-T60=0.3'\n",
    "# NAME_FOLDER = \"{}sources-rnd-T60\"\n",
    "# NAME_DATA_FILES = '2017-*0.3T60*results.txt'  # 4th trials, T60=0.3\n",
    "\n",
    "# NAME_EVALUATION = 'mean-err-n-sources-rnd-T60=0.6-em=5'\n",
    "# NAME_FOLDER = \"{}sources-rnd-T60\"\n",
    "# NAME_DATA_FILES = '2017-*0.6T60*5em_results.txt'  # 5th trials, T60=0.6, em=5\n",
    "\n",
    "# NAME_EVALUATION = 'mean-err-n-sources-rnd-T60=0.6-em=10'\n",
    "# NAME_FOLDER = \"{}sources-rnd-T60\"\n",
    "# NAME_DATA_FILES = '2017-*0.6T60*10em_results.txt'  # 6th trials, T60=0.6, em=10\n",
    "\n",
    "# NAME_EVALUATION = 'mean-err-n-sources-rnd-estimates'\n",
    "# NAME_FOLDER = \"{}sources-rnd-estimates\"\n",
    "# NAME_DATA_FILES = '*results.txt'  # 7th trials, random estimates (benchmark)"
   ]
  },
  {
   "cell_type": "code",
   "execution_count": null,
   "metadata": {
    "collapsed": true
   },
   "outputs": [],
   "source": [
    "n_sources_range = [1, 2, 3, 4, 5, 6, 7]\n",
    "results_dict = {}\n",
    "\n",
    "for s in n_sources_range:\n",
    "    # define filename format\n",
    "    files = glob.glob(path.join(PATH_ROOT,NAME_FOLDER.format(s), NAME_DATA_FILES))\n",
    "\n",
    "    # load data\n",
    "    dfs = []\n",
    "    for f in files:\n",
    "        dfs.append(pd.DataFrame(list(csv.reader(open(f, 'r'), delimiter='\\t')), dtype=float))\n",
    "    try:   \n",
    "        results = pd.concat(dfs)\n",
    "    except ValueError:\n",
    "        continue\n",
    "    n_trials = len(results)\n",
    "    n_sources = int((len(results.columns)-1)/5)\n",
    "    results.drop(results.columns[[n_sources*4+n_sources]], axis=1, inplace=True) # drops empty column\n",
    "    results.columns = get_col_names(n_sources)\n",
    "    results.index = [\"t{}\".format(i+1) for i in range(n_trials)]\n",
    "    results_dict['{}'.format(n_sources)] = results\n",
    "    \n",
    "    # calculate helper columns\n",
    "    results['n_sources']     = n_sources\n",
    "    results[\"err_mean\"]      = results.loc[:, \"err1\":_get_err_col_name(s)[-1]].mean(axis=1)\n",
    "    results[\"err_total\"]     = results.loc[:, \"err1\":_get_err_col_name(s)[-1]].sum(axis=1)\n",
    "    results[\"perfect_match\"] = results[\"err_total\"]<=0.01\n",
    "\n",
    "try:   \n",
    "    results = pd.concat(results_dict, ignore_index=True)\n",
    "except ValueError:\n",
    "    print(\"NO DATA FOUND!\")\n",
    "\n",
    "print(\"SUMMARY:\")\n",
    "summary = results.groupby('n_sources').agg({'x1':'count', 'err_mean':np.mean, 'perfect_match':np.mean}).rename(columns={'x1':'sample size'})\n",
    "print(summary.transpose())\n",
    "\n",
    "# print(\"\")\n",
    "# print(\"COMPLETE DATA:\")\n",
    "# print(results.sample(5))\n",
    "if EXPORT_RESULTS:\n",
    "    results.to_pickle(path.join(PATH_ROOT, NAME_DATAFRAME))\n",
    "if EXPORT_LATEX:\n",
    "    summary.transpose().to_latex(PATH_LATEX_SUMMARY_TABLE, column_format=\"rrrrrrr\", bold_rows=True)"
   ]
  },
  {
   "cell_type": "markdown",
   "metadata": {},
   "source": [
    "## Old way of comparing"
   ]
  },
  {
   "cell_type": "code",
   "execution_count": null,
   "metadata": {
    "collapsed": true
   },
   "outputs": [],
   "source": [
    "files = glob.glob(path.join(PATH_ROOT, 'mean-err-n-sources-rnd-T60*-dataframe.pkl'))\n",
    "files2 = glob.glob(path.join(PATH_ROOT, 'mean-err-n-sources-rnd-estimates-dataframe.pkl'))\n",
    "from pprint import pprint\n",
    "print(\"The following files match the criterion:\")\n",
    "\n",
    "dfs = []\n",
    "for f in files:\n",
    "    df = pd.read_pickle(f)\n",
    "    fname = f.split(sep=\"/\")[-1]\n",
    "    print(fname)\n",
    "    version = fname[fname.find(\"rnd-\")+4:fname.find(\"-dataframe\")]\n",
    "    if version==\"\": version=\"latest\"\n",
    "    df[\"version\"] = version\n",
    "    dfs.append(df)\n",
    "\n",
    "for f in files2:\n",
    "    df = pd.read_pickle(f)\n",
    "    fname = f.split(sep=\"/\")[-1]\n",
    "    print(fname)\n",
    "    df[\"version\"] = \"random\"\n",
    "    dfs.append(df)\n",
    "\n",
    "dfc = pd.concat(dfs, ignore_index=True)\n",
    "print(\"\\nSUMMARY:\")\n",
    "print(dfc.groupby(by=[\"version\", \"n_sources\"]).agg({'x1':'count', 'err_mean':np.mean, 'perfect_match':np.mean}).rename(columns={'x1':'sample size'}))"
   ]
  },
  {
   "cell_type": "markdown",
   "metadata": {},
   "source": [
    "## Plot with groups "
   ]
  },
  {
   "cell_type": "code",
   "execution_count": null,
   "metadata": {
    "collapsed": true
   },
   "outputs": [],
   "source": [
    "import pandas as pd\n",
    "import numpy as np\n",
    "from matplotlib import pyplot as plt\n",
    "from itertools import groupby\n",
    "\n",
    "def test_table():\n",
    "    data_table = pd.DataFrame({'version':['v1']*4 + ['v2']*4,\n",
    "                               'n_sources':(['2']*2 + ['3']*2)*2,\n",
    "                               'Quantity':[10,20,5,6,4,7,2,1],\n",
    "                               'Ordered':np.random.randint(0,10,8)\n",
    "                               })\n",
    "    return data_table\n",
    "\n",
    "def add_line(ax, xpos, ypos):\n",
    "    line = plt.Line2D([xpos, xpos], [ypos + .1, ypos],\n",
    "                      transform=ax.transAxes, color='black')\n",
    "    line.set_clip_on(False)\n",
    "    ax.add_line(line)\n",
    "\n",
    "def label_len(my_index,level):\n",
    "    labels = my_index.get_level_values(level)\n",
    "    return [(k, sum(1 for i in g)) for k,g in groupby(labels)]\n",
    "\n",
    "def label_group_bar_table(ax, df):\n",
    "    ypos = -.1\n",
    "    scale = 1./df.index.size\n",
    "    for level in range(df.index.nlevels)[::-1]:\n",
    "        pos = 0\n",
    "        for label, rpos in label_len(df.index,level):\n",
    "            lxpos = (pos + .5 * rpos)*scale\n",
    "            ax.text(lxpos, ypos, label, ha='center', transform=ax.transAxes)\n",
    "            add_line(ax, pos*scale, ypos)\n",
    "            pos += rpos\n",
    "        add_line(ax, pos*scale , ypos)\n",
    "        ypos -= .1\n",
    "\n",
    "df = dfc.groupby(['n_sources','version']).mean()[\"err_mean\"]\n",
    "fig = plt.figure(figsize=(17,5))\n",
    "ax = fig.add_subplot(111)\n",
    "df.plot(kind='bar',stacked=False,ax=fig.gca(),color=[lms_red,'black', 'gray'])\n",
    "#Below 3 lines remove default labels\n",
    "labels = ['' for item in ax.get_xticklabels()]\n",
    "ax.set_xticklabels(labels)\n",
    "ax.set_xlabel('')\n",
    "label_group_bar_table(ax, df)\n",
    "fig.subplots_adjust(bottom=.1*df.index.nlevels)"
   ]
  },
  {
   "cell_type": "markdown",
   "metadata": {},
   "source": [
    "## Check for Normality (Q-Q-Plot)"
   ]
  },
  {
   "cell_type": "code",
   "execution_count": null,
   "metadata": {
    "collapsed": true
   },
   "outputs": [],
   "source": [
    "import pylab \n",
    "import numpy as np\n",
    "import scipy.stats as stats\n",
    "\n",
    "def transform(x):\n",
    "    return np.power(x, -1)\n",
    "\n",
    "evalruns = ['guessing-at-random', 'base']\n",
    "\n",
    "pylab.subplots(1,2,figsize=(17, 5))\n",
    "for desc in evalruns:\n",
    "    df = matlab2pandas(dirname=desc, save_to=False, summary=True)\n",
    "    df[\"err_mean\"] = pd.to_numeric(df[\"err_mean\"])\n",
    "    df_s = df[df[\"n_sources\"]==2]\n",
    "    pylab.subplot(1,2,evalruns.index(desc)+1)\n",
    "    stats.probplot(df_s[\"err_mean\"], dist=\"norm\", plot=pylab)\n",
    "    pylab.title(desc)\n",
    "\n",
    "pylab.show()"
   ]
  },
  {
   "cell_type": "markdown",
   "metadata": {},
   "source": [
    "# Significance Analysis"
   ]
  },
  {
   "cell_type": "code",
   "execution_count": null,
   "metadata": {
    "collapsed": true
   },
   "outputs": [],
   "source": [
    "from scipy.stats import ttest_ind, describe, norm\n",
    "from statsmodels.formula.api import ols\n",
    "\n",
    "means = []\n",
    "stddevs = []\n",
    "\n",
    "# extract err-mean per n_sources\n",
    "cat = {}\n",
    "for n in set(df[\"n-sources\"].values):\n",
    "    cat[str(n)] = df[df['n-sources']==n]['err-mean']\n",
    "\n",
    "x = np.linspace(0,1.5,100)\n",
    "print(\"DESCRIPTIVE ANALYSIS:\")\n",
    "fig, ax = plt.subplots(1,3, figsize=(17,  6))\n",
    "for n, c in cat.items():\n",
    "    dr = describe(c)\n",
    "    means.append(dr.mean)\n",
    "    stddevs.append(np.sqrt(dr.variance))\n",
    "    y = norm.pdf(x, loc=dr.mean, scale=np.sqrt(dr.variance))\n",
    "    plt.subplot(131)\n",
    "    plt.plot(x, y, label=n)  # plot gaussian\n",
    "    print(\"{} sources: n={:3}, min={:0.3f}, max={:0.3f}, mean={:0.3f}, variance={:0.3f}, std.dev={:0.3f}\".format(\n",
    "        n, dr.nobs, dr.minmax[0], dr.minmax[1], dr.mean, dr.variance, np.sqrt(dr.variance)))\n",
    "plt.legend()\n",
    "\n",
    "plt.subplot(132)\n",
    "plt.boxplot(list(cat.values()), showmeans=True, meanline=True)\n",
    "\n",
    "plt.subplot(133)\n",
    "plt.boxplot(list(cat.values()), showmeans=True, meanline=True)\n",
    "plt.ylim(-0.01, 0.31)\n",
    "plt.yticks([0, 0.1, 0.2, 0.3])\n",
    "\n",
    "# This means that given p and t values from a two-tailed test, you would reject the null hypothesis \n",
    "# of a greater-than test when p/2 < alpha and t > 0, and of a less-than test when p/2 < alpha and t < 0.    \n",
    "\n",
    "print(\"\\nT-TEST FOR DIFFERENCE IN MEANS:\")\n",
    "for i1 in set(df[\"n-sources\"].values):\n",
    "    for i2 in set(df[\"n-sources\"].values):\n",
    "        if i1!=i2 and i2>i1 and i2<=i1+1:\n",
    "            ttest = ttest_ind(cat[str(i2)], cat[str(i1)], equal_var=False)\n",
    "            p_onesided = ttest.pvalue/2\n",
    "            if p_onesided <= 0.01:sign=\"***\"\n",
    "            elif p_onesided <= 0.05: sign=\"**\"\n",
    "            elif p_onesided <= 0.10: sign=\"*\"\n",
    "            else: sign=\"(n.s.)\"\n",
    "            print(\"{}x{}: t={t.statistic:0.3f}, p={p:0.3f} {s:^6}\".format(i1, i2, t=ttest, p=p_onesided, s=sign))\n",
    "\n",
    "print(\"\\nVISUALIZE MEANS AND VARIANCE OF DATA:\")"
   ]
  },
  {
   "cell_type": "markdown",
   "metadata": {},
   "source": [
    "## Custom Boxplot with Lines "
   ]
  },
  {
   "cell_type": "code",
   "execution_count": null,
   "metadata": {
    "collapsed": true
   },
   "outputs": [],
   "source": [
    "import matplotlib.pyplot as plt\n",
    "import numpy as np\n",
    "\n",
    "# Generate some data...\n",
    "data = np.random.random((100, 5))\n",
    "y = data.mean(axis=0)\n",
    "x = np.random.random(y.size) * 10\n",
    "x -= x.min()\n",
    "x.sort()\n",
    "\n",
    "# Plot a line between the means of each dataset\n",
    "plt.plot(x, y, 'b-')\n",
    "\n",
    "# Save the default tick positions, so we can reset them...\n",
    "locs, labels = plt.xticks() \n",
    "\n",
    "plt.boxplot(data, positions=x, notch=True)\n",
    "\n",
    "# Reset the xtick locations.\n",
    "#plt.xticks(locs)\n",
    "plt.show()"
   ]
  },
  {
   "cell_type": "markdown",
   "metadata": {},
   "source": [
    "## Grid of 3-by-2 Boxplots with lines through means"
   ]
  },
  {
   "cell_type": "code",
   "execution_count": null,
   "metadata": {
    "collapsed": true
   },
   "outputs": [],
   "source": [
    "# Print Boxplots\n",
    "ax, i = init_grid((2,3),(17,12))\n",
    "for val in dfp.index.values:\n",
    "    dftt = dft[dft[var]==val]\n",
    "    try:\n",
    "        bp = dftt.boxplot('err-mean', by=[\"n-sources\"], return_type='both', figsize=(6,  6), showmeans=True, meanline=False, ax=ax[i])\n",
    "        style_boxplot(bp)\n",
    "        # plot line through means\n",
    "        ax[i].plot([1,2,3,4,5,6], *list(dfp[dfp.index==val].values), color=lms_red, linewidth=0.5)\n",
    "        # Title and legend are applied in LaTeX\n",
    "        # ax[i].set_title(\"{}={}\".format(var,val))\n",
    "        # ax[i].legend([Rectangle((0, 0), 0, 0, alpha=0.0)], ['em={}'.format(int(val))], handlelength=0)\n",
    "        i+=1\n",
    "    except ValueError:\n",
    "        continue\n",
    "\n",
    "plt.tight_layout(.5)\n",
    "\n",
    "if EXPORT_LATEX:\n",
    "        tikz_save(\"\".join([PATH_LATEX_PLOTS, 'boxplot-{}-{}.tex'.format(var, int(val))]))"
   ]
  },
  {
   "cell_type": "markdown",
   "metadata": {},
   "source": [
    "## All Data Lineplot of Mean Err and Percent Matched"
   ]
  },
  {
   "cell_type": "code",
   "execution_count": null,
   "metadata": {
    "collapsed": true
   },
   "outputs": [],
   "source": [
    "ax, i = init_grid((1,2), (12,3))\n",
    "cols = ['err-mean', 'percent-matched']\n",
    "for col in cols:\n",
    "    dft.pivot_table(col, index=['n-sources'], aggfunc='mean').plot(**DEFAULT_LINE_PLOT_ARGS, grid=True, ax=ax[i], title=col)\n",
    "    style_line_plot(\"\", \"\", grid='x', ax=ax[i])\n",
    "    adjust_y_axis(0.1,1,0,1.01,ax[i])\n",
    "    i+=1"
   ]
  },
  {
   "cell_type": "code",
   "execution_count": null,
   "metadata": {
    "collapsed": true
   },
   "outputs": [],
   "source": [
    "ax, i = init_grid((1,2),(17,6))\n",
    "cols = ['err-mean', 'percent-matched']\n",
    "axis_param = [[0.2, 0, 0, 2.01],[0.1, 0, 0,1.01]]\n",
    "for col in cols:\n",
    "    a = dft.pivot_table(col, index=['n-sources'], columns=[var], aggfunc='mean').plot(**DEFAULT_LINE_PLOT_ARGS, grid=True, ax=ax[i], title=col)\n",
    "#     a.set_ylim([0,1])\n",
    "    style_line_plot(\"number of sources\", \"\", grid='x', ax=ax[i])\n",
    "#     adjust_y_axis(*axis_param[i], a)\n",
    "    i+=1\n",
    "    if EXPORT_LATEX:\n",
    "        tikz_save(\"\".join([PATH_LATEX_PLOTS, 'plot_{}_{}.tex'.format(desc, col)]),\n",
    "        figureheight = '\\\\figureheight',\n",
    "        figurewidth = '\\\\figurewidth'\n",
    "        )"
   ]
  },
  {
   "cell_type": "markdown",
   "metadata": {},
   "source": [
    "## EM Iterations"
   ]
  },
  {
   "cell_type": "code",
   "execution_count": null,
   "metadata": {
    "collapsed": true
   },
   "outputs": [],
   "source": [
    "# Print Means in Lineplot\n",
    "ax, i = init_grid((1,2),(15,8))\n",
    "cols = ['err-mean', 'percent-matched']\n",
    "axis_param = [[0.1, 0, 0, 1.01],[0.1, 0, 0,1.01]]\n",
    "for col in cols:\n",
    "    a = dft.pivot_table(col, index=['n-sources'], columns=[var], aggfunc='mean').plot(**DEFAULT_LINE_PLOT_ARGS, grid=True, ax=ax[i], title=col)\n",
    "#     a.set_ylim([0,1])\n",
    "    style_line_plot(\"number of sources\", \"\", grid='x', ax=ax[i])\n",
    "    adjust_y_axis(*axis_param[i], a)\n",
    "    i+=1\n",
    "    if EXPORT_LATEX:\n",
    "        tikz_save(\"\".join([PATH_LATEX_PLOTS, 'lineplot-{}-{}.tex'.format(var, col)]))"
   ]
  }
 ],
 "metadata": {
  "kernelspec": {
   "display_name": "Python 3",
   "language": "python",
   "name": "python3"
  },
  "language_info": {
   "codemirror_mode": {
    "name": "ipython",
    "version": 3
   },
   "file_extension": ".py",
   "mimetype": "text/x-python",
   "name": "python",
   "nbconvert_exporter": "python",
   "pygments_lexer": "ipython3",
   "version": "3.6.2"
  }
 },
 "nbformat": 4,
 "nbformat_minor": 2
}
