{
 "cells": [
  {
   "cell_type": "markdown",
   "metadata": {},
   "source": [
    "# Source Tracking Thesis"
   ]
  },
  {
   "cell_type": "code",
   "execution_count": 10,
   "metadata": {
    "collapsed": true
   },
   "outputs": [],
   "source": [
    "%matplotlib inline \n",
    "# %matplotlib notebook would provide interactive plots\n",
    "\n",
    "import glob\n",
    "import csv\n",
    "from os import path\n",
    "\n",
    "import pandas as pd\n",
    "import matplotlib\n",
    "import numpy as np\n",
    "import matplotlib.pyplot as plt\n",
    "\n",
    "path_root = '../matlab/mainczjs/evaluation/results/'\n",
    "\n",
    "def _get_trial_index(t):\n",
    "    return [\"t{}\".format(i+1) for i in range(t)]\n",
    "\n",
    "def _get_col_name(s,post):\n",
    "    return sum([(\"x{}{},y{}{}\".format(n,post,n,post)).split(',') for n in range(1,s+1)],[])\n",
    "\n",
    "def _get_err_col_name(s):\n",
    "    return [\"err{}\".format(n) for n in range(1,s+1)]\n",
    "\n",
    "def get_col_names(s):\n",
    "    return sum([_get_col_name(s,\"\"), _get_col_name(s,\"est\"), _get_err_col_name(s)], []) \n",
    "\n",
    "def is_x1_correct(row):\n",
    "    if abs(row[\"x1\"]-row[\"x1est\"]) > 0.001:\n",
    "        if abs(row[\"y1\"]-row[\"y1est\"]) > 0.001:\n",
    "            return 1\n",
    "    return 0"
   ]
  },
  {
   "cell_type": "markdown",
   "metadata": {},
   "source": [
    "## Evaluate Mean Error"
   ]
  },
  {
   "cell_type": "code",
   "execution_count": 35,
   "metadata": {},
   "outputs": [
    {
     "name": "stderr",
     "output_type": "stream",
     "text": [
      "/usr/local/lib/python3.6/site-packages/ipykernel_launcher.py:22: FutureWarning: convert_objects is deprecated.  Use the data-type specific converters pd.to_datetime, pd.to_timedelta and pd.to_numeric.\n"
     ]
    }
   ],
   "source": [
    "eval_columns = ['n_trials', 'mean_err']\n",
    "n_sources_range = [2, 3, 4, 5, 6, 7]\n",
    "results_dict = {}\n",
    "eval_index = n_sources_range\n",
    "eval_data = pd.DataFrame(index=range(0,len(n_sources_range)),columns=eval_columns)\n",
    "eval_data.index = eval_index\n",
    "\n",
    "for s in n_sources_range:\n",
    "    # define filename format\n",
    "    files = glob.glob(path.join(path_root,\"{}sources\".format(s),'*.txt'))\n",
    "\n",
    "    # load data\n",
    "    dfs = []\n",
    "    for f in files:\n",
    "        dfs.append(pd.DataFrame(list(csv.reader(open(f, 'r'), delimiter='\\t')), dtype=float))\n",
    "    results = pd.concat(dfs)\n",
    "    n_trials = len(results)\n",
    "    n_sources = int((len(results.columns)-1)/5)\n",
    "    results.drop(results.columns[[n_sources*4+n_sources]], axis=1, inplace=True) \n",
    "    results.columns = get_col_names(n_sources)\n",
    "    results.index = [\"t{}\".format(i+1) for i in range(n_trials)]\n",
    "    results.convert_objects()\n",
    "    results_dict['{}'.format(n_sources)] = results\n",
    "    # preview data\n",
    "#     print(results.sample(5))\n",
    "#     print(results.sample(5).loc[:,'x1':'y2'])\n",
    "#     print(results.sample(5).loc[:,\"err1\":])\n",
    "#     print(results.loc[:,\"err1\":])\n",
    "    \n",
    "    # calculate statistics\n",
    "    mean_err = results.mean()[-n_sources:].mean()\n",
    "#     results.apply(is_x1_correct,axis=0)\n",
    "    \n",
    "    # saving statistics to eval_data\n",
    "    eval_data.set_value(n_sources, 'n_trials', n_trials)\n",
    "    eval_data.set_value(n_sources, 'mean_err', round(mean_err,2))\n",
    "    \n",
    "    # output statistics\n",
    "#     print(\"# Sources: {}, # Trials: {}, Mean Error: {:0.2f}\".format(n_sources, n_trials, mean_err))"
   ]
  },
  {
   "cell_type": "markdown",
   "metadata": {},
   "source": [
    "### Plot results"
   ]
  },
  {
   "cell_type": "code",
   "execution_count": 36,
   "metadata": {},
   "outputs": [
    {
     "name": "stdout",
     "output_type": "stream",
     "text": [
      "=========================================================\n",
      "Please add the following lines to your LaTeX preamble:\n",
      "\n",
      "\\usepackage[utf8]{inputenc}\n",
      "\\usepackage{fontspec} % This line only for XeLaTeX and LuaLaTeX\n",
      "\\usepackage{pgfplots}\n",
      "=========================================================\n",
      "Horizontal alignment will be ignored as no 'x tick label text width' has been passed in the 'extra' parameter\n",
      "Horizontal alignment will be ignored as no 'y tick label text width' has been passed in the 'extra' parameter\n"
     ]
    },
    {
     "data": {
      "image/png": "[encoded data removed]",
      "text/plain": [
       "<matplotlib.figure.Figure at 0x10af93e10>"
      ]
     },
     "metadata": {},
     "output_type": "display_data"
    }
   ],
   "source": [
    "from matplotlib2tikz import save as tikz_save\n",
    "\n",
    "plt.bar(eval_data.index, height=eval_data['mean_err'])\n",
    "# plt.xticks([\"{} sources\".format(x) for x in n_sources_range])\n",
    "plt.xticks(n_sources_range)\n",
    "plt.yticks([0.1, 0.2, 0.3])\n",
    "plt.xlabel(\"number of sources\")\n",
    "plt.ylabel(\"mean localisation error (m)\")\n",
    "# plt.title(\"Mean localisation error across number of sources\")\n",
    "# plt.show()\n",
    "tikz_save('../latex/data/plots/mean-err-n-sources-bar.tex')"
   ]
  },
  {
   "cell_type": "markdown",
   "metadata": {},
   "source": [
    "### Export results to LaTeX"
   ]
  },
  {
   "cell_type": "code",
   "execution_count": 37,
   "metadata": {},
   "outputs": [
    {
     "name": "stdout",
     "output_type": "stream",
     "text": [
      "  n_trials mean_err\n",
      "2       60     0.02\n",
      "3       60     0.08\n",
      "4       60     0.08\n",
      "5       60     0.26\n",
      "6       30     0.35\n",
      "7       25     0.32\n"
     ]
    }
   ],
   "source": [
    "eval_data.to_latex('../latex/data/tables/mean-err-n-sources.tex', column_format=\"rcc\", bold_rows=True)\n",
    "print(eval_data)"
   ]
  },
  {
   "cell_type": "markdown",
   "metadata": {},
   "source": [
    "### Boxplot"
   ]
  },
  {
   "cell_type": "code",
   "execution_count": 38,
   "metadata": {},
   "outputs": [
    {
     "name": "stdout",
     "output_type": "stream",
     "text": [
      "Horizontal alignment will be ignored as no 'x tick label text width' has been passed in the 'extra' parameter\n",
      "Horizontal alignment will be ignored as no 'y tick label text width' has been passed in the 'extra' parameter\n"
     ]
    },
    {
     "data": {
      "image/png": "[encoded data removed]",
      "text/plain": [
       "<matplotlib.figure.Figure at 0x10aa3b160>"
      ]
     },
     "metadata": {},
     "output_type": "display_data"
    }
   ],
   "source": [
    "frames = []\n",
    "total_trials = 0\n",
    "for n_source, res in results_dict.items():\n",
    "    df_err = pd.DataFrame(res.loc[:, 'err1':].mean(axis=1))\n",
    "    df_source = pd.DataFrame(columns=['n'], index=_get_trial_index(len(res)), data=n_source)\n",
    "    df_err['sources'] = df_source\n",
    "    frames.append(df_err)\n",
    "dfs = pd.concat(frames, ignore_index=True) # different indices\n",
    "dfs.columns = ['err','sources']\n",
    "dfs.boxplot(by='sources',figsize=(4,8),)\n",
    "plt.title(\"\")\n",
    "plt.xlabel(\"\")\n",
    "plt.ylabel(\"\")\n",
    "plt.grid(axis='x')\n",
    "tikz_save('../latex/data/plots/mean-err-n-sources-box.tex', show_info=False)"
   ]
  },
  {
   "cell_type": "markdown",
   "metadata": {},
   "source": [
    "### Scatter Plot"
   ]
  },
  {
   "cell_type": "code",
   "execution_count": 52,
   "metadata": {},
   "outputs": [
    {
     "name": "stdout",
     "output_type": "stream",
     "text": [
      "[ 0.          0.          0.          0.          0.1         0.          0.\n",
      "  0.07071068  0.          0.          0.          0.          0.          0.\n",
      "  0.          0.          0.07071068  0.          0.          0.          0.\n",
      "  0.          0.          0.          0.          0.          0.          0.\n",
      "  0.          0.          0.          0.          0.          0.          0.\n",
      "  0.          0.          0.          0.          0.          0.          0.\n",
      "  0.          0.          0.          0.          0.          0.          0.\n",
      "  0.          0.          0.          0.          1.15974135  0.          0.\n",
      "  0.          0.          0.          0.          0.811035    0.\n",
      "  0.12018504  0.          0.03333333  0.          0.          0.          0.\n",
      "  0.          0.03333333  0.          0.          0.          0.04714045\n",
      "  0.          0.49553562  0.          0.          0.          0.\n",
      "  1.13186179  0.          0.          0.          0.04714045  0.          0.\n",
      "  0.          0.          0.          0.04714045  0.          0.          0.\n",
      "  0.          0.          0.          0.          0.          0.          0.\n",
      "  0.          0.          0.          0.          1.91581114  0.          0.\n",
      "  0.          0.          0.          0.          0.          0.          0.\n",
      "  0.04714045  0.          0.          0.          0.          0.\n",
      "  0.19525624  0.0559017   0.025       1.22162215  0.0559017   0.65431262\n",
      "  0.          0.          0.          0.          0.          0.          0.\n",
      "  0.          0.025       0.          0.          0.          0.025       0.\n",
      "  0.          0.1368034   0.          0.          0.          0.          0.\n",
      "  0.          0.          0.          0.          0.          0.          0.\n",
      "  0.          1.1670226   0.          0.          0.          0.          0.\n",
      "  0.          0.          0.          0.          0.          0.          0.\n",
      "  0.03535534  0.05        0.          0.          0.74654348  0.          0.\n",
      "  0.          0.          0.21505813  0.          2.15063419  0.\n",
      "  0.37829519  0.25650191  0.          0.23445802  0.02        0.04828427\n",
      "  0.68443149  0.          0.          0.          0.          0.11074638\n",
      "  0.          0.          0.05656854  0.          0.02        0.77897368\n",
      "  0.          0.          0.          0.          0.26948384  0.          0.\n",
      "  0.          0.02        0.70710678  0.66211781  0.02828427  0.02828427\n",
      "  0.          0.21260292  0.61424945  0.          0.24472136  0.02828427\n",
      "  0.92098842  0.48332184  1.32054845  0.27335618  0.94598852  0.          0.02\n",
      "  1.07602316  0.02828427  0.11772699  0.          0.1979899   0.25059928\n",
      "  0.02        0.2912044   1.26175671  0.02        0.50249224  0.02828427\n",
      "  0.04        0.42078147  0.37398482  0.48574006  0.32771379  0.08333333\n",
      "  0.78020315  0.0372678   0.28738956  0.          0.76515397  0.78364937\n",
      "  0.18955634  0.65628087  0.62669581  0.77365162  0.11666667  0.19436506\n",
      "  0.          0.          0.4669752   0.54124596  0.1233854   0.30046261\n",
      "  0.13017083  0.21213203  0.          0.          0.5421152   0.6213331\n",
      "  0.65026603  0.          0.23578641  0.04622954  0.18571429  0.05214688\n",
      "  0.34315463  0.67458643  0.27261494  0.          0.02020305  0.70576248\n",
      "  0.10350236  0.          0.34810995  0.39031264  0.01428571  0.52591005\n",
      "  1.22623641  0.01428571  0.16935029  0.23273256  0.41914339  0.56958541\n",
      "  1.1841582   0.38047582]\n",
      "=========================================================\n",
      "Please add the following lines to your LaTeX preamble:\n",
      "\n",
      "\\usepackage[utf8]{inputenc}\n",
      "\\usepackage{fontspec} % This line only for XeLaTeX and LuaLaTeX\n",
      "\\usepackage{pgfplots}\n",
      "=========================================================\n",
      "Horizontal alignment will be ignored as no 'x tick label text width' has been passed in the 'extra' parameter\n",
      "Horizontal alignment will be ignored as no 'y tick label text width' has been passed in the 'extra' parameter\n"
     ]
    },
    {
     "ename": "TypeError",
     "evalue": "must be real number, not str",
     "output_type": "error",
     "traceback": [
      "\u001b[0;31m---------------------------------------------------------------------------\u001b[0m",
      "\u001b[0;31mTypeError\u001b[0m                                 Traceback (most recent call last)",
      "\u001b[0;32m<ipython-input-52-fb84667e216a>\u001b[0m in \u001b[0;36m<module>\u001b[0;34m()\u001b[0m\n\u001b[1;32m      7\u001b[0m \u001b[0;31m# plt.ylabel(\"mean localisation error (m)\")\u001b[0m\u001b[0;34m\u001b[0m\u001b[0;34m\u001b[0m\u001b[0m\n\u001b[1;32m      8\u001b[0m \u001b[0;31m# plt.show()\u001b[0m\u001b[0;34m\u001b[0m\u001b[0;34m\u001b[0m\u001b[0m\n\u001b[0;32m----> 9\u001b[0;31m \u001b[0mtikz_save\u001b[0m\u001b[0;34m(\u001b[0m\u001b[0;34m'../latex/data/plots/mean-err-n-sources-scatter.tex'\u001b[0m\u001b[0;34m)\u001b[0m\u001b[0;34m\u001b[0m\u001b[0m\n\u001b[0m",
      "\u001b[0;32m/usr/local/lib/python3.6/site-packages/matplotlib2tikz/save.py\u001b[0m in \u001b[0;36msave\u001b[0;34m(*args, **kwargs)\u001b[0m\n\u001b[1;32m    195\u001b[0m     '''\n\u001b[1;32m    196\u001b[0m     \u001b[0mencoding\u001b[0m \u001b[0;34m=\u001b[0m \u001b[0mkwargs\u001b[0m\u001b[0;34m.\u001b[0m\u001b[0mpop\u001b[0m\u001b[0;34m(\u001b[0m\u001b[0;34m'encoding'\u001b[0m\u001b[0;34m,\u001b[0m \u001b[0;32mNone\u001b[0m\u001b[0;34m)\u001b[0m\u001b[0;34m\u001b[0m\u001b[0m\n\u001b[0;32m--> 197\u001b[0;31m     \u001b[0mcode\u001b[0m \u001b[0;34m=\u001b[0m \u001b[0mget_tikz_code\u001b[0m\u001b[0;34m(\u001b[0m\u001b[0;34m*\u001b[0m\u001b[0margs\u001b[0m\u001b[0;34m,\u001b[0m \u001b[0;34m**\u001b[0m\u001b[0mkwargs\u001b[0m\u001b[0;34m)\u001b[0m\u001b[0;34m\u001b[0m\u001b[0m\n\u001b[0m\u001b[1;32m    198\u001b[0m     \u001b[0mfile_handle\u001b[0m \u001b[0;34m=\u001b[0m \u001b[0mcodecs\u001b[0m\u001b[0;34m.\u001b[0m\u001b[0mopen\u001b[0m\u001b[0;34m(\u001b[0m\u001b[0margs\u001b[0m\u001b[0;34m[\u001b[0m\u001b[0;36m0\u001b[0m\u001b[0;34m]\u001b[0m\u001b[0;34m,\u001b[0m \u001b[0;34m'w'\u001b[0m\u001b[0;34m,\u001b[0m \u001b[0mencoding\u001b[0m\u001b[0;34m)\u001b[0m\u001b[0;34m\u001b[0m\u001b[0m\n\u001b[1;32m    199\u001b[0m     \u001b[0;32mtry\u001b[0m\u001b[0;34m:\u001b[0m\u001b[0;34m\u001b[0m\u001b[0m\n",
      "\u001b[0;32m/usr/local/lib/python3.6/site-packages/matplotlib2tikz/save.py\u001b[0m in \u001b[0;36mget_tikz_code\u001b[0;34m(filepath, figure, figurewidth, figureheight, textsize, tex_relative_path_to_data, strict, wrap, axis_environment, extra_axis_parameters, extra_tikzpicture_parameters, dpi, show_info)\u001b[0m\n\u001b[1;32m    158\u001b[0m \u001b[0;34m\u001b[0m\u001b[0m\n\u001b[1;32m    159\u001b[0m     \u001b[0;31m# gather the file content\u001b[0m\u001b[0;34m\u001b[0m\u001b[0;34m\u001b[0m\u001b[0m\n\u001b[0;32m--> 160\u001b[0;31m     \u001b[0mdata\u001b[0m\u001b[0;34m,\u001b[0m \u001b[0mcontent\u001b[0m \u001b[0;34m=\u001b[0m \u001b[0m_recurse\u001b[0m\u001b[0;34m(\u001b[0m\u001b[0mdata\u001b[0m\u001b[0;34m,\u001b[0m \u001b[0mfigure\u001b[0m\u001b[0;34m)\u001b[0m\u001b[0;34m\u001b[0m\u001b[0m\n\u001b[0m\u001b[1;32m    161\u001b[0m \u001b[0;34m\u001b[0m\u001b[0m\n\u001b[1;32m    162\u001b[0m     \u001b[0;31m# Check if there is still an open groupplot environment. This occurs if not\u001b[0m\u001b[0;34m\u001b[0m\u001b[0;34m\u001b[0m\u001b[0m\n",
      "\u001b[0;32m/usr/local/lib/python3.6/site-packages/matplotlib2tikz/save.py\u001b[0m in \u001b[0;36m_recurse\u001b[0;34m(data, obj)\u001b[0m\n\u001b[1;32m    281\u001b[0m             \u001b[0;32mif\u001b[0m \u001b[0;32mnot\u001b[0m \u001b[0max\u001b[0m\u001b[0;34m.\u001b[0m\u001b[0mis_colorbar\u001b[0m\u001b[0;34m:\u001b[0m\u001b[0;34m\u001b[0m\u001b[0m\n\u001b[1;32m    282\u001b[0m                 \u001b[0;31m# Run through the child objects, gather the content.\u001b[0m\u001b[0;34m\u001b[0m\u001b[0;34m\u001b[0m\u001b[0m\n\u001b[0;32m--> 283\u001b[0;31m                 \u001b[0mdata\u001b[0m\u001b[0;34m,\u001b[0m \u001b[0mchildren_content\u001b[0m \u001b[0;34m=\u001b[0m \u001b[0m_recurse\u001b[0m\u001b[0;34m(\u001b[0m\u001b[0mdata\u001b[0m\u001b[0;34m,\u001b[0m \u001b[0mchild\u001b[0m\u001b[0;34m)\u001b[0m\u001b[0;34m\u001b[0m\u001b[0m\n\u001b[0m\u001b[1;32m    284\u001b[0m                 \u001b[0;31m# add extra axis options from children\u001b[0m\u001b[0;34m\u001b[0m\u001b[0;34m\u001b[0m\u001b[0m\n\u001b[1;32m    285\u001b[0m                 \u001b[0;32mif\u001b[0m \u001b[0mdata\u001b[0m\u001b[0;34m[\u001b[0m\u001b[0;34m'extra axis options'\u001b[0m\u001b[0;34m]\u001b[0m\u001b[0;34m:\u001b[0m\u001b[0;34m\u001b[0m\u001b[0m\n",
      "\u001b[0;32m/usr/local/lib/python3.6/site-packages/matplotlib2tikz/save.py\u001b[0m in \u001b[0;36m_recurse\u001b[0;34m(data, obj)\u001b[0m\n\u001b[1;32m    300\u001b[0m                         \u001b[0mprint\u001b[0m\u001b[0;34m(\u001b[0m\u001b[0;34m\"=========================================================\"\u001b[0m\u001b[0;34m)\u001b[0m\u001b[0;34m\u001b[0m\u001b[0m\n\u001b[1;32m    301\u001b[0m         \u001b[0;32melif\u001b[0m \u001b[0misinstance\u001b[0m\u001b[0;34m(\u001b[0m\u001b[0mchild\u001b[0m\u001b[0;34m,\u001b[0m \u001b[0mmpl\u001b[0m\u001b[0;34m.\u001b[0m\u001b[0mlines\u001b[0m\u001b[0;34m.\u001b[0m\u001b[0mLine2D\u001b[0m\u001b[0;34m)\u001b[0m\u001b[0;34m:\u001b[0m\u001b[0;34m\u001b[0m\u001b[0m\n\u001b[0;32m--> 302\u001b[0;31m             \u001b[0mdata\u001b[0m\u001b[0;34m,\u001b[0m \u001b[0mcont\u001b[0m \u001b[0;34m=\u001b[0m \u001b[0mline2d\u001b[0m\u001b[0;34m.\u001b[0m\u001b[0mdraw_line2d\u001b[0m\u001b[0;34m(\u001b[0m\u001b[0mdata\u001b[0m\u001b[0;34m,\u001b[0m \u001b[0mchild\u001b[0m\u001b[0;34m)\u001b[0m\u001b[0;34m\u001b[0m\u001b[0m\n\u001b[0m\u001b[1;32m    303\u001b[0m             \u001b[0mcontent\u001b[0m\u001b[0;34m.\u001b[0m\u001b[0mextend\u001b[0m\u001b[0;34m(\u001b[0m\u001b[0mcont\u001b[0m\u001b[0;34m,\u001b[0m \u001b[0mchild\u001b[0m\u001b[0;34m.\u001b[0m\u001b[0mget_zorder\u001b[0m\u001b[0;34m(\u001b[0m\u001b[0;34m)\u001b[0m\u001b[0;34m)\u001b[0m\u001b[0;34m\u001b[0m\u001b[0m\n\u001b[1;32m    304\u001b[0m         \u001b[0;32melif\u001b[0m \u001b[0misinstance\u001b[0m\u001b[0;34m(\u001b[0m\u001b[0mchild\u001b[0m\u001b[0;34m,\u001b[0m \u001b[0mmpl\u001b[0m\u001b[0;34m.\u001b[0m\u001b[0mimage\u001b[0m\u001b[0;34m.\u001b[0m\u001b[0mAxesImage\u001b[0m\u001b[0;34m)\u001b[0m\u001b[0;34m:\u001b[0m\u001b[0;34m\u001b[0m\u001b[0m\n",
      "\u001b[0;32m/usr/local/lib/python3.6/site-packages/matplotlib2tikz/line2d.py\u001b[0m in \u001b[0;36mdraw_line2d\u001b[0;34m(data, obj)\u001b[0m\n\u001b[1;32m    146\u001b[0m     \u001b[0;32melse\u001b[0m\u001b[0;34m:\u001b[0m\u001b[0;34m\u001b[0m\u001b[0m\n\u001b[1;32m    147\u001b[0m         \u001b[0;32mfor\u001b[0m \u001b[0;34m(\u001b[0m\u001b[0mx\u001b[0m\u001b[0;34m,\u001b[0m \u001b[0my\u001b[0m\u001b[0;34m)\u001b[0m \u001b[0;32min\u001b[0m \u001b[0mzip\u001b[0m\u001b[0;34m(\u001b[0m\u001b[0mxdata\u001b[0m\u001b[0;34m,\u001b[0m \u001b[0mydata\u001b[0m\u001b[0;34m)\u001b[0m\u001b[0;34m:\u001b[0m\u001b[0;34m\u001b[0m\u001b[0m\n\u001b[0;32m--> 148\u001b[0;31m             \u001b[0mcontent\u001b[0m\u001b[0;34m.\u001b[0m\u001b[0mappend\u001b[0m\u001b[0;34m(\u001b[0m\u001b[0;34m'%.15g %.15g\\n'\u001b[0m \u001b[0;34m%\u001b[0m \u001b[0;34m(\u001b[0m\u001b[0mx\u001b[0m\u001b[0;34m,\u001b[0m \u001b[0my\u001b[0m\u001b[0;34m)\u001b[0m\u001b[0;34m)\u001b[0m\u001b[0;34m\u001b[0m\u001b[0m\n\u001b[0m\u001b[1;32m    149\u001b[0m     \u001b[0mcontent\u001b[0m\u001b[0;34m.\u001b[0m\u001b[0mappend\u001b[0m\u001b[0;34m(\u001b[0m\u001b[0;34m'};\\n'\u001b[0m\u001b[0;34m)\u001b[0m\u001b[0;34m\u001b[0m\u001b[0m\n\u001b[1;32m    150\u001b[0m \u001b[0;34m\u001b[0m\u001b[0m\n",
      "\u001b[0;31mTypeError\u001b[0m: must be real number, not str"
     ]
    },
    {
     "data": {
      "image/png": "[encoded data removed]",
      "text/plain": [
       "<matplotlib.figure.Figure at 0x10b7d2860>"
      ]
     },
     "metadata": {},
     "output_type": "display_data"
    }
   ],
   "source": [
    "print(dfs['err'].values)\n",
    "plt.plot(dfs['sources'].values, dfs['err'].values, 'bo')\n",
    "plt.xticks(n_sources_range)\n",
    "plt.yticks([0.5, 1.0, 1.5, 2.0])\n",
    "plt.grid(True, axis='y')\n",
    "plt.xlabel(\"number of sources\")\n",
    "plt.ylabel(\"mean localisation error (m)\")\n",
    "# plt.show()\n",
    "# tikz_save('../latex/data/plots/mean-err-n-sources-scatter.tex')"
   ]
  },
  {
   "cell_type": "code",
   "execution_count": null,
   "metadata": {
    "collapsed": true
   },
   "outputs": [],
   "source": []
  }
 ],
 "metadata": {
  "kernelspec": {
   "display_name": "Python 3",
   "language": "python",
   "name": "python3"
  },
  "language_info": {
   "codemirror_mode": {
    "name": "ipython",
    "version": 3
   },
   "file_extension": ".py",
   "mimetype": "text/x-python",
   "name": "python",
   "nbconvert_exporter": "python",
   "pygments_lexer": "ipython3",
   "version": "3.6.2"
  }
 },
 "nbformat": 4,
 "nbformat_minor": 2
}
