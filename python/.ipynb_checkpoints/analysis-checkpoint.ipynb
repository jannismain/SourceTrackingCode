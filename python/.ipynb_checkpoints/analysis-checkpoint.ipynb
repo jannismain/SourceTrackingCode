{
 "cells": [
  {
   "cell_type": "markdown",
   "metadata": {},
   "source": [
    "# Acoustic Source Localisation (ASL)"
   ]
  },
  {
   "cell_type": "code",
   "execution_count": 357,
   "metadata": {
    "collapsed": true
   },
   "outputs": [],
   "source": [
    "# Configuration\n",
    "NAME_EVALUATION = 'mean-err-n-sources-sample3and5exchanged'\n",
    "# NAME_DATA_FILES = '2017-10-04*.txt'  # first trials, original speech samples\n",
    "NAME_DATA_FILES = '2017-10-11*.txt'  # second trials, rearranged speech samples\n",
    "EXPORT_TO_LATEX = False"
   ]
  },
  {
   "cell_type": "code",
   "execution_count": 358,
   "metadata": {},
   "outputs": [],
   "source": [
    "%matplotlib inline \n",
    "# %matplotlib notebook would provide interactive plots\n",
    "\n",
    "import glob\n",
    "import csv\n",
    "from os import path\n",
    "\n",
    "import pandas as pd\n",
    "import matplotlib\n",
    "import numpy as np\n",
    "import matplotlib.pyplot as plt\n",
    "from matplotlib2tikz import save as _tikz_save\n",
    "\n",
    "NAME_SCATTER_PLOT = NAME_EVALUATION+'-scatter.tex'\n",
    "NAME_BOX_PLOT = NAME_EVALUATION+'-box.tex'\n",
    "NAME_BAR_PLOT = NAME_EVALUATION+'-bar.tex'\n",
    "NAME_RESULTS_TABLE = NAME_EVALUATION+'.tex'\n",
    "\n",
    "PATH_ROOT = '../matlab/mainczjs/evaluation/results/'\n",
    "PATH_LATEX_PLOTS = '../latex/data/plots/'\n",
    "PATH_LATEX_TABLES = '../latex/data/tables/'\n",
    "\n",
    "PATH_SCATTER_PLOT = path.join(PATH_LATEX_PLOTS, NAME_SCATTER_PLOT)\n",
    "PATH_BOX_PLOT = path.join(PATH_LATEX_PLOTS, NAME_BOX_PLOT)\n",
    "PATH_BAR_PLOT = path.join(PATH_LATEX_PLOTS, NAME_BAR_PLOT)\n",
    "PATH_LATEX_TABLE = path.join(PATH_LATEX_TABLES, NAME_RESULTS_TABLE)\n",
    "\n",
    "lms_red = (204/255, 53/255, 56/255)\n",
    "\n",
    "def _get_trial_index(t):\n",
    "    return [\"t{}\".format(i+1) for i in range(t)]\n",
    "\n",
    "def _get_col_name(s,post):\n",
    "    return sum([(\"x{}{},y{}{}\".format(n,post,n,post)).split(',') for n in range(1,s+1)],[])\n",
    "\n",
    "def _get_err_col_name(s):\n",
    "    return [\"err{}\".format(n) for n in range(1,s+1)]\n",
    "\n",
    "def get_col_names(s):\n",
    "    return sum([_get_col_name(s,\"\"), _get_col_name(s,\"est\"), _get_err_col_name(s)], []) \n",
    "\n",
    "def is_x1_correct(row):\n",
    "    if abs(row[\"x1\"]-row[\"x1est\"]) > 0.001:\n",
    "        if abs(row[\"y1\"]-row[\"y1est\"]) > 0.001:\n",
    "            return 1\n",
    "    return 0\n",
    "\n",
    "def tikz_save(*args, **kwargs):\n",
    "    \"\"\"Wrapper for tikz_save function, that always suppresses additional info output\"\"\"\n",
    "    kwargs['show_info'] = False \n",
    "    _tikz_save(*args, **kwargs)\n",
    "\n",
    "def adjust_y_axis(step_size, digits=0, min=None):\n",
    "    start, end = plt.axes().get_ylim()\n",
    "    if min==None: min=start\n",
    "    plt.yticks(np.arange(min, round(end+step_size, digits), step_size))"
   ]
  },
  {
   "cell_type": "markdown",
   "metadata": {},
   "source": [
    "## Get Data"
   ]
  },
  {
   "cell_type": "code",
   "execution_count": 359,
   "metadata": {},
   "outputs": [
    {
     "name": "stdout",
     "output_type": "stream",
     "text": [
      "SUMMARY:\n",
      "              2      3      4      5      6      7\n",
      "n_trials     60     60     60     30     30     30\n",
      "mean_err  0.025  0.067  0.132  0.244  0.412  0.295\n",
      "\n",
      "COMPLETE DATA:\n",
      "     err1  err2  err3      err4  err5      err6      err7  n_sources   x1  \\\n",
      "240   0.0   0.0   0.0  1.004988   0.0  1.077033  3.313608          7  1.9   \n",
      "5     0.0   0.0   NaN       NaN   NaN       NaN       NaN          2  1.8   \n",
      "251   0.0   0.0   0.0  0.000000   0.0  0.000000  0.000000          7  2.6   \n",
      "210   0.0   0.0   0.0  0.000000   0.0  0.000000       NaN          6  4.0   \n",
      "48    0.0   0.0   NaN       NaN   NaN       NaN       NaN          2  2.6   \n",
      "\n",
      "     x1est    ...       y4  y4est   y5  y5est   y6  y6est   y7  y7est  \\\n",
      "240    1.9    ...      4.6    4.7  3.1    3.1  4.8    4.4  4.4    1.1   \n",
      "5      1.8    ...      NaN    NaN  NaN    NaN  NaN    NaN  NaN    NaN   \n",
      "251    2.6    ...      4.0    4.0  1.5    1.5  2.5    2.5  4.4    4.4   \n",
      "210    4.0    ...      4.6    4.6  3.8    3.8  3.2    3.2  NaN    NaN   \n",
      "48     2.6    ...      NaN    NaN  NaN    NaN  NaN    NaN  NaN    NaN   \n",
      "\n",
      "     err_mean  err_total  \n",
      "240  0.770804   5.395629  \n",
      "5    0.000000   0.000000  \n",
      "251  0.000000   0.000000  \n",
      "210  0.000000   0.000000  \n",
      "48   0.000000   0.000000  \n",
      "\n",
      "[5 rows x 38 columns]\n"
     ]
    }
   ],
   "source": [
    "eval_columns = ['n_trials', 'mean_err']\n",
    "n_sources_range = [2, 3, 4, 5, 6, 7]\n",
    "results_dict = {}\n",
    "eval_index = n_sources_range\n",
    "eval_data = pd.DataFrame(index=range(0,len(n_sources_range)),columns=eval_columns)\n",
    "eval_data.index = eval_index\n",
    "\n",
    "for s in n_sources_range:\n",
    "    # define filename format\n",
    "    files = glob.glob(path.join(PATH_ROOT,\"{}sources\".format(s), NAME_DATA_FILES))\n",
    "\n",
    "    # load data\n",
    "    dfs = []\n",
    "    for f in files:\n",
    "        dfs.append(pd.DataFrame(list(csv.reader(open(f, 'r'), delimiter='\\t')), dtype=float))\n",
    "    try:   \n",
    "        results = pd.concat(dfs)\n",
    "    except ValueError:\n",
    "        continue\n",
    "    n_trials = len(results)\n",
    "    n_sources = int((len(results.columns)-1)/5)\n",
    "    results.drop(results.columns[[n_sources*4+n_sources]], axis=1, inplace=True) # drops empty column\n",
    "    results.columns = get_col_names(n_sources)\n",
    "    results.index = [\"t{}\".format(i+1) for i in range(n_trials)]\n",
    "    results_dict['{}'.format(n_sources)] = results\n",
    "    # preview data\n",
    "    # print(results.sample(5)) # sample table\n",
    "    # print(results.sample(5).loc[:,\"err1\":]) # sample table for errors\n",
    "    # print(results.loc[:,\"err1\":]) # complete table for errors\n",
    "    \n",
    "    # calculate statistics\n",
    "    mean_err = results.mean()[-n_sources:].mean()\n",
    "    \n",
    "    # saving n_sources to results dataframe\n",
    "    results['n_sources'] = n_sources\n",
    "    \n",
    "    # saving statistics to eval_data\n",
    "    eval_data.set_value(n_sources, 'n_trials', n_trials)\n",
    "    eval_data.set_value(n_sources, 'mean_err', round(mean_err,3))\n",
    "    \n",
    "    # output statistics\n",
    "    # print(\"# Sources: {}, # Trials: {}, Mean Error: {:0.2f}\".format(n_sources, n_trials, mean_err))\n",
    "print(\"SUMMARY:\")\n",
    "print(eval_data.transpose())\n",
    "print(\"\")\n",
    "print(\"COMPLETE DATA:\")\n",
    "results = pd.concat(results_dict, ignore_index=True)\n",
    "results[\"err_mean\"] = results.loc[:, \"err1\":\"err7\"].mean(axis=1)\n",
    "results[\"err_total\"] = results.loc[:, \"err1\":\"err7\"].sum(axis=1)\n",
    "print(results.sample(5))\n",
    "if EXPORT_TO_LATEX:\n",
    "    eval_data.transpose().to_latex(PATH_LATEX_TABLE, column_format=\"rrrrrrr\", bold_rows=True)"
   ]
  },
  {
   "cell_type": "markdown",
   "metadata": {},
   "source": [
    "## Plot Results"
   ]
  },
  {
   "cell_type": "code",
   "execution_count": 360,
   "metadata": {},
   "outputs": [
    {
     "data": {
      "image/png": "[encoded data removed]",
      "text/plain": [
       "<matplotlib.figure.Figure at 0x1157c82e8>"
      ]
     },
     "metadata": {},
     "output_type": "display_data"
    }
   ],
   "source": [
    "# Scatter Plot\n",
    "bp = results.boxplot('err_mean', by='n_sources',figsize=(4,6),return_type='both')\n",
    "\n",
    "# style boxplot output\n",
    "fig = bp[0].ax.get_figure()\n",
    "for key in bp[0].lines.keys():\n",
    "    for item in bp[0].lines[key]:\n",
    "        item.set_color(lms_red)\n",
    "for item in bp[0].lines['fliers']:\n",
    "    item.set_markerfacecolor(lms_red)\n",
    "    item.set_markeredgewidth(0)\n",
    "    item.set_markeredgecolor(lms_red)\n",
    "    item.set_markersize(7)\n",
    "\n",
    "fig.suptitle('')\n",
    "plt.title(\"\")\n",
    "plt.xlabel(\"number of sources\")\n",
    "plt.ylabel(\"mean localisation error (m)\")\n",
    "plt.grid(axis='x')\n",
    "if EXPORT_TO_LATEX:\n",
    "    tikz_save(PATH_BOX_PLOT, show_info=False)"
   ]
  },
  {
   "cell_type": "code",
   "execution_count": 361,
   "metadata": {},
   "outputs": [
    {
     "data": {
      "image/png": "[encoded data removed]",
      "text/plain": [
       "<matplotlib.figure.Figure at 0x111ebf518>"
      ]
     },
     "metadata": {},
     "output_type": "display_data"
    }
   ],
   "source": [
    "# Scatter Plot\n",
    "x = pd.to_numeric(results['n_sources'].values)  # without to_numeric(), tikz_save() fails (TypeError: str instead of int)\n",
    "y = results[\"err_mean\"].values\n",
    "plt.scatter(x, y, alpha=0.3, c=lms_red)\n",
    "plt.xticks(n_sources_range)\n",
    "adjust_y_axis(step_size=0.5, digits=2, min=0)\n",
    "plt.grid(True, axis='y')\n",
    "plt.xlabel(\"number of sources\")\n",
    "plt.ylabel(\"mean localisation error (m)\")\n",
    "if EXPORT_TO_LATEX:\n",
    "    tikz_save(PATH_SCATTER_PLOT, show_info=False)"
   ]
  },
  {
   "cell_type": "code",
   "execution_count": 362,
   "metadata": {},
   "outputs": [
    {
     "data": {
      "image/png": "[encoded data removed]",
      "text/plain": [
       "<matplotlib.figure.Figure at 0x111cd8400>"
      ]
     },
     "metadata": {},
     "output_type": "display_data"
    }
   ],
   "source": [
    "# Bar Plot\n",
    "plt.bar(eval_data.index, height=eval_data['mean_err'], color=lms_red)\n",
    "plt.xlabel(\"number of sources\")\n",
    "plt.ylabel(\"mean localisation error (m)\")\n",
    "adjust_y_axis(step_size=0.05, digits=2)\n",
    "if EXPORT_TO_LATEX:\n",
    "    tikz_save(PATH_BAR_PLOT)"
   ]
  },
  {
   "cell_type": "markdown",
   "metadata": {},
   "source": [
    "## Compare Trials"
   ]
  },
  {
   "cell_type": "markdown",
   "metadata": {},
   "source": [
    "### T-Test"
   ]
  },
  {
   "cell_type": "code",
   "execution_count": 369,
   "metadata": {},
   "outputs": [
    {
     "name": "stdout",
     "output_type": "stream",
     "text": [
      "                            OLS Regression Results                            \n",
      "==============================================================================\n",
      "Dep. Variable:               err_mean   R-squared:                       0.142\n",
      "Model:                            OLS   Adj. R-squared:                  0.138\n",
      "Method:                 Least Squares   F-statistic:                     44.22\n",
      "Date:                Wed, 11 Oct 2017   Prob (F-statistic):           1.64e-10\n",
      "Time:                        15:52:13   Log-Likelihood:                -46.879\n",
      "No. Observations:                 270   AIC:                             97.76\n",
      "Df Residuals:                     268   BIC:                             105.0\n",
      "Df Model:                           1                                         \n",
      "Covariance Type:            nonrobust                                         \n",
      "==============================================================================\n",
      "                 coef    std err          t      P>|t|      [0.025      0.975]\n",
      "------------------------------------------------------------------------------\n",
      "Intercept     -0.1311      0.047     -2.818      0.005      -0.223      -0.039\n",
      "n_sources      0.0716      0.011      6.650      0.000       0.050       0.093\n",
      "==============================================================================\n",
      "Omnibus:                      140.373   Durbin-Watson:                   1.890\n",
      "Prob(Omnibus):                  0.000   Jarque-Bera (JB):              624.125\n",
      "Skew:                           2.219   Prob(JB):                    2.97e-136\n",
      "Kurtosis:                       8.981   Cond. No.                         12.0\n",
      "==============================================================================\n",
      "\n",
      "Warnings:\n",
      "[1] Standard Errors assume that the covariance matrix of the errors is correctly specified.\n"
     ]
    }
   ],
   "source": [
    "from scipy.stats import ttest_ind, describe\n",
    "from statsmodels.formula.api import ols\n",
    "\n",
    "# print(results[['err_mean', 'n_sources']])\n",
    "\n",
    "cat2 = results[results['n_sources']==2]['err_mean']\n",
    "cat3 = results[results['n_sources']==3]['err_mean']\n",
    "cat4 = results[results['n_sources']==4]['err_mean']\n",
    "cat5 = results[results['n_sources']==5]['err_mean']\n",
    "cat6 = results[results['n_sources']==6]['err_mean']\n",
    "cat7 = results[results['n_sources']==7]['err_mean']\n",
    "\n",
    "# ttest_ind(cat2, cat4, equal_var=False)\n",
    "model = ols(\"err_mean ~ n_sources + 1\", results).fit()\n",
    "print(model.summary())"
   ]
  },
  {
   "cell_type": "markdown",
   "metadata": {},
   "source": [
    "### Trials without error"
   ]
  },
  {
   "cell_type": "code",
   "execution_count": 370,
   "metadata": {},
   "outputs": [
    {
     "name": "stdout",
     "output_type": "stream",
     "text": [
      "           perfect_matches\n",
      "n_sources                 \n",
      "2                       54\n",
      "3                       50\n",
      "4                       33\n",
      "5                       14\n",
      "6                        4\n",
      "7                       10\n",
      "Horizontal alignment will be ignored as no 'x tick label text width' has been passed in the 'extra' parameter\n",
      "Horizontal alignment will be ignored as no 'y tick label text width' has been passed in the 'extra' parameter\n"
     ]
    },
    {
     "data": {
      "image/png": "[encoded data removed]",
      "text/plain": [
       "<matplotlib.figure.Figure at 0x113f60f28>"
      ]
     },
     "metadata": {},
     "output_type": "display_data"
    }
   ],
   "source": [
    "# prepare data\n",
    "results_no_err = results[(results.err_total == 0)].groupby(\"n_sources\").count()[[\"err_total\"]] # slicing the data\n",
    "results_no_err.columns = [\"perfect_matches\"]\n",
    "print(results_no_err)\n",
    "\n",
    "# plot\n",
    "plt.bar(results_no_err.index, height=results_no_err.perfect_matches, color=lms_red)\n",
    "adjust_y_axis(10)\n",
    "plt.xlabel(\"number of sources\")\n",
    "plt.ylabel(\"trials with err$_{total}$ = 0\")\n",
    "# if EXPORT_TO_LATEX:\n",
    "tikz_save(path.join(PATH_LATEX_PLOTS, 'perfect_matches_rearranged_samples.tex'))"
   ]
  },
  {
   "cell_type": "code",
   "execution_count": null,
   "metadata": {
    "collapsed": true
   },
   "outputs": [],
   "source": []
  }
 ],
 "metadata": {
  "kernelspec": {
   "display_name": "Python 3",
   "language": "python",
   "name": "python3"
  },
  "language_info": {
   "codemirror_mode": {
    "name": "ipython",
    "version": 3
   },
   "file_extension": ".py",
   "mimetype": "text/x-python",
   "name": "python",
   "nbconvert_exporter": "python",
   "pygments_lexer": "ipython3",
   "version": "3.6.2"
  }
 },
 "nbformat": 4,
 "nbformat_minor": 2
}
