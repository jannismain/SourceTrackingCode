{
 "cells": [
  {
   "cell_type": "markdown",
   "metadata": {},
   "source": [
    "# Source Localisation Evaluation"
   ]
  },
  {
   "cell_type": "code",
   "execution_count": 4,
   "metadata": {},
   "outputs": [
    {
     "name": "stdout",
     "output_type": "stream",
     "text": [
      "\n"
     ]
    }
   ],
   "source": [
    "# Set this to \"True\", if you want to export the boxplots as tikz-files.\n",
    "# WARNING: Existing tikz-files might be overwritten.\n",
    "EXPORT_LATEX = False\n",
    "\n",
    "%matplotlib inline  \n",
    "# For interactive inline plots, uncomment the following line\n",
    "# %matplotlib notebook \n",
    "\n",
    "import os, sys\n",
    "nb_dir = os.path.split(os.getcwd())[0]\n",
    "if nb_dir not in sys.path:\n",
    "    sys.path.append(nb_dir)\n",
    "\n",
    "from mthesis.helpers import *  # all custom methods for easier data loading and manipulation are in this package\n",
    "\n",
    "PATH_LATEX_PLOTS = '/Users/jannismainczyk/latex/plots/boxplots/'\n",
    "PATH_LATEX_TABLES = '/Users/jannismainczyk/latex/data/tables/'\n",
    "# Other paths might need to be adjusted in 'mthesis/helpers.py'"
   ]
  },
  {
   "cell_type": "markdown",
   "metadata": {},
   "source": [
    "## All Data "
   ]
  },
  {
   "cell_type": "code",
   "execution_count": 151,
   "metadata": {
    "collapsed": true
   },
   "outputs": [],
   "source": [
    "df = load_all_data()\n",
    "dft = df"
   ]
  },
  {
   "cell_type": "code",
   "execution_count": 146,
   "metadata": {},
   "outputs": [
    {
     "name": "stdout",
     "output_type": "stream",
     "text": [
      "SUMMARY:\n",
      "n-sources           2     3     4     5     6     7\n",
      "n               10570 10520 10520 10520 10520 10470\n",
      "err-mean         0.15  0.25  0.33  0.38  0.42  0.41\n",
      "percent-matched  0.78  0.72  0.66  0.61  0.56  0.53\n",
      "DATA FROM:  {'var-fixed', 'T60', 'worst-case', 'noise', 'reflect-order', 'em-iterations', 'wd', 'base', 'min-distance'}\n",
      "n-sources           2     3     4     5     6     7\n",
      "n               10570 10520 10520 10520 10520 10470\n",
      "em-iterations    6.83  6.84  6.84  6.84  6.84  6.85\n",
      "T60              0.34  0.34  0.34  0.34  0.34  0.34\n",
      "SNR              1.27  1.28  1.28  1.28  1.28  1.28\n",
      "md               0.49  0.49  0.49  0.49  0.49  0.49\n",
      "reflect-order    2.15  2.17  2.17  2.17  2.17  2.18\n",
      "var-fixed        0.11  0.11  0.11  0.11  0.11  0.11\n",
      "var-val          0.52  0.52  0.52  0.52  0.52  0.52\n",
      "err-mean         0.15  0.25  0.33  0.38  0.42  0.41\n",
      "percent-matched  0.78  0.72  0.66  0.61  0.56  0.53\n",
      "NOTE: Data contains range of md (['0.1', '0.3', '0.5', '1.0'], n=[500, 400, 9270, 300])\n",
      "NOTE: Data contains range of wd (['1.2', '1.3', '1.5'], n=[9670, 400, 400])\n",
      "NOTE: Data contains range of T60 (['0.0', '0.3', '0.6', '0.9'], n=[1600, 6450, 1920, 500])\n",
      "NOTE: Data contains range of SNR (['0.0', '5.0', '10.0', '15.0', '30.0'], n=[9450, 400, 200, 210, 210])\n",
      "NOTE: Data contains range of em (['1.0', '2.0', '3.0', '5.0', '10.0', '20.0'], n=[350, 350, 350, 5620, 3450, 350])\n",
      "NOTE: Data contains range of reflect-order (['-1.0', '0.0', '1.0', '3.0'], n=[1520, 600, 350, 8000])\n",
      "NOTE: Data contains range of var-fixed (['0.0', '1.0'], n=[9270, 1200])\n",
      "NOTE: Data contains range of var-val (['0.1', '0.5', '1.0', '2.0', '3.0', '5.0'], n=[8470, 400, 400, 400, 400, 400])\n",
      "\n",
      "OVERVIEW OF SAMPLE SIZES PER EVALUATION:\n",
      "n-sources                                                              2    3    4    5    6    7\n",
      "description   reflect-order T60  em md   SNR wd   var-val var-fixed                              \n",
      "T60           -1            0    5  0.50 0   1.20 0.10    0          150  150  150  150  150  100\n",
      "                            0.30 5  0.50 0   1.20 0.10    0          250  250  250  250  250  250\n",
      "                                 10 0.50 0   1.20 0.10    0          100  100  100  100  100  100\n",
      "                            0.90 5  0.50 0   1.20 0.10    0          250  200  200  200  200  200\n",
      "              3             0    5  0.50 0   1.20 0.10    0          100  100  100  100  100  100\n",
      "                            0.30 5  0.50 0   1.20 0.10    0          200  200  200  200  200  200\n",
      "                                 10 0.50 0   1.20 0.10    0          100  100  100  100  100  100\n",
      "                            0.90 10 0.50 0   1.20 0.10    0          100  100  100  100  100  100\n",
      "base          0             0    5  0.50 0   1.20 0.10    0           50   50   50   50   50   50\n",
      "                                             1.30 0.10    0           50   50   50   50   50   50\n",
      "              3             0    5  0.50 0   1.20 0.10    0          100  100  100  100  100  100\n",
      "                                 10 0.50 0   1.20 0.10    0          100  100  100  100  100  100\n",
      "em-iterations -1            0.60 10 0.50 0   1.20 0.10    0          100  100  100  100  100  100\n",
      "              3             0.30 1  0.50 0   1.20 0.10    0          200  200  200  200  200  200\n",
      "                                 2  0.50 0   1.20 0.10    0          200  200  200  200  200  200\n",
      "                                 3  0.50 0   1.20 0.10    0          200  200  200  200  200  200\n",
      "                                 5  0.50 0   1.20 0.10    0          200  200  200  200  200  200\n",
      "                                             1.30 0.10    0          200  200  200  200  200  200\n",
      "                                             1.50 0.10    0          200  200  200  200  200  200\n",
      "                                 10 0.50 0   1.20 0.10    0          200  200  200  200  200  200\n",
      "                                 20 0.50 0   1.20 0.10    0          200  200  200  200  200  200\n",
      "                            0.60 1  0.50 0   1.20 0.10    0          150  150  150  150  150  150\n",
      "                                 2  0.50 0   1.20 0.10    0          150  150  150  150  150  150\n",
      "                                 3  0.50 0   1.20 0.10    0          150  150  150  150  150  150\n",
      "                                 5  0.50 0   1.20 0.10    0          150  150  150  150  150  150\n",
      "                                 10 0.50 0   1.20 0.10    0          150  150  150  150  150  150\n",
      "                                 20 0.50 0   1.20 0.10    0          150  150  150  150  150  150\n",
      "...                                                                  ...  ...  ...  ...  ...  ...\n",
      "noise         -1            0.60 5  0.50 30  1.20 0.10    0           10   10   10   10   10   10\n",
      "              3             0.30 5  0.50 0   1.20 0.10    0          200  200  200  200  200  200\n",
      "                                         5   1.20 0.10    0          200  200  200  200  200  200\n",
      "                                         10  1.20 0.10    0          200  200  200  200  200  200\n",
      "                                         15  1.20 0.10    0          200  200  200  200  200  200\n",
      "                                         30  1.20 0.10    0          200  200  200  200  200  200\n",
      "reflect-order -1            0    5  0.50 0   1.20 0.10    0          100  100  100  100  100  100\n",
      "                            0.60 5  0.50 0   1.20 0.10    0          250  250  250  250  250  250\n",
      "              1             0    5  0.50 0   1.20 0.10    0          100  100  100  100  100  100\n",
      "                            0.60 5  0.50 0   1.20 0.10    0          250  250  250  250  250  250\n",
      "              3             0.60 5  0.50 0   1.20 0.10    0          100  100  100  100  100  100\n",
      "var-fixed     3             0.30 10 0.50 0   1.20 0.10    0          200  200  200  200  200  200\n",
      "                                                          1          200  200  200  200  200  200\n",
      "                                                  0.50    0          200  200  200  200  200  200\n",
      "                                                          1          200  200  200  200  200  200\n",
      "                                                  1       0          200  200  200  200  200  200\n",
      "                                                          1          200  200  200  200  200  200\n",
      "                                                  2       0          200  200  200  200  200  200\n",
      "                                                          1          200  200  200  200  200  200\n",
      "                                                  3       0          200  200  200  200  200  200\n",
      "                                                          1          200  200  200  200  200  200\n",
      "                                                  5       0          200  200  200  200  200  200\n",
      "                                                          1          200  200  200  200  200  200\n",
      "wd            0             0    5  0.50 0   1.20 0.10    0          150  150  150  150  150  150\n",
      "                                             1.30 0.10    0          150  150  150  150  150  150\n",
      "                                             1.50 0.10    0          200  200  200  200  200  200\n",
      "worst-case    -1            0.90 5  0.50 5   1.20 0.10    0          200  200  200  200  200  200\n",
      "\n",
      "[66 rows x 6 columns]\n"
     ]
    }
   ],
   "source": [
    "print(\"SUMMARY:\")\n",
    "dft = df\n",
    "summary = dft.groupby('n-sources').agg({'x1':'count', 'err-mean':np.mean, 'percent-matched':np.mean}).rename(columns={'x1':'n'})\n",
    "print(summary.transpose())\n",
    "\n",
    "print_summary(dft, verbose=False)\n",
    "print(\"OVERVIEW OF SAMPLE SIZES PER EVALUATION:\")\n",
    "dfp = df.pivot_table(\"x1\", index=[\"n-sources\"], columns=[\"description\", \"reflect-order\", \"T60\", \"em\", \"md\", \"SNR\",\"wd\",\"var-val\",\"var-fixed\"], aggfunc='count').transpose()\n",
    "print(dfp)\n",
    "\n",
    "# if EXPORT_LATEX:\n",
    "#     summary.transpose().to_latex(\"\".join([PATH_LATEX_TABLES, 'summary-all.tex']), column_format=\"rrrrrrr\", bold_rows=True)"
   ]
  },
  {
   "cell_type": "markdown",
   "metadata": {},
   "source": [
    "# <font color='green'>--- PRINTING RESULTS TO TIKZ AND LATEX STARTS HERE ---</font>"
   ]
  },
  {
   "cell_type": "markdown",
   "metadata": {},
   "source": [
    "## Fixed EM-Iterations"
   ]
  },
  {
   "cell_type": "code",
   "execution_count": 45,
   "metadata": {},
   "outputs": [
    {
     "name": "stdout",
     "output_type": "stream",
     "text": [
      "DATA FROM:  {'em-iterations'}\n",
      "n-sources          2    3    4    5    6    7\n",
      "n               1200 1200 1200 1200 1200 1200\n",
      "em-iterations   6.83 6.83 6.83 6.83 6.83 6.83\n",
      "T60             0.30 0.30 0.30 0.30 0.30 0.30\n",
      "SNR                0    0    0    0    0    0\n",
      "md              0.50 0.50 0.50 0.50 0.50 0.50\n",
      "reflect-order      3    3    3    3    3    3\n",
      "var-fixed          0    0    0    0    0    0\n",
      "var-val         0.10 0.10 0.10 0.10 0.10 0.10\n",
      "err-mean        0.14 0.23 0.32 0.40 0.49 0.47\n",
      "percent-matched 0.78 0.72 0.68 0.62 0.56 0.53\n",
      "NOTE: Data contains range of em (['1.0', '2.0', '3.0', '5.0', '10.0', '20.0'], n=200)\n",
      "\n"
     ]
    }
   ],
   "source": [
    "# Manipulate Data\n",
    "var = \"em\"\n",
    "dft = df\n",
    "dft = dft[dft[\"description\"]==\"em-iterations\"]\n",
    "dft = dft[dft[\"reflect-order\"]==3]\n",
    "dft = dft[dft[\"T60\"]==0.3]\n",
    "# dft = dft[dft[\"em\"]==5]\n",
    "dft = dft[dft[\"wd\"]==1.2]\n",
    "dft = dft[dft[\"md\"]==0.5]\n",
    "dft = dft[dft[\"SNR\"]==0]\n",
    "dft = dft[dft[\"var-fixed\"]==0]\n",
    "dft = dft[dft[\"var-val\"]==0.1]\n",
    "print_summary(dft)"
   ]
  },
  {
   "cell_type": "code",
   "execution_count": 46,
   "metadata": {},
   "outputs": [
    {
     "name": "stdout",
     "output_type": "stream",
     "text": [
      "SAMPLE SIZE:\n",
      "n-sources    2    3    4    5    6    7\n",
      "em                                     \n",
      "1          200  200  200  200  200  200\n",
      "2          200  200  200  200  200  200\n",
      "3          200  200  200  200  200  200\n",
      "5          200  200  200  200  200  200\n",
      "10         200  200  200  200  200  200\n",
      "20         200  200  200  200  200  200\n",
      "\n",
      "MEAN ERROR:\n",
      "n-sources    2    3    4    5    6    7\n",
      "em                                     \n",
      "1         0.19 0.37 0.48 0.50 0.65 0.60\n",
      "2         0.17 0.23 0.39 0.47 0.52 0.50\n",
      "3         0.14 0.22 0.29 0.43 0.46 0.44\n",
      "5         0.12 0.20 0.25 0.36 0.46 0.44\n",
      "10        0.13 0.20 0.25 0.30 0.39 0.43\n",
      "20        0.08 0.18 0.28 0.31 0.45 0.41\n"
     ]
    }
   ],
   "source": [
    "print(\"SAMPLE SIZE:\")\n",
    "dfp = dft.pivot_table(\"x1\", index=[\"n-sources\"], columns=var, aggfunc='count').transpose()\n",
    "print(dfp)\n",
    "\n",
    "print(\"\\nMEAN ERROR:\")\n",
    "dfp = dft.pivot_table(\"err-mean\", index=[\"n-sources\"], columns=var, aggfunc='mean').transpose()\n",
    "print(dfp)\n",
    "# if EXPORT_LATEX:\n",
    "#     dfp.to_latex(\"\".join([PATH_LATEX_TABLES, 'results-{}.tex'.format(var)]), column_format=\"lcccccc\", bold_rows=True)"
   ]
  },
  {
   "cell_type": "code",
   "execution_count": null,
   "metadata": {
    "collapsed": true
   },
   "outputs": [],
   "source": [
    "# Joint Boxplot, grouped\n",
    "fig = figure(figsize=(17,5)); ax  = fig.add_subplot(111)\n",
    "\n",
    "idx=0\n",
    "for val in dfp.index.values:\n",
    "    dftt = dft[dft[var]==val]\n",
    "    bp = dftt.boxplot(\"err-mean\", by=[\"n-sources\"], ax=ax, **boxplot_args)\n",
    "    style_boxplot(bp, None, idx, len(dfp.index.values))\n",
    "    idx+=1\n",
    "\n",
    "# if EXPORT_LATEX:\n",
    "#     tikz_save(\"\".join([PATH_LATEX_PLOTS, 'boxplot-joined-{}.tex'.format(var)]), strict=True, wrap=False)"
   ]
  },
  {
   "cell_type": "code",
   "execution_count": null,
   "metadata": {
    "collapsed": true
   },
   "outputs": [],
   "source": [
    "for measure in ['err-mean', 'percent-matched']:\n",
    "    # Table\n",
    "    print(\"\\n{}:\".format(measure.upper()))\n",
    "    dfp = dft.pivot_table(measure, index=[\"n-sources\"], columns=var, aggfunc='mean').transpose()\n",
    "    print(dfp)\n",
    "\n",
    "    # Boxplot\n",
    "    fig = figure(figsize=(17,5)); ax  = fig.add_subplot(111)\n",
    "\n",
    "    idx=0\n",
    "    for val in dfp.index.values:\n",
    "        dftt = dft[dft[var]==val]\n",
    "        bp = dftt.boxplot(measure, by=[\"n-sources\"], ax=ax, **boxplot_args)\n",
    "        style_boxplot(bp, None, idx, len(dfp.index.values), measure)\n",
    "        idx+=1\n",
    "\n",
    "#     if EXPORT_LATEX:\n",
    "#         tikz_save(\"\".join([PATH_LATEX_PLOTS, 'boxplot-joined-{}-{}.tex'.format(var, measure)]), strict=True, wrap=False)"
   ]
  },
  {
   "cell_type": "markdown",
   "metadata": {},
   "source": [
    "## T60"
   ]
  },
  {
   "cell_type": "code",
   "execution_count": 90,
   "metadata": {},
   "outputs": [
    {
     "name": "stdout",
     "output_type": "stream",
     "text": [
      "DATA FROM:  {'T60', 'reflect-order'}\n",
      "n-sources          2    3    4    5    6    7\n",
      "n               1000  950  950  950  950 1000\n",
      "em-iterations      5    5    5    5    5    5\n",
      "T60             0.45 0.43 0.43 0.43 0.43 0.40\n",
      "SNR                0    0    0    0    0    0\n",
      "md              0.50 0.50 0.50 0.50 0.50 0.50\n",
      "reflect-order     -1   -1   -1   -1   -1   -1\n",
      "var-fixed          0    0    0    0    0    0\n",
      "var-val         0.10 0.10 0.10 0.10 0.10 0.10\n",
      "err-mean        0.23 0.36 0.49 0.57 0.62 0.56\n",
      "percent-matched 0.74 0.66 0.60 0.54 0.50 0.49\n",
      "NOTE: Data contains range of T60 (['0.0', '0.3', '0.6', '0.9'], n=[250, 250, 250, 200])\n",
      "WARN: Unbalanced n_sources for 'T60'. There may be a trial running at the moment!\n",
      "n-sources    2    3    4    5    6    7\n",
      "T60                                    \n",
      "0          250  250  250  250  250  300\n",
      "0.30       250  250  250  250  250  250\n",
      "0.60       250  250  250  250  250  250\n",
      "0.90       250  200  200  200  200  200\n",
      "\n"
     ]
    }
   ],
   "source": [
    "# Manipulate Data\n",
    "var = \"T60\"\n",
    "dft = df\n",
    "dft = dft[dft[\"reflect-order\"]==-1]\n",
    "# dft = dft[dft[\"T60\"]==0.3]\n",
    "dft = dft[dft[\"em\"]==5]\n",
    "dft = dft[dft[\"wd\"]==1.2]\n",
    "dft = dft[dft[\"md\"]==0.5]\n",
    "dft = dft[dft[\"SNR\"]==0]\n",
    "dft = dft[dft[\"var-fixed\"]==0]\n",
    "dft = dft[dft[\"var-val\"]==0.1]\n",
    "print_summary(dft)"
   ]
  },
  {
   "cell_type": "code",
   "execution_count": 91,
   "metadata": {},
   "outputs": [
    {
     "name": "stdout",
     "output_type": "stream",
     "text": [
      "SAMPLE SIZE:\n",
      "n-sources    2    3    4    5    6    7\n",
      "T60                                    \n",
      "0          250  250  250  250  250  300\n",
      "0.30       250  250  250  250  250  250\n",
      "0.60       250  250  250  250  250  250\n",
      "0.90       250  200  200  200  200  200\n",
      "\n",
      "MEAN ERROR:\n",
      "n-sources    2    3    4    5    6    7\n",
      "T60                                    \n",
      "0         0.02 0.06 0.11 0.22 0.26 0.31\n",
      "0.30      0.12 0.21 0.31 0.39 0.47 0.44\n",
      "0.60      0.23 0.50 0.70 0.80 0.83 0.75\n",
      "0.90      0.55 0.74 0.93 0.93 0.99 0.88\n"
     ]
    }
   ],
   "source": [
    "print(\"SAMPLE SIZE:\")\n",
    "dfp = dft.pivot_table(\"x1\", index=[\"n-sources\"], columns=[var], aggfunc='count').transpose()\n",
    "print(dfp)\n",
    "\n",
    "print(\"\\nMEAN ERROR:\")\n",
    "dfp = dft.pivot_table(\"err-mean\", index=[\"n-sources\"], columns=var, aggfunc='mean').transpose()\n",
    "print(dfp)\n",
    "if EXPORT_LATEX:\n",
    "    dfp.to_latex(\"\".join([PATH_LATEX_TABLES, 'results-{}.tex'.format(var)]), column_format=\"lrrrrrr\", bold_rows=True)"
   ]
  },
  {
   "cell_type": "code",
   "execution_count": 92,
   "metadata": {
    "scrolled": false
   },
   "outputs": [
    {
     "name": "stderr",
     "output_type": "stream",
     "text": [
      "/usr/local/lib/python3.6/site-packages/numpy/core/fromnumeric.py:57: FutureWarning: reshape is deprecated and will raise in a subsequent release. Please use .values.reshape(...) instead\n",
      "  return getattr(obj, method)(*args, **kwds)\n"
     ]
    },
    {
     "data": {
      "image/png": "[encoded data removed]",
      "text/plain": [
       "<matplotlib.figure.Figure at 0x1118859e8>"
      ]
     },
     "metadata": {},
     "output_type": "display_data"
    }
   ],
   "source": [
    "# Joint Boxplot, grouped\n",
    "fig = figure(figsize=(17,6.5)); ax  = fig.add_subplot(111)\n",
    "\n",
    "idx=0\n",
    "for val in dfp.index.values:\n",
    "    dftt = dft[dft[var]==val]\n",
    "    bp = dftt.boxplot(\"err-mean\", by=[\"n-sources\"], ax=ax, **boxplot_args)\n",
    "    style_boxplot(bp, None, idx, len(dfp.index.values))\n",
    "    idx+=1\n",
    "\n",
    "if EXPORT_LATEX:\n",
    "    tikz_save(\"\".join([PATH_LATEX_PLOTS, 'boxplot-joined-{}.tex'.format(var)]), strict=True, wrap=False)"
   ]
  },
  {
   "cell_type": "markdown",
   "metadata": {},
   "source": [
    "# Min-Distance "
   ]
  },
  {
   "cell_type": "code",
   "execution_count": 50,
   "metadata": {},
   "outputs": [
    {
     "name": "stdout",
     "output_type": "stream",
     "text": [
      "DATA FROM:  {'min-distance'}\n",
      "n-sources          2    3    4    5    6    7\n",
      "n                800  800  800  800  800  800\n",
      "em-iterations      5    5    5    5    5    5\n",
      "T60             0.30 0.30 0.30 0.30 0.30 0.30\n",
      "SNR                0    0    0    0    0    0\n",
      "md              0.48 0.48 0.48 0.48 0.48 0.48\n",
      "reflect-order      3    3    3    3    3    3\n",
      "var-fixed          0    0    0    0    0    0\n",
      "var-val         0.10 0.10 0.10 0.10 0.10 0.10\n",
      "err-mean        0.17 0.29 0.33 0.39 0.36 0.36\n",
      "percent-matched 0.77 0.69 0.64 0.58 0.56 0.51\n",
      "NOTE: Data contains range of md (['0.1', '0.3', '0.5', '1.0'], n=200)\n",
      "\n"
     ]
    }
   ],
   "source": [
    "var=\"md\"\n",
    "# Manipulate Data\n",
    "dft = df\n",
    "dft = dft[dft[\"reflect-order\"]==3]\n",
    "dft = dft[dft[\"T60\"]==0.3]\n",
    "dft = dft[dft[\"em\"]==5]\n",
    "dft = dft[dft[\"wd\"]==1.2]\n",
    "# dft = dft[dft[\"md\"]==0.5]\n",
    "dft = dft[dft[\"SNR\"]==0]\n",
    "dft = dft[dft[\"var-fixed\"]==0]\n",
    "dft = dft[dft[\"var-val\"]==0.1]\n",
    "dft = dft[dft[\"description\"]==\"min-distance\"]\n",
    "print_summary(dft)"
   ]
  },
  {
   "cell_type": "code",
   "execution_count": 51,
   "metadata": {},
   "outputs": [
    {
     "name": "stdout",
     "output_type": "stream",
     "text": [
      "SAMPLE SIZE:\n",
      "n-sources    2    3    4    5    6    7\n",
      "md                                     \n",
      "0.10       200  200  200  200  200  200\n",
      "0.30       200  200  200  200  200  200\n",
      "0.50       200  200  200  200  200  200\n",
      "1          200  200  200  200  200  200\n",
      "\n",
      "MEAN ERROR:\n",
      "n-sources    2    3    4    5    6    7\n",
      "md                                     \n",
      "0.10      0.24 0.34 0.39 0.49 0.37 0.36\n",
      "0.30      0.20 0.38 0.37 0.37 0.41 0.36\n",
      "0.50      0.12 0.18 0.21 0.26 0.28 0.30\n",
      "1         0.11 0.28 0.36 0.44 0.40 0.42\n"
     ]
    }
   ],
   "source": [
    "print(\"SAMPLE SIZE:\")\n",
    "dfp = dft.pivot_table(\"x1\", index=[\"n-sources\"], columns=[\"md\"], aggfunc='count').transpose()\n",
    "print(dfp)\n",
    "\n",
    "print(\"\\nMEAN ERROR:\")\n",
    "dfp = dft.pivot_table(\"err-mean\", index=[\"n-sources\"], columns=[\"md\"], aggfunc='mean').transpose()\n",
    "print(dfp)"
   ]
  },
  {
   "cell_type": "code",
   "execution_count": null,
   "metadata": {
    "collapsed": true,
    "scrolled": false
   },
   "outputs": [],
   "source": [
    "# Joint Boxplot, grouped\n",
    "fig = figure(figsize=(17,6.5)); ax  = fig.add_subplot(111)\n",
    "\n",
    "idx=0\n",
    "for val in dfp.index.values:\n",
    "    dftt = dft[dft[var]==val]\n",
    "    bp = dftt.boxplot(\"err-mean\", by=[\"n-sources\"], ax=ax, **boxplot_args)\n",
    "    style_boxplot(bp, None, idx, len(dfp.index.values))\n",
    "    idx+=1\n",
    "\n",
    "if EXPORT_LATEX:\n",
    "    tikz_save(\"\".join([PATH_LATEX_PLOTS, 'boxplot-joined-{}.tex'.format(var)]), strict=True, wrap=False)"
   ]
  },
  {
   "cell_type": "markdown",
   "metadata": {},
   "source": [
    "# Reflect Order"
   ]
  },
  {
   "cell_type": "code",
   "execution_count": 152,
   "metadata": {
    "collapsed": true
   },
   "outputs": [],
   "source": [
    "# Manipulate Data\n",
    "var = \"reflect-order\"\n",
    "dft = df\n",
    "# dft = dft[dft[\"reflect-order\"]==3]\n",
    "dft = dft[dft[\"T60\"]==0.6]\n",
    "dft = dft[dft[\"em\"]==5]\n",
    "dft = dft[dft[\"wd\"]==1.2]\n",
    "dft = dft[dft[\"md\"]==0.5]\n",
    "dft = dft[dft[\"SNR\"]==0]\n",
    "dft = dft[dft[\"var-fixed\"]==0]\n",
    "dft = dft[dft[\"var-val\"]==0.1]\n",
    "# print_summary(dft)"
   ]
  },
  {
   "cell_type": "code",
   "execution_count": 153,
   "metadata": {},
   "outputs": [
    {
     "name": "stdout",
     "output_type": "stream",
     "text": [
      "SAMPLE SIZE:\n",
      "n-sources        2    3    4    5    6    7\n",
      "reflect-order                              \n",
      "-1             250  250  250  250  250  250\n",
      "1              250  250  250  250  250  250\n",
      "3              250  250  250  250  250  250\n",
      "\n",
      "MEAN ERROR:\n",
      "n-sources        2    3    4    5    6    7\n",
      "reflect-order                              \n",
      "-1            0.23 0.50 0.70 0.80 0.83 0.75\n",
      "1             0.12 0.17 0.25 0.35 0.43 0.43\n",
      "3             0.15 0.29 0.40 0.51 0.60 0.56\n"
     ]
    }
   ],
   "source": [
    "print(\"SAMPLE SIZE:\")\n",
    "dfp = dft.pivot_table(\"x1\", index=[\"n-sources\"], columns=[\"reflect-order\"], aggfunc='count').transpose()\n",
    "print(dfp)\n",
    "\n",
    "print(\"\\nMEAN ERROR:\")\n",
    "dfp = dft.pivot_table(\"err-mean\", index=[\"n-sources\"], columns=[\"reflect-order\"], aggfunc='mean').transpose()\n",
    "print(dfp)"
   ]
  },
  {
   "cell_type": "code",
   "execution_count": 154,
   "metadata": {
    "scrolled": false
   },
   "outputs": [
    {
     "data": {
      "image/png": "[encoded data removed]",
      "text/plain": [
       "<matplotlib.figure.Figure at 0x11130c320>"
      ]
     },
     "metadata": {},
     "output_type": "display_data"
    }
   ],
   "source": [
    "# Joint Boxplot, grouped\n",
    "fig = figure(figsize=(17,6.5)); ax  = fig.add_subplot(111)\n",
    "\n",
    "idx=0\n",
    "for val in [1,3,-1]:\n",
    "    dftt = dft[dft[var]==val]\n",
    "    bp = dftt.boxplot(\"err-mean\", by=[\"n-sources\"], ax=ax, **boxplot_args)\n",
    "    style_boxplot(bp, None, idx, len(dfp.index.values))\n",
    "    idx+=1\n",
    "\n",
    "if EXPORT_LATEX:\n",
    "    tikz_save(\"\".join([PATH_LATEX_PLOTS, 'boxplot-joined-{}.tex'.format(var)]), strict=True, wrap=False)"
   ]
  },
  {
   "cell_type": "markdown",
   "metadata": {},
   "source": [
    "## SNR"
   ]
  },
  {
   "cell_type": "code",
   "execution_count": 155,
   "metadata": {},
   "outputs": [
    {
     "name": "stdout",
     "output_type": "stream",
     "text": [
      "DATA FROM:  {'noise'}\n",
      "n-sources          2    3    4    5    6    7\n",
      "n               1000 1000 1000 1000 1000 1000\n",
      "em-iterations      5    5    5    5    5    5\n",
      "T60             0.30 0.30 0.30 0.30 0.30 0.30\n",
      "SNR               12   12   12   12   12   12\n",
      "md              0.50 0.50 0.50 0.50 0.50 0.50\n",
      "reflect-order      3    3    3    3    3    3\n",
      "var-fixed          0    0    0    0    0    0\n",
      "var-val         0.10 0.10 0.10 0.10 0.10 0.10\n",
      "err-mean        0.15 0.27 0.38 0.42 0.44 0.40\n",
      "percent-matched 0.74 0.66 0.60 0.55 0.50 0.47\n",
      "NOTE: Data contains range of SNR (['0.0', '5.0', '10.0', '15.0', '30.0'], n=200)\n",
      "\n"
     ]
    }
   ],
   "source": [
    "var = \"SNR\"\n",
    "# Manipulate Data\n",
    "dft = df\n",
    "dft = dft[dft[\"reflect-order\"]==3]\n",
    "dft = dft[dft[\"T60\"]==0.3]\n",
    "dft = dft[dft[\"em\"]==5]\n",
    "dft = dft[dft[\"wd\"]==1.2]\n",
    "dft = dft[dft[\"md\"]==0.5]\n",
    "# dft = dft[dft[\"SNR\"]==0]\n",
    "dft = dft[dft[\"var-fixed\"]==0]\n",
    "dft = dft[dft[\"var-val\"]==0.1]\n",
    "dft = dft[dft[\"description\"]==\"noise\"]\n",
    "print_summary(dft)"
   ]
  },
  {
   "cell_type": "code",
   "execution_count": 156,
   "metadata": {},
   "outputs": [
    {
     "name": "stdout",
     "output_type": "stream",
     "text": [
      "SAMPLE SIZE:\n",
      "n-sources    2    3    4    5    6    7\n",
      "SNR                                    \n",
      "0          200  200  200  200  200  200\n",
      "5          200  200  200  200  200  200\n",
      "10         200  200  200  200  200  200\n",
      "15         200  200  200  200  200  200\n",
      "30         200  200  200  200  200  200\n",
      "\n",
      "MEAN ERROR:\n",
      "n-sources    2    3    4    5    6    7\n",
      "SNR                                    \n",
      "0         0.10 0.19 0.30 0.33 0.36 0.31\n",
      "5         0.17 0.42 0.56 0.58 0.56 0.52\n",
      "10        0.17 0.34 0.45 0.45 0.47 0.46\n",
      "15        0.16 0.25 0.36 0.44 0.46 0.42\n",
      "30        0.13 0.16 0.24 0.32 0.36 0.32\n"
     ]
    }
   ],
   "source": [
    "print(\"SAMPLE SIZE:\")\n",
    "dfp = dft.pivot_table(\"x1\", index=[\"n-sources\"], columns=[var], aggfunc='count').transpose()\n",
    "print(dfp)\n",
    "\n",
    "print(\"\\nMEAN ERROR:\")\n",
    "dfp = dft.pivot_table(\"err-mean\", index=[\"n-sources\"], columns=var, aggfunc='mean').transpose()\n",
    "print(dfp)"
   ]
  },
  {
   "cell_type": "code",
   "execution_count": 157,
   "metadata": {
    "scrolled": false
   },
   "outputs": [
    {
     "data": {
      "image/png": "[encoded data removed]",
      "text/plain": [
       "<matplotlib.figure.Figure at 0x1110946a0>"
      ]
     },
     "metadata": {},
     "output_type": "display_data"
    }
   ],
   "source": [
    "# Joint Boxplot, grouped\n",
    "fig = figure(figsize=(17,6.5)); ax  = fig.add_subplot(111)\n",
    "\n",
    "idx=0\n",
    "for val in [0,30,15,10,5]:\n",
    "    dftt = dft[dft[var]==val]\n",
    "    bp = dftt.boxplot(\"err-mean\", by=[\"n-sources\"], ax=ax, **boxplot_args)\n",
    "    style_boxplot(bp, None, idx, len(dfp.index.values))\n",
    "    idx+=1\n",
    "\n",
    "if EXPORT_LATEX:\n",
    "    tikz_save(\"\".join([PATH_LATEX_PLOTS, 'boxplot-joined-{}.tex'.format(var)]), strict=True, wrap=False)"
   ]
  },
  {
   "cell_type": "markdown",
   "metadata": {},
   "source": [
    "# Wall distance"
   ]
  },
  {
   "cell_type": "code",
   "execution_count": 158,
   "metadata": {},
   "outputs": [
    {
     "name": "stdout",
     "output_type": "stream",
     "text": [
      "DATA FROM:  {'em-iterations'}\n",
      "n-sources          2    3    4    5    6    7\n",
      "n                600  600  600  600  600  600\n",
      "em-iterations      5    5    5    5    5    5\n",
      "T60             0.30 0.30 0.30 0.30 0.30 0.30\n",
      "SNR                0    0    0    0    0    0\n",
      "md              0.50 0.50 0.50 0.50 0.50 0.50\n",
      "reflect-order      3    3    3    3    3    3\n",
      "var-fixed          0    0    0    0    0    0\n",
      "var-val         0.10 0.10 0.10 0.10 0.10 0.10\n",
      "err-mean        0.10 0.19 0.23 0.34 0.40 0.38\n",
      "percent-matched 0.84 0.76 0.73 0.66 0.62 0.57\n",
      "NOTE: Data contains range of wd (['1.2', '1.3', '1.5'], n=200)\n",
      "\n"
     ]
    }
   ],
   "source": [
    "var = \"wd\"\n",
    "# Manipulate Data\n",
    "dft = df\n",
    "dft = dft[dft[\"reflect-order\"]==3]\n",
    "dft = dft[dft[\"T60\"]==0.3]\n",
    "dft = dft[dft[\"em\"]==5]\n",
    "# dft = dft[dft[\"wd\"]==1.2]\n",
    "dft = dft[dft[\"md\"]==0.5]\n",
    "dft = dft[dft[\"SNR\"]==0]\n",
    "dft = dft[dft[\"var-fixed\"]==0]\n",
    "dft = dft[dft[\"var-val\"]==0.1]\n",
    "dft = dft[dft[\"description\"]!=\"noise\"]\n",
    "dft = dft[dft[\"description\"]!=\"T60\"]\n",
    "dft = dft[dft[\"description\"]!=\"min-distance\"]\n",
    "print_summary(dft)\n",
    "# dfp = df.pivot_table(\"err-mean\", index=[\"description\", \"wd\"], columns=\"n-sources\", aggfunc='mean').transpose()\n",
    "# dfp.boxplot(column=(\"n-sources\"))"
   ]
  },
  {
   "cell_type": "code",
   "execution_count": 159,
   "metadata": {},
   "outputs": [
    {
     "name": "stdout",
     "output_type": "stream",
     "text": [
      "SAMPLE SIZE:\n",
      "n-sources    2    3    4    5    6    7\n",
      "wd                                     \n",
      "1.20       200  200  200  200  200  200\n",
      "1.30       200  200  200  200  200  200\n",
      "1.50       200  200  200  200  200  200\n",
      "\n",
      "MEAN ERROR:\n",
      "n-sources    2    3    4    5    6    7\n",
      "wd                                     \n",
      "1.20      0.12 0.20 0.25 0.36 0.46 0.44\n",
      "1.30      0.08 0.22 0.26 0.32 0.42 0.37\n",
      "1.50      0.09 0.13 0.18 0.32 0.34 0.35\n"
     ]
    }
   ],
   "source": [
    "print(\"SAMPLE SIZE:\")\n",
    "dfp = dft.pivot_table(\"x1\", index=[\"n-sources\"], columns=[var], aggfunc='count').transpose()\n",
    "print(dfp)\n",
    "\n",
    "print(\"\\nMEAN ERROR:\")\n",
    "dfp = dft.pivot_table(\"err-mean\", index=[\"n-sources\"], columns=var, aggfunc='mean').transpose()\n",
    "print(dfp)"
   ]
  },
  {
   "cell_type": "code",
   "execution_count": 160,
   "metadata": {
    "scrolled": false
   },
   "outputs": [
    {
     "data": {
      "image/png": "[encoded data removed]",
      "text/plain": [
       "<matplotlib.figure.Figure at 0x111133240>"
      ]
     },
     "metadata": {},
     "output_type": "display_data"
    }
   ],
   "source": [
    "# Joint Boxplot, grouped\n",
    "fig = figure(figsize=(17,6.5)); ax  = fig.add_subplot(111)\n",
    "\n",
    "idx=0\n",
    "for val in dfp.index.values:\n",
    "    dftt = dft[dft[var]==val]\n",
    "    bp = dftt.boxplot(\"err-mean\", by=[\"n-sources\"], ax=ax, **boxplot_args)\n",
    "    style_boxplot(bp, None, idx, len(dfp.index.values))\n",
    "    idx+=1\n",
    "\n",
    "if EXPORT_LATEX:\n",
    "    tikz_save(\"\".join([PATH_LATEX_PLOTS, 'boxplot-joined-{}.tex'.format(var)]), strict=True, wrap=False)"
   ]
  },
  {
   "cell_type": "markdown",
   "metadata": {},
   "source": [
    "# Ideal vs. Adverse Scenario"
   ]
  },
  {
   "cell_type": "code",
   "execution_count": 147,
   "metadata": {},
   "outputs": [
    {
     "name": "stdout",
     "output_type": "stream",
     "text": [
      "BEST CASE SCENARIO:\n",
      "DATA FROM:  {'wd'}\n",
      "n-sources              2    3    4    5    6    7\n",
      "n                    200  200  200  200  200  200\n",
      "em-iterations          5    5    5    5    5    5\n",
      "T60                    0    0    0    0    0    0\n",
      "SNR                    0    0    0    0    0    0\n",
      "md                  0.50 0.50 0.50 0.50 0.50 0.50\n",
      "reflect-order          0    0    0    0    0    0\n",
      "var-fixed              0    0    0    0    0    0\n",
      "var-val             0.10 0.10 0.10 0.10 0.10 0.10\n",
      "err-mean        1.12e-03 0.06 0.11 0.15 0.20 0.25\n",
      "percent-matched     1.00 0.96 0.93 0.91 0.87 0.83\n",
      "\n",
      "BASE SCENARIO:\n",
      "DATA FROM:  {'noise'}\n",
      "n-sources          2    3    4    5    6    7\n",
      "n                200  200  200  200  200  200\n",
      "em-iterations      5    5    5    5    5    5\n",
      "T60             0.30 0.30 0.30 0.30 0.30 0.30\n",
      "SNR                0    0    0    0    0    0\n",
      "md              0.50 0.50 0.50 0.50 0.50 0.50\n",
      "reflect-order      3    3    3    3    3    3\n",
      "var-fixed          0    0    0    0    0    0\n",
      "var-val         0.10 0.10 0.10 0.10 0.10 0.10\n",
      "err-mean        0.10 0.19 0.30 0.33 0.36 0.31\n",
      "percent-matched 0.80 0.75 0.66 0.63 0.61 0.55\n",
      "\n",
      "WORST CASE SCENARIO:\n",
      "DATA FROM:  {'worst-case'}\n",
      "n-sources          2    3    4    5    6    7\n",
      "n                200  200  200  200  200  200\n",
      "em-iterations      5    5    5    5    5    5\n",
      "T60             0.90 0.90 0.90 0.90 0.90 0.90\n",
      "SNR                5    5    5    5    5    5\n",
      "md              0.50 0.50 0.50 0.50 0.50 0.50\n",
      "reflect-order     -1   -1   -1   -1   -1   -1\n",
      "var-fixed          0    0    0    0    0    0\n",
      "var-val         0.10 0.10 0.10 0.10 0.10 0.10\n",
      "err-mean        0.70 0.99 1.08 0.93 0.87 0.77\n",
      "percent-matched 0.33 0.28 0.23 0.19 0.18 0.16\n",
      "\n",
      "GUESSING:\n",
      "DATA FROM:  {'_guessing'}\n",
      "n-sources          2    3    4    5    6    7\n",
      "n                200  200  200  200  200  200\n",
      "em-iterations      0    0    0    0    0    0\n",
      "T60                0    0    0    0    0    0\n",
      "SNR                0    0    0    0    0    0\n",
      "md              0.50 0.50 0.50 0.50 0.50 0.50\n",
      "reflect-order      0    0    0    0    0    0\n",
      "var-fixed          0    0    0    0    0    0\n",
      "var-val         0.10 0.10 0.10 0.10 0.10 0.10\n",
      "err-mean        1.62 1.52 1.43 1.15 1.00 0.89\n",
      "percent-matched 0.06 0.05 0.07 0.08 0.09 0.10\n",
      "\n"
     ]
    }
   ],
   "source": [
    "var = \"wd\"\n",
    "dfts = []\n",
    "\n",
    "print(\"BEST CASE SCENARIO:\")\n",
    "# Manipulate Data\n",
    "dft = df\n",
    "dft = dft[dft[\"reflect-order\"]==0]\n",
    "dft = dft[dft[\"T60\"]==0.0]\n",
    "dft = dft[dft[\"em\"]==5]\n",
    "dft = dft[dft[\"wd\"]==1.5]\n",
    "dft = dft[dft[\"md\"]==0.5]\n",
    "dft = dft[dft[\"SNR\"]==0]\n",
    "dft = dft[dft[\"var-fixed\"]==0]\n",
    "dft = dft[dft[\"var-val\"]==0.1]\n",
    "print_summary(dft)\n",
    "dfts.append(dft)\n",
    "\n",
    "print(\"BASE SCENARIO:\")\n",
    "# Manipulate Data\n",
    "dft = df\n",
    "dft = dft[dft[\"reflect-order\"]==3]\n",
    "dft = dft[dft[\"T60\"]==0.3]\n",
    "dft = dft[dft[\"em\"]==5]\n",
    "dft = dft[dft[\"wd\"]==1.2]\n",
    "dft = dft[dft[\"md\"]==0.5]\n",
    "dft = dft[dft[\"SNR\"]==0]\n",
    "dft = dft[dft[\"var-fixed\"]==0]\n",
    "dft = dft[dft[\"var-val\"]==0.1]\n",
    "dft = dft[dft[\"description\"]==\"noise\"]\n",
    "print_summary(dft)\n",
    "dfts.append(dft)\n",
    "\n",
    "print(\"WORST CASE SCENARIO:\")\n",
    "# Manipulate Data\n",
    "dft = df\n",
    "dft = dft[dft[\"reflect-order\"]==-1]\n",
    "dft = dft[dft[\"T60\"]==0.9]\n",
    "dft = dft[dft[\"em\"]==5]\n",
    "dft = dft[dft[\"wd\"]==1.2]\n",
    "dft = dft[dft[\"md\"]==0.5]\n",
    "dft = dft[dft[\"SNR\"]==5]\n",
    "dft = dft[dft[\"var-fixed\"]==0]\n",
    "dft = dft[dft[\"var-val\"]==0.1]\n",
    "print_summary(dft)\n",
    "dfts.append(dft)\n",
    "\n",
    "print(\"GUESSING:\")\n",
    "dft = matlab2pandas(dirname='_guessing', save_to=path.join(PATH_ROOT, '_guessing'), summary=True)\n",
    "dft = dft[dft[\"n-sources\"]<=7]\n",
    "dfts.append(dft)"
   ]
  },
  {
   "cell_type": "code",
   "execution_count": 149,
   "metadata": {},
   "outputs": [
    {
     "name": "stdout",
     "output_type": "stream",
     "text": [
      "Horizontal alignment will be ignored as no 'x tick label text width' has been passed in the 'extra' parameter\n",
      "Horizontal alignment will be ignored as no 'y tick label text width' has been passed in the 'extra' parameter\n"
     ]
    },
    {
     "data": {
      "image/png": "[encoded data removed]",
      "text/plain": [
       "<matplotlib.figure.Figure at 0x111e67dd8>"
      ]
     },
     "metadata": {},
     "output_type": "display_data"
    }
   ],
   "source": [
    "# Joint Boxplot, grouped\n",
    "fig = figure( figsize=(17,6.5) ); ax  = fig.add_subplot(111)\n",
    "idx=0\n",
    "for dft in dfts:\n",
    "    dftt = dft\n",
    "    bp = dftt.boxplot(\"err-mean\", by=[\"n-sources\"], ax=ax, **boxplot_args)\n",
    "    style_boxplot(bp, None, idx, 4)\n",
    "    idx+=1\n",
    "# adjust axis to larger values of guessing and worst case scenario\n",
    "ax.set_ylim([0,3.51])\n",
    "ax.set_yticks(np.arange(0,3.51,0.5))\n",
    "\n",
    "if EXPORT_LATEX:\n",
    "    tikz_save(\"\".join([PATH_LATEX_PLOTS, 'boxplot-joined-best-case.tex'.format(var)]), strict=True, wrap=False)"
   ]
  },
  {
   "cell_type": "markdown",
   "metadata": {},
   "source": [
    "# Variance Analysis"
   ]
  },
  {
   "cell_type": "code",
   "execution_count": 129,
   "metadata": {},
   "outputs": [
    {
     "name": "stdout",
     "output_type": "stream",
     "text": [
      "DATA FROM:  {'var-fixed'}\n",
      "n-sources          2    3    4    5    6    7\n",
      "n               2400 2400 2400 2400 2400 2400\n",
      "em-iterations     10   10   10   10   10   10\n",
      "T60             0.30 0.30 0.30 0.30 0.30 0.30\n",
      "SNR                0    0    0    0    0    0\n",
      "md              0.50 0.50 0.50 0.50 0.50 0.50\n",
      "reflect-order      3    3    3    3    3    3\n",
      "var-fixed       0.50 0.50 0.50 0.50 0.50 0.50\n",
      "var-val         1.93 1.93 1.93 1.93 1.93 1.93\n",
      "err-mean        0.10 0.17 0.22 0.23 0.26 0.26\n",
      "percent-matched 0.80 0.74 0.66 0.63 0.56 0.53\n",
      "NOTE: Data contains range of var-fixed (['0.0', '1.0'], n=1200)\n",
      "NOTE: Data contains range of var-val (['0.1', '0.5', '1.0', '2.0', '3.0', '5.0'], n=400)\n",
      "\n"
     ]
    }
   ],
   "source": [
    "# Manipulate Data\n",
    "dft = df.copy()\n",
    "dft = dft[dft[\"reflect-order\"]==3]\n",
    "dft = dft[dft[\"T60\"]==0.3]\n",
    "dft = dft[dft[\"em\"]==10]\n",
    "dft = dft[dft[\"wd\"]==1.2]\n",
    "dft = dft[dft[\"md\"]==0.5]\n",
    "dft = dft[dft[\"SNR\"]==0]\n",
    "dft = dft[dft[\"description\"]=='var-fixed']\n",
    "print_summary(dft)"
   ]
  },
  {
   "cell_type": "code",
   "execution_count": 130,
   "metadata": {},
   "outputs": [
    {
     "name": "stdout",
     "output_type": "stream",
     "text": [
      "n-sources            2    3    4    5    6    7\n",
      "var-val var-fixed                              \n",
      "0.10    0          200  200  200  200  200  200\n",
      "        1          200  200  200  200  200  200\n",
      "0.50    0          200  200  200  200  200  200\n",
      "        1          200  200  200  200  200  200\n",
      "1       0          200  200  200  200  200  200\n",
      "        1          200  200  200  200  200  200\n",
      "2       0          200  200  200  200  200  200\n",
      "        1          200  200  200  200  200  200\n",
      "3       0          200  200  200  200  200  200\n",
      "        1          200  200  200  200  200  200\n",
      "5       0          200  200  200  200  200  200\n",
      "        1          200  200  200  200  200  200\n"
     ]
    }
   ],
   "source": [
    "# Sample Sizes\n",
    "dfp = dft.pivot_table(\"x1\", index=[\"n-sources\"], columns=[\"var-val\",\"var-fixed\"], aggfunc='count').transpose()\n",
    "print(dfp)\n",
    "init_vars = set([x[0] for x in dfp.index.values])\n",
    "var_fixed = set([x[1] for x in dfp.index.values])"
   ]
  },
  {
   "cell_type": "code",
   "execution_count": 131,
   "metadata": {},
   "outputs": [
    {
     "name": "stdout",
     "output_type": "stream",
     "text": [
      "Horizontal alignment will be ignored as no 'x tick label text width' has been passed in the 'extra' parameter\n",
      "Horizontal alignment will be ignored as no 'y tick label text width' has been passed in the 'extra' parameter\n"
     ]
    },
    {
     "data": {
      "image/png": "[encoded data removed]",
      "text/plain": [
       "<matplotlib.figure.Figure at 0x10dbd4710>"
      ]
     },
     "metadata": {},
     "output_type": "display_data"
    }
   ],
   "source": [
    "var = 'var-val'\n",
    "dfp = dft.pivot_table(\"err-mean\", index=[\"n-sources\"], columns=var, aggfunc='mean').transpose()\n",
    "\n",
    "# Joint Boxplot, grouped\n",
    "fig = figure( figsize=(17,6.5) ); ax  = fig.add_subplot(111)\n",
    "\n",
    "idx=0\n",
    "for val in sorted(init_vars):\n",
    "    dftt = dft[dft[var]==val]\n",
    "    dftt = dftt[dftt['var-fixed']==1]\n",
    "    bp = dftt.boxplot(\"err-mean\", by=[\"n-sources\"], ax=ax, **boxplot_args)\n",
    "    style_boxplot(bp, None, idx, len(init_vars))\n",
    "    idx+=1\n",
    "if EXPORT_LATEX:\n",
    "    tikz_save(\"\".join([PATH_LATEX_PLOTS, 'boxplot-joined-{}.tex'.format(var)]), strict=True, wrap=False)"
   ]
  },
  {
   "cell_type": "code",
   "execution_count": 132,
   "metadata": {},
   "outputs": [
    {
     "name": "stdout",
     "output_type": "stream",
     "text": [
      "n-sources    2    3    4    5    6    7\n",
      "err-mean  0.09 0.12 0.19 0.20 0.22 0.23\n"
     ]
    }
   ],
   "source": [
    "dftt = dft[dft['var-fixed']==0]\n",
    "dfp = dftt.pivot_table(\"err-mean\", columns='n-sources', aggfunc='mean')\n",
    "print(dfp)"
   ]
  },
  {
   "cell_type": "code",
   "execution_count": 133,
   "metadata": {},
   "outputs": [
    {
     "name": "stdout",
     "output_type": "stream",
     "text": [
      "Horizontal alignment will be ignored as no 'x tick label text width' has been passed in the 'extra' parameter\n",
      "Horizontal alignment will be ignored as no 'y tick label text width' has been passed in the 'extra' parameter\n"
     ]
    },
    {
     "data": {
      "image/png": "[encoded data removed]",
      "text/plain": [
       "<matplotlib.figure.Figure at 0x111d74d68>"
      ]
     },
     "metadata": {},
     "output_type": "display_data"
    }
   ],
   "source": [
    "var = 'var-val'\n",
    "dfp = dft.pivot_table(\"err-mean\", index=[\"n-sources\"], columns=var, aggfunc='mean').transpose()\n",
    "\n",
    "# Joint Boxplot, grouped\n",
    "fig = figure( figsize=(17,6.5) ); ax  = fig.add_subplot(111)\n",
    "\n",
    "idx=0\n",
    "for val in [0.1, 0.5,1,2,3,5]:\n",
    "    dftt = dft[dft[var]==val]\n",
    "    dftt = dftt[dftt['var-fixed']==0]\n",
    "    bp = dftt.boxplot(\"err-mean\", by=[\"n-sources\"], ax=ax, **boxplot_args)\n",
    "    style_boxplot(bp, None, idx, len(init_vars))\n",
    "    idx+=1\n",
    "if EXPORT_LATEX:\n",
    "    tikz_save(\"\".join([PATH_LATEX_PLOTS, 'boxplot-joined-{}-est.tex'.format(var)]), strict=True, wrap=False)"
   ]
  },
  {
   "cell_type": "markdown",
   "metadata": {},
   "source": [
    "## Comparison of Schwartz2014 and my implementation"
   ]
  },
  {
   "cell_type": "code",
   "execution_count": 14,
   "metadata": {},
   "outputs": [
    {
     "name": "stdout",
     "output_type": "stream",
     "text": [
      "DATA FROM:  {'psi_s'}\n",
      "n-sources          2    3    4    5    6\n",
      "n                400  400  400  400  400\n",
      "em-iterations      5    5    5    5    5\n",
      "T60             0.30 0.30 0.30 0.30 0.30\n",
      "SNR                0    0    0    0    0\n",
      "md              0.50 0.50 0.50 0.50 0.50\n",
      "reflect-order      3    3    3    3    3\n",
      "var-fixed          0    0    0    0    0\n",
      "var-val         0.10 0.10 0.10 0.10 0.10\n",
      "err-mean        0.17 0.30 0.39 0.42 0.42\n",
      "percent-matched 0.75 0.67 0.60 0.53 0.48\n",
      "\n"
     ]
    }
   ],
   "source": [
    "dft = matlab2pandas(dirname='psi_s', save_to=path.join(PATH_ROOT, '_psi_s'), summary=True)"
   ]
  },
  {
   "cell_type": "code",
   "execution_count": 15,
   "metadata": {},
   "outputs": [
    {
     "name": "stdout",
     "output_type": "stream",
     "text": [
      "SAMPLE SIZE:\n",
      "n-sources    2    3    4    5    6\n",
      "prior                             \n",
      "1          200  200  200  200  200\n",
      "2          200  200  200  200  200\n",
      "\n",
      "MEAN ERROR:\n",
      "n-sources    2    3    4    5    6\n",
      "prior                             \n",
      "1         0.18 0.28 0.37 0.43 0.45\n",
      "2         0.17 0.32 0.41 0.41 0.39\n"
     ]
    }
   ],
   "source": [
    "print(\"SAMPLE SIZE:\")\n",
    "dfp = dft.pivot_table(\"x1\", index=[\"n-sources\"], columns=[var], aggfunc='count').transpose()\n",
    "print(dfp)\n",
    "\n",
    "print(\"\\nMEAN ERROR:\")\n",
    "dfp = dft.pivot_table(\"err-mean\", index=[\"n-sources\"], columns=var, aggfunc='mean').transpose()\n",
    "print(dfp)"
   ]
  },
  {
   "cell_type": "code",
   "execution_count": 17,
   "metadata": {
    "scrolled": false
   },
   "outputs": [
    {
     "data": {
      "image/png": "[encoded data removed]",
      "text/plain": [
       "<matplotlib.figure.Figure at 0x11112f518>"
      ]
     },
     "metadata": {},
     "output_type": "display_data"
    }
   ],
   "source": [
    "var = 'prior'\n",
    "# 1 = 'equal', 2 = 'random', 3 = 'half-horizontal', 4 = 'half-vertical' \n",
    "# Joint Boxplot, grouped\n",
    "fig = figure(figsize=(17,6.5)); ax  = fig.add_subplot(111)\n",
    "\n",
    "idx=0\n",
    "for val in [1,2]:\n",
    "    dftt = dft[dft[var]==val]\n",
    "    bp = dftt.boxplot(\"err-mean\", by=[\"n-sources\"], ax=ax, **boxplot_args)\n",
    "    style_boxplot(bp, None, idx, 2)\n",
    "    idx+=1\n",
    "\n",
    "if EXPORT_LATEX:\n",
    "    tikz_save(\"\".join([PATH_LATEX_PLOTS, 'boxplot-joined-psips-{}.tex'.format(var)]), strict=True, wrap=False)"
   ]
  },
  {
   "cell_type": "markdown",
   "metadata": {},
   "source": [
    "# Analyse DataFrame"
   ]
  },
  {
   "cell_type": "markdown",
   "metadata": {},
   "source": [
    "### Examine Outliers"
   ]
  },
  {
   "cell_type": "code",
   "execution_count": null,
   "metadata": {
    "collapsed": true
   },
   "outputs": [],
   "source": [
    "# print(pd.concat([df[df[\"err-mean\"]>=1.5].loc[:, \"err1\":\"err7\"], df[df[\"err-mean\"]>=1.5].loc[:, \"x1\":\"x7\"]], axis=1))\n",
    "print(\"ERRORS:\\n{}\\n\".format(dft[dft[\"err-mean\"]>=1.5].loc[:, \"err1\":\"err7\"]))\n",
    "print(\"X-COORDINATES:\\n{}\\n\".format(dft[dft[\"err-mean\"]>=1.5].loc[:, \"x1\":\"x7est\"]))\n",
    "print(\"Y-COORDINATES:\\n{}\\n\".format(dft[dft[\"err-mean\"]>=1.5].loc[:, \"y1\":\"y7est\"]))"
   ]
  },
  {
   "cell_type": "code",
   "execution_count": null,
   "metadata": {
    "collapsed": true
   },
   "outputs": [],
   "source": [
    "# Box Plot\n",
    "bp = df.boxplot('err-mean', by=[\"n-sources\", \"refl-ord\"], return_type='both',figsize=(17,  12), showmeans=True, meanline=True)\n",
    "style_boxplot(bp,None,0,1)\n",
    "\n",
    "# if EXPORT_LATEX:\n",
    "#     tikz_save(PATH_BOX_PLOT, show_info=False)"
   ]
  },
  {
   "cell_type": "markdown",
   "metadata": {},
   "source": [
    "# Perfect Match Analysis"
   ]
  },
  {
   "cell_type": "code",
   "execution_count": null,
   "metadata": {
    "collapsed": true
   },
   "outputs": [],
   "source": [
    "dfcp = df.pivot_table(\"percent-matched\", columns=\"refl-ord\", aggfunc='mean').transpose()\n",
    "dfcp.plot(**DEFAULT_LINE_PLOT_ARGS)\n",
    "# Style plot\n",
    "style_line_plot(xlabel=\"number of sources\", ylabel=\"perfect matches\", grid=\"y\")"
   ]
  }
 ],
 "metadata": {
  "kernelspec": {
   "display_name": "Python 3",
   "language": "python",
   "name": "python3"
  },
  "language_info": {
   "codemirror_mode": {
    "name": "ipython",
    "version": 3
   },
   "file_extension": ".py",
   "mimetype": "text/x-python",
   "name": "python",
   "nbconvert_exporter": "python",
   "pygments_lexer": "ipython3",
   "version": "3.6.4"
  }
 },
 "nbformat": 4,
 "nbformat_minor": 2
}
