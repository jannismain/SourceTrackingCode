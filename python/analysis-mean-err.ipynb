{
 "cells": [
  {
   "cell_type": "markdown",
   "metadata": {},
   "source": [
    "# Mean Error Analysis"
   ]
  },
  {
   "cell_type": "code",
   "execution_count": 79,
   "metadata": {
    "scrolled": true
   },
   "outputs": [],
   "source": [
    "EXPORT_LATEX = True\n",
    "\n",
    "%matplotlib inline \n",
    "# %matplotlib notebook would provide interactive plots\n",
    "\n",
    "import glob\n",
    "import csv\n",
    "from os import path\n",
    "\n",
    "import pandas as pd\n",
    "import matplotlib\n",
    "import numpy as np\n",
    "import matplotlib.pyplot as plt\n",
    "from matplotlib2tikz import save as _tikz_save\n",
    "\n",
    "pd.set_option('display.precision', 2,\n",
    "              'display.width', 300,\n",
    "              'display.chop_threshold', 0.0001,\n",
    "              'display.expand_frame_repr', False,\n",
    "              'display.max_rows', None)\n",
    "\n",
    "# DATA EXPORT PATHS\n",
    "# ...data\n",
    "PATH_ROOT = '../matlab/mainczjs/evaluation/results/'\n",
    "NAME_DATA_FILES = '*results.txt'\n",
    "# ...LaTeX\n",
    "PATH_LATEX_PLOTS = '../latex/data/plots/'\n",
    "PATH_LATEX_TABLES = '../latex/data/tables/'\n",
    "\n",
    "lms_red = (204/255, 53/255, 56/255)\n",
    "\n",
    "EVALUATIONS = ['base', 'em-iterations', 'min-distance', 'reflect-order', 'T60', 'noise', 'wd', 'var-fixed']\n",
    "PARAMETERS = {'s':None, 'md':0.5, 'wd':1.2, 'T60':0.0, 'SNR':0, 'em':None, 'reflect-order':3, 'var-fixed':0, 'var-val':0.1}\n",
    "\n",
    "DICT_SUMMARY = {'x1':'count',  # sample size\n",
    "                'em':np.mean,  # em-iterations\n",
    "                'T60':np.mean,\n",
    "                'SNR':np.mean,\n",
    "                'md':np.mean,\n",
    "                'reflect-order':np.mean,\n",
    "                'var-fixed':np.mean,\n",
    "                'var-val':np.mean,\n",
    "                'err-mean':np.mean,\n",
    "                'percent-matched':np.mean}\n",
    "\n",
    "DEFAULT_LINE_PLOT_ARGS = {'kind':'line',\n",
    "                          'marker':'o',\n",
    "                          'markersize':6,\n",
    "                          'color':[lms_red, \"orange\", \"black\", \"darkgrey\", \"blue\", \"magenta\", \"green\", \"yellow\", \"lightgray\"]}\n",
    "\n",
    "def _get_trial_index(t):\n",
    "    return [\"t{}\".format(i+1) for i in range(t)]\n",
    "\n",
    "def _get_col_name(s,post):\n",
    "    return sum([(\"x{}{},y{}{}\".format(n,post,n,post)).split(',') for n in range(1,s+1)],[])\n",
    "\n",
    "def _get_err_col_name(s):\n",
    "    return [\"err{}\".format(n) for n in range(1,s+1)]\n",
    "\n",
    "def get_col_names(s):\n",
    "    return sum([_get_col_name(s,\"\"), _get_col_name(s,\"est\"), _get_err_col_name(s)], []) \n",
    "\n",
    "def is_x1_correct(row):\n",
    "    if abs(row[\"x1\"]-row[\"x1est\"]) > 0.001:\n",
    "        if abs(row[\"y1\"]-row[\"y1est\"]) > 0.001:\n",
    "            return 1\n",
    "    return 0\n",
    "\n",
    "def tikz_save(*args, **kwargs):\n",
    "    \"\"\"Wrapper for tikz_save function, that always suppresses additional info output\"\"\"\n",
    "    kwargs['show_info'] = False \n",
    "    _tikz_save(*args, **kwargs)\n",
    "    \n",
    "def is_matched(x):\n",
    "    ret = []\n",
    "    for el in x:\n",
    "        if str.lower(str(el))==\"nan\":\n",
    "            ret.append(np.NaN)\n",
    "        elif abs(el)>=0.1:\n",
    "            ret.append(0)\n",
    "        elif el==np.NaN:\n",
    "            ret.append(np.Nan)\n",
    "        else:\n",
    "            ret.append(1)\n",
    "    return ret\n",
    "\n",
    "def round_to_two(x):\n",
    "    ret = []\n",
    "    for el in x:\n",
    "        ret.append(round(x, 2))\n",
    "    return ret\n",
    "\n",
    "def ticks_restrict_to_integer(axis):\n",
    "    \"\"\"Restrict the ticks on the given axis to be at least integer,\n",
    "    that is no half ticks at 1.5 for example.\n",
    "    \"\"\"\n",
    "    from matplotlib.ticker import MultipleLocator\n",
    "    major_tick_locs = axis.get_majorticklocs()\n",
    "    if len(major_tick_locs) < 2 or major_tick_locs[1] - major_tick_locs[0] < 1:\n",
    "        axis.set_major_locator(MultipleLocator(1))\n",
    "\n",
    "def adjust_y_axis(step_size, digits=0, min=None, ax=None):\n",
    "    if ~ax:\n",
    "        plt.axes()\n",
    "    if ax.get_ylim()[1]<1:\n",
    "        ax.set_ylim([0,1])\n",
    "    start, end = ax.get_ylim()\n",
    "    if not min: min=start\n",
    "    ax.set_yticks(np.arange(min, round(end+step_size, digits), step_size))\n",
    "\n",
    "def scatter_plot(df, xaxis='n-sources', yaxis='err-mean'):\n",
    "    x = df[xaxis].values\n",
    "    y = df[yaxis].values\n",
    "    means = df.groupby([xaxis]).mean()[yaxis]\n",
    "    medians = df.groupby([xaxis]).median()[yaxis]\n",
    "    plt.scatter(x, y, alpha=0.1, c=\"gray\")\n",
    "    plt.scatter(means.index.values, means.values, alpha=1.0, c=lms_red, marker=\"o\", linewidth=\"4\", label=\"mean\")\n",
    "    plt.scatter(medians.index.values, medians.values, alpha=1.0, c=\"black\", marker=\"_\", linewidth=\"2\", label=\"median\")\n",
    "    # plt.xticks(n-sources_range)\n",
    "    adjust_y_axis(step_size=0.5, digits=2, min=0)\n",
    "    plt.grid(True, axis='y')\n",
    "    plt.xlabel(\"number of sources\")\n",
    "    plt.ylabel(\"mean localisation error (m)\")\n",
    "    l = plt.legend()\n",
    "    if EXPORT_LATEX:\n",
    "        tikz_save(PATH_SCATTER_PLOT, show_info=False)\n",
    "\n",
    "def style_boxplot(boxplots, fig=None, axes=None):\n",
    "    if not type(boxplots)==type([]): boxplots=[boxplots]\n",
    "    if not fig: fig = boxplots[0][0].ax.get_figure()\n",
    "    if not axes: axes = [boxplots[0][0].ax]\n",
    "    for bp in boxplots:\n",
    "        for key in bp[0].lines.keys():\n",
    "            for item in bp[0].lines[key]:\n",
    "                if key==\"fliers\":\n",
    "                    item.set_markerfacecolor(\"lightgray\")\n",
    "                    item.set_markeredgewidth(0)\n",
    "                    item.set_markeredgecolor(lms_red)\n",
    "                    item.set_markersize(7)\n",
    "                if key==\"medians\":\n",
    "                    item.set_color(lms_red)\n",
    "                    item.set_linewidth(3)\n",
    "                if key==\"whiskers\" or key==\"caps\":\n",
    "                    item.set_color(\"gray\")\n",
    "                else:\n",
    "                    item.set_color(lms_red)\n",
    "    if axes:\n",
    "        for ax in axes:\n",
    "            ax.set_title(\"\")\n",
    "#             ax.set_xlabel(\"number of sources\")\n",
    "#             ax.set_ylabel(\"mean localisation error (m)\")\n",
    "            ax.set_xlabel(\"\")\n",
    "            ax.set_ylabel(\"\")\n",
    "            ax.grid(axis=\"x\")\n",
    "            ax.set_ylim([0, 2])\n",
    "            ax.set_yticks(np.arange(0, 2.1, 0.2))\n",
    "#             ax.set_xticks([2,3,4,5,6,7])\n",
    "#             ticks_restrict_to_integer(ax.get_xaxis())\n",
    "#             ax.get_xaxis().set_major_formatter(\"%0.2f\")\n",
    "    if fig:\n",
    "        fig.suptitle('')\n",
    "\n",
    "def style_line_plot(xlabel, ylabel, grid):\n",
    "    plt.xlabel(xlabel)\n",
    "    plt.ylabel(ylabel)\n",
    "    plt.grid(axis=grid)\n",
    "\n",
    "def print_summary(df):\n",
    "    print(\"DATA FROM: \", set(df[\"description\"].values))\n",
    "    summary = df.groupby('n-sources').agg(DICT_SUMMARY).rename(columns={'x1':'n', 'em':'em-iterations'})\n",
    "    print(summary.transpose())\n",
    "    for col in [x for x in PARAMETERS.keys() if x != \"s\"]:  # Print additional notes for these columns\n",
    "        warn=False\n",
    "        if df[col].min()!=df[col].max():\n",
    "            col_values = df.pivot_table(\"x1\", index=[col], columns=[\"n-sources\"], aggfunc=\"count\")\n",
    "            if col_values.min().min()==col_values.max().max():\n",
    "                n=col_values.min().min()\n",
    "            else:\n",
    "                if (col_values.min(axis=1).values-col_values.max(axis=1)).sum() != 0:\n",
    "                    warn=True\n",
    "                n = list(col_values.min(axis=1).values)\n",
    "            print(\"NOTE: Data contains range of {col} ({values}, n={n})\"\n",
    "                  .format(col=col, values=[str(x) for x in list(col_values.index.values)], n=n))\n",
    "            if warn:\n",
    "                print(\"WARN: Unbalanced n_sources for '{}'. There may be a trial running at the moment!\".format(col))\n",
    "                print(col_values)\n",
    "    print()  # empty line at the end\n",
    "            \n",
    "def parse_parameters(fname):\n",
    "    ret = {'s':None, 'md':0.5, 'wd':1.2, 'T60':0.0, 'SNR':0, 'em':None, 'refl-ord':3, 'var-fixed':0, 'var-val':0.1}\n",
    "    done=False\n",
    "    s=0\n",
    "    while not done:\n",
    "        i = fname.find(\"_\", s)\n",
    "        i2 = fname.find(\"_\", i+1)\n",
    "        s=i2\n",
    "        if i < 0 or i2 < 0:\n",
    "            done=True\n",
    "            break\n",
    "        else:\n",
    "            fname_slice = fname[i+1:i2]\n",
    "            name, value = fname_slice.split(\"=\", 1)\n",
    "            ret[name]=value\n",
    "    return ret\n",
    "\n",
    "def calculate_helpers(df: pd.DataFrame):\n",
    "    df_helpers = (df.loc[:, \"x1\":\"x7\":2]-df.loc[:, \"x1est\":\"x7est\":2].values).rename(columns={\"x{}\".format(i):\"x{}matched\".format(i) for i in range(8)})\n",
    "    df_helpers = df_helpers.apply(is_matched, axis=1, raw=True)\n",
    "    df_helpers[\"total-matched\"] = df_helpers.sum(axis=1)\n",
    "    df_helpers[\"percent-matched\"] = df_helpers[\"total-matched\"] / df[\"n-sources\"].values\n",
    "    return df_helpers\n",
    "        \n",
    "def matlab2pandas(dirname=EVALUATIONS, filename=NAME_DATA_FILES, save_to=None, summary=True):\n",
    "    dfs = []\n",
    "    if type(dirname)!=list:\n",
    "        dirnames = [dirname, ]\n",
    "    else: dirnames = dirname\n",
    "\n",
    "    for dirname in dirnames:\n",
    "        files = glob.glob(path.join(PATH_ROOT,dirname,filename))\n",
    "        dfs = []\n",
    "\n",
    "        # read data\n",
    "        for f in files:\n",
    "            # look at filename\n",
    "            fname = f.split(sep=\"/\")[-1]\n",
    "            params = parse_parameters(fname)\n",
    "            n_sources = int(params[\"s\"])\n",
    "            # prepare DataFrame\n",
    "            df = pd.DataFrame(list(csv.reader(open(f, 'r'), delimiter='\\t')), dtype=float)\n",
    "            df.drop(df.columns[[n_sources*4+n_sources]], axis=1, inplace=True) # drops empty column\n",
    "            df.columns = get_col_names(n_sources)\n",
    "            df.index = [\"t{}\".format(i+1) for i in range(len(df))]\n",
    "            for key, value in params.items():\n",
    "                df[key] = np.float(value)\n",
    "            df[\"description\"] = dirname\n",
    "            dfs.append(df)\n",
    "        df = pd.concat(dfs)\n",
    "\n",
    "        # prep data for analysis\n",
    "        df.rename(columns={'s':'n-sources', 'refl-ord':'reflect-order'}, inplace=True)\n",
    "        df['SNR'] = df['SNR'].apply(int)\n",
    "        df['em'] = df['em'].apply(int)\n",
    "        df['n-sources'] = df['n-sources'].apply(int)\n",
    "        df[\"T60\"].apply(round, 2)\n",
    "        df[\"err-mean\"]      = df.loc[:, \"err1\":_get_err_col_name(n_sources)[-1]].mean(axis=1)\n",
    "        df[\"err-total\"]     = df.loc[:, \"err1\":_get_err_col_name(n_sources)[-1]].sum(axis=1)\n",
    "        df_helpers = calculate_helpers(df)\n",
    "        df = pd.concat([df,df_helpers], axis=1)\n",
    "        if summary:\n",
    "            print_summary(df)\n",
    "\n",
    "        if save_to: \n",
    "            df.to_pickle(save_to+\".pkl\")\n",
    "        dfs.append(df)\n",
    "    return pd.concat(dfs, ignore_index=True)"
   ]
  },
  {
   "cell_type": "markdown",
   "metadata": {},
   "source": [
    "## All Data "
   ]
  },
  {
   "cell_type": "code",
   "execution_count": null,
   "metadata": {},
   "outputs": [],
   "source": [
    "dfs = []\n",
    "for desc in EVALUATIONS:\n",
    "    dfs.append(matlab2pandas(dirname=desc, save_to=path.join(PATH_ROOT, desc), summary=False))\n",
    "df = pd.concat(dfs)"
   ]
  },
  {
   "cell_type": "code",
   "execution_count": null,
   "metadata": {},
   "outputs": [],
   "source": [
    "print(\"SUMMARY:\")\n",
    "summary = df.groupby('n-sources').agg({'x1':'count', 'err-mean':np.mean, 'percent-matched':np.mean}).rename(columns={'x1':'n'})\n",
    "print(summary.transpose())\n",
    "\n",
    "if EXPORT_LATEX:\n",
    "    summary.transpose().to_latex(\"\".join([PATH_LATEX_TABLES, 'summary-all.tex']), column_format=\"rrrrrrr\", bold_rows=True)"
   ]
  },
  {
   "cell_type": "code",
   "execution_count": null,
   "metadata": {},
   "outputs": [],
   "source": [
    "print_summary(df)\n",
    "dfp = df.pivot_table(\"x1\", index=[\"T60\"], columns=[\"em\", \"reflect-order\", \"md\", \"SNR\",\"wd\",\"var-val\"], aggfunc='count').transpose()\n",
    "print(\"OVERVIEW OF SAMPLE SIZES PER EVALUATION:\")\n",
    "print(dfp)\n",
    "# ax = dfp.plot(**DEFAULT_LINE_PLOT_ARGS, figsize=(17,6))\n",
    "# style_line_plot(xlabel=\"number of sources\", ylabel=\"mean localisation error [m]\", grid=\"y\")\n",
    "# plt.ylim([0,1])\n",
    "# plt.yticks(np.arange(0,1.1,0.1))\n",
    "# plt.legend(fancybox=True, title=(\"T60\",\"description\"))"
   ]
  },
  {
   "cell_type": "code",
   "execution_count": null,
   "metadata": {},
   "outputs": [],
   "source": [
    "plt.subplots(1,2,figsize=(13,5))\n",
    "dfs = []\n",
    "for desc in EVALUATIONS:\n",
    "    dfs.append(matlab2pandas(dirname=desc, save_to=path.join(PATH_ROOT, desc), summary=False))\n",
    "df = pd.concat(dfs)\n",
    "print_summary(df)\n",
    "cols = ['err-mean', 'percent-matched']\n",
    "# for col in cols:\n",
    "#     ax = plt.subplot(1,2,cols.index(col)+1)\n",
    "#     df.pivot_table(col, index=['n-sources'], aggfunc='mean').plot(**DEFAULT_LINE_PLOT_ARGS, grid=True, ax=ax, title=col)\n",
    "#     style_line_plot(\"number of sources\", \"\", grid='x')\n",
    "#     adjust_y_axis(0.1,1,0,ax)"
   ]
  },
  {
   "cell_type": "markdown",
   "metadata": {},
   "source": [
    "## Fixed EM-Iterations"
   ]
  },
  {
   "cell_type": "code",
   "execution_count": null,
   "metadata": {
    "collapsed": true
   },
   "outputs": [],
   "source": [
    "# plt.subplots(1,2,figsize=(13,5))\n",
    "desc = 'em-iterations'\n",
    "df = matlab2pandas(dirname='em-iterations', save_to=path.join(PATH_ROOT, desc), summary=False)\n",
    "df = df[df[\"reflect-order\"]==3.0]\n",
    "print_summary(df)\n",
    "\n",
    "# dfp = df.pivot_table(\"err-mean\", index=[\"em\"], columns=\"n-sources\", aggfunc='mean').transpose()\n",
    "# print(dfp)\n",
    "# dfp.plot(**DEFAULT_LINE_PLOT_ARGS, ax=plt.subplot(1,2,1))\n",
    "\n",
    "# # Style plot\n",
    "# style_line_plot(xlabel=\"number of sources\", ylabel=\"mean localisation error [m]\", grid=\"y\")\n",
    "# # adjust_y_axis(0.1, 1, 0)\n",
    "\n",
    "cols = ['err-mean', 'percent-matched']\n",
    "for col in cols:\n",
    "    ax = df.pivot_table(col, index=['n-sources'], columns=['em'], aggfunc='mean').plot(**DEFAULT_LINE_PLOT_ARGS, grid=True, figsize=[5,4], title=col)\n",
    "    ax.set_ylim([0,1])\n",
    "    style_line_plot(\"number of sources\", \"\", grid='x')\n",
    "    adjust_y_axis(0.1, 1, 0, ax)\n",
    "    if EXPORT_LATEX:\n",
    "        tikz_save(\"\".join([PATH_LATEX_PLOTS, 'plot_{}_{}.tex'.format(desc, col)]),\n",
    "        figureheight = '\\\\figureheight',\n",
    "        figurewidth = '\\\\figurewidth'\n",
    "        )"
   ]
  },
  {
   "cell_type": "markdown",
   "metadata": {},
   "source": [
    "## T60"
   ]
  },
  {
   "cell_type": "code",
   "execution_count": null,
   "metadata": {
    "collapsed": true
   },
   "outputs": [],
   "source": [
    "dfs = []\n",
    "for desc in EVALUATIONS:\n",
    "    dfs.append(matlab2pandas(dirname=desc, save_to=path.join(PATH_ROOT, desc), summary=False))\n",
    "df = pd.concat(dfs)\n",
    "\n",
    "df_sub = df\n",
    "df_sub = df_sub[df_sub[\"md\"]==0.5]\n",
    "df_sub = df_sub[df_sub[\"reflect-order\"]==3]\n",
    "df_sub = df_sub[df_sub[\"em\"]==10]\n",
    "df_sub = df_sub[df_sub[\"SNR\"]==0]\n",
    "print_summary(df_sub)\n",
    "df = df_sub\n",
    "\n",
    "# dfp = df_sub.pivot_table(\"err-mean\", index=[\"em\", \"T60\"], columns=\"n-sources\", aggfunc='mean').transpose()\n",
    "# ax = dfp.plot(**DEFAULT_LINE_PLOT_ARGS)\n",
    "# # Style plot\n",
    "# style_line_plot(xlabel=\"number of sources\", ylabel=\"mean localisation error [m]\", grid=\"y\")\n",
    "# adjust_y_axis(0.1, 1, 0.0,ax)\n",
    "desc = \"T60\"\n",
    "cols = ['err-mean', 'percent-matched']\n",
    "for col in cols:\n",
    "    ax = df.pivot_table(col, index=['n-sources'], columns=['T60'], aggfunc='mean').plot(**DEFAULT_LINE_PLOT_ARGS, grid=True, figsize=[5,4], title=col)\n",
    "    ax.set_ylim([0,1])\n",
    "    style_line_plot(\"number of sources\", \"\", grid='x')\n",
    "    adjust_y_axis(0.1, 1, 0, ax)\n",
    "    if EXPORT_LATEX:\n",
    "        tikz_save(\"\".join([PATH_LATEX_PLOTS, 'plot_{}_{}.tex'.format(desc, col)]),\n",
    "        figureheight = '\\\\figureheight',\n",
    "        figurewidth = '\\\\figurewidth'\n",
    "        )"
   ]
  },
  {
   "cell_type": "markdown",
   "metadata": {},
   "source": [
    "## minimal distance between sources"
   ]
  },
  {
   "cell_type": "code",
   "execution_count": null,
   "metadata": {
    "collapsed": true
   },
   "outputs": [],
   "source": [
    "dfs = []\n",
    "for desc in EVALUATIONS:\n",
    "    dfs.append(matlab2pandas(dirname=desc, save_to=path.join(PATH_ROOT, desc), summary=False))\n",
    "df = pd.concat(dfs)\n",
    "\n",
    "print_summary(df)\n",
    "\n",
    "df_sub = df\n",
    "df_sub = df_sub[df_sub[\"T60\"]==0.0]\n",
    "df_sub = df_sub[df_sub[\"em\"]==5]\n",
    "df_sub = df_sub[df_sub[\"md\"]!=1.0]\n",
    "df_sub = df_sub[df_sub[\"reflect-order\"]==3]\n",
    "print_summary(df_sub)\n",
    "dfp = df_sub.pivot_table(\"err-mean\", index=[\"md\"], columns=\"n-sources\", aggfunc='mean').transpose()\n",
    "ax = dfp.plot(**DEFAULT_LINE_PLOT_ARGS)\n",
    "# Style plot\n",
    "style_line_plot(xlabel=\"number of sources\", ylabel=\"mean localisation error [m]\", grid=\"y\")\n",
    "plt.title(\"effect of minimal enforced distance between sources on mean localisation error\")\n",
    "plt.ylim([0,1])\n",
    "adjust_y_axis(0.1, 1, 0, ax)"
   ]
  },
  {
   "cell_type": "markdown",
   "metadata": {},
   "source": [
    "## reflect order"
   ]
  },
  {
   "cell_type": "code",
   "execution_count": null,
   "metadata": {
    "collapsed": true
   },
   "outputs": [],
   "source": [
    "dfs = []\n",
    "for desc in EVALUATIONS:\n",
    "    dfs.append(matlab2pandas(dirname=desc, save_to=path.join(PATH_ROOT, desc), summary=False))\n",
    "    if desc=='base':\n",
    "        dfs[-1][\"refl-ord\"]=3\n",
    "df = pd.concat(dfs)\n",
    "\n",
    "# print_summary(df)\n",
    "df_temp = df[df[\"em\"]==5]\n",
    "df_temp = df_temp[df_temp[\"T60\"]==0.6]\n",
    "df_temp = df_temp[df_temp[\"md\"]==0.5]\n",
    "df_temp = df_temp[df_temp[\"SNR\"]==0.0]\n",
    "df = df_temp\n",
    "print_summary(df_temp)\n",
    "\n",
    "# dfp = df_temp.pivot_table(\"err-mean\", index=[\"reflect-order\"], columns=\"n-sources\", aggfunc='mean').transpose()\n",
    "# dfp.plot(**DEFAULT_LINE_PLOT_ARGS)\n",
    "\n",
    "# # Style plot\n",
    "# style_line_plot(xlabel=\"number of sources\", ylabel=\"mean localisation error [m]\", grid=\"y\")\n",
    "# adjust_y_axis(0.1, 1, 0)\n",
    "\n",
    "desc = \"reflect-order\"\n",
    "cols = ['err-mean', 'percent-matched']\n",
    "for col in cols:\n",
    "    ax = df.pivot_table(col, index=['n-sources'], columns=['reflect-order'], aggfunc='mean').plot(**DEFAULT_LINE_PLOT_ARGS, grid=True, figsize=[5,4], title=col)\n",
    "    ax.set_ylim([0,1])\n",
    "    style_line_plot(\"number of sources\", \"\", grid='x')\n",
    "    adjust_y_axis(0.1, 1, 0, ax)\n",
    "    if EXPORT_LATEX:\n",
    "        tikz_save(\"\".join([PATH_LATEX_PLOTS, 'plot_{}_{}.tex'.format(desc, col)]),\n",
    "        figureheight = '\\\\figureheight',\n",
    "        figurewidth = '\\\\figurewidth'\n",
    "        )"
   ]
  },
  {
   "cell_type": "markdown",
   "metadata": {},
   "source": [
    "## SNR"
   ]
  },
  {
   "cell_type": "code",
   "execution_count": null,
   "metadata": {
    "collapsed": true
   },
   "outputs": [],
   "source": [
    "df = matlab2pandas(dirname=EVALUATIONS, save_to=False, summary=False)\n",
    "\n",
    "# print_summary(df)\n",
    "df_temp = df\n",
    "df_temp = df[df[\"em\"]==5]\n",
    "df_temp = df_temp[df_temp[\"T60\"]==0.3]\n",
    "df_temp = df_temp[df_temp[\"md\"]==0.5]\n",
    "# df_temp = df_temp[df_temp[\"description\"]==\"noise\"]\n",
    "print_summary(df_temp)\n",
    "\n",
    "# dfp = df_temp.pivot_table(\"err-mean\", index=[\"SNR\"], columns=\"n-sources\", aggfunc='mean').transpose()\n",
    "# dfp.plot(**DEFAULT_LINE_PLOT_ARGS)\n",
    "\n",
    "# # Style plot\n",
    "# style_line_plot(xlabel=\"number of sources\", ylabel=\"mean localisation error [m]\", grid=\"y\")\n",
    "# adjust_y_axis(0.1, 1, 0)\n",
    "\n",
    "desc = \"snr\"\n",
    "cols = ['err-mean', 'percent-matched']\n",
    "for col in cols:\n",
    "    ax = df.pivot_table(col, index=['n-sources'], columns=['SNR'], aggfunc='mean').plot(**DEFAULT_LINE_PLOT_ARGS, grid=True, figsize=[5,4], title=col)\n",
    "    ax.set_ylim([0,1])\n",
    "    style_line_plot(\"number of sources\", \"\", grid='x')\n",
    "    adjust_y_axis(0.1, 1, 0, ax)\n",
    "    if EXPORT_LATEX:\n",
    "        tikz_save(\"\".join([PATH_LATEX_PLOTS, 'plot_{}_{}.tex'.format(desc, col)]),\n",
    "        figureheight = '\\\\figureheight',\n",
    "        figurewidth = '\\\\figurewidth'\n",
    "        )"
   ]
  },
  {
   "cell_type": "markdown",
   "metadata": {},
   "source": [
    "## Guessing at random"
   ]
  },
  {
   "cell_type": "code",
   "execution_count": null,
   "metadata": {
    "collapsed": true
   },
   "outputs": [],
   "source": [
    "dfs = []\n",
    "for desc in ['_guessing', 'base']:\n",
    "    dfs.append(matlab2pandas(dirname=desc, save_to=path.join(PATH_ROOT, desc), summary=False))\n",
    "df = pd.concat(dfs)\n",
    "\n",
    "dfp = df.pivot_table(\"err-mean\", index=\"description\", columns=\"n-sources\", aggfunc='mean').transpose()\n",
    "dfp.plot(kind='line', marker='o', color=[lms_red, \"darkgray\", \"lightgray\", \"orange\", \"black\"])\n",
    "\n",
    "style_line_plot(xlabel=\"number of sources\", ylabel=\"mean localisation error [m]\", grid=\"y\")"
   ]
  },
  {
   "cell_type": "markdown",
   "metadata": {},
   "source": [
    "# Wall distance"
   ]
  },
  {
   "cell_type": "code",
   "execution_count": null,
   "metadata": {
    "collapsed": true
   },
   "outputs": [],
   "source": [
    "dfs = []\n",
    "for desc in ['base', 'wd']:\n",
    "    dfs.append(matlab2pandas(dirname=desc, save_to=path.join(PATH_ROOT, desc), summary=False))\n",
    "df = pd.concat(dfs)"
   ]
  },
  {
   "cell_type": "code",
   "execution_count": null,
   "metadata": {},
   "outputs": [],
   "source": [
    "df = df[df[\"reflect-order\"]==0]\n",
    "print_summary(df)\n",
    "# dfp = df.pivot_table(\"err-mean\", index=[\"description\", \"wd\"], columns=\"n-sources\", aggfunc='mean').transpose()\n",
    "# dfp.boxplot(column=(\"n-sources\"))"
   ]
  },
  {
   "cell_type": "code",
   "execution_count": null,
   "metadata": {
    "collapsed": true
   },
   "outputs": [],
   "source": [
    "plt.subplots(2,2, figsize=(17,17))\n",
    "ax = list()\n",
    "for i in range(1,5):\n",
    "    ax.append(plt.subplot(2,2,i))\n",
    "\n",
    "plt.subplots_adjust()\n",
    "i=0\n",
    "for wd in [1.2, 1.3, 1.5]:\n",
    "    dft = df[df[\"wd\"]==wd]\n",
    "    bp = dft.boxplot('err-mean', by=[\"n-sources\"], return_type='both', figsize=(6,  6), showmeans=True, meanline=True)\n",
    "    style_boxplot(bp)\n",
    "    plt.title(\"Wall distance = {}m\".format(wd))"
   ]
  },
  {
   "cell_type": "markdown",
   "metadata": {},
   "source": [
    "## Variance "
   ]
  },
  {
   "cell_type": "code",
   "execution_count": 95,
   "metadata": {
    "collapsed": true
   },
   "outputs": [],
   "source": [
    "# Load Data\n",
    "dfs = []\n",
    "for desc in EVALUATIONS:\n",
    "    dfs.append(matlab2pandas(dirname=desc, save_to=path.join(PATH_ROOT, desc), summary=False))\n",
    "try:\n",
    "    df = pd.concat(dfs)\n",
    "except ValueError:\n",
    "    df = dfs"
   ]
  },
  {
   "cell_type": "code",
   "execution_count": 98,
   "metadata": {},
   "outputs": [
    {
     "name": "stdout",
     "output_type": "stream",
     "text": [
      "n-sources           2.0   3.0   4.0   5.0   6.0   7.0\n",
      "var-val var-fixed                                    \n",
      "0.1     0.0        0.10  0.17  0.26  0.33  0.33  0.28\n",
      "        1.0        0.14  0.35  0.34  0.31  0.42  0.37\n",
      "0.5     1.0        0.13  0.21  0.28  0.29  0.32  0.36\n",
      "1.0     0.0        0.12  0.14  0.15  0.15  0.27  0.23\n",
      "2.0     0.0        0.06  0.11  0.10  0.25  0.18  0.22\n",
      "        1.0        0.06  0.13  0.11  0.15  0.19  0.19\n",
      "3.0     1.0        0.10  0.12  0.22  0.24  0.22  0.24\n",
      "5.0     1.0        0.20  0.39  0.38  0.38  0.39  0.38\n",
      "DATA FROM:  {'T60', 'var-fixed'}\n",
      "n-sources             2.0      3.0       4.0      5.0       6.0     7.0\n",
      "n                1.05e+03  1050.00  1.05e+03  1000.00  9.00e+02  900.00\n",
      "em-iterations    1.00e+01    10.00  1.00e+01    10.00  1.00e+01   10.00\n",
      "T60              3.00e-01     0.30  3.00e-01     0.30  3.00e-01    0.30\n",
      "SNR              0.00e+00     0.00  0.00e+00     0.00  0.00e+00    0.00\n",
      "md               5.00e-01     0.50  5.00e-01     0.50  5.00e-01    0.50\n",
      "reflect-order    3.00e+00     3.00  3.00e+00     3.00  3.00e+00    3.00\n",
      "var-fixed        8.10e-01     0.81  8.10e-01     0.80  7.78e-01    0.78\n",
      "var-val          1.98e+00     1.98  1.98e+00     2.05  2.23e+00    2.23\n",
      "err-mean         1.34e-01     0.25  2.81e-01     0.30  3.27e-01    0.31\n",
      "percent-matched -4.39e+17     0.67 -2.20e+17     0.55 -1.71e+17    0.44\n",
      "NOTE: Data contains range of var-fixed (['0.0', '1.0'], n=[200, 700])\n",
      "WARN: Unbalanced n_sources for 'var-fixed'. There may be a trial running at the moment!\n",
      "n-sources  2.0  3.0  4.0  5.0  6.0  7.0\n",
      "var-fixed                              \n",
      "0.0        200  200  200  200  200  200\n",
      "1.0        850  850  850  800  700  700\n",
      "NOTE: Data contains range of var-val (['0.1', '0.5', '1.0', '2.0', '3.0', '5.0'], n=[300, 50, 50, 100, 150, 250])\n",
      "WARN: Unbalanced n_sources for 'var-val'. There may be a trial running at the moment!\n",
      "n-sources  2.0  3.0  4.0  5.0  6.0  7.0\n",
      "var-val                                \n",
      "0.1        300  300  300  300  300  300\n",
      "0.5        200  200  200  150   50   50\n",
      "1.0         50   50   50   50   50   50\n",
      "2.0        100  100  100  100  100  100\n",
      "3.0        150  150  150  150  150  150\n",
      "5.0        250  250  250  250  250  250\n",
      "\n"
     ]
    }
   ],
   "source": [
    "# Manipulate Data\n",
    "dft = df\n",
    "dft = dft[dft[\"reflect-order\"]==3]\n",
    "dft = dft[dft[\"T60\"]==0.3]\n",
    "dft = dft[dft[\"em\"]==10]\n",
    "dft = dft[dft[\"wd\"]==1.2]\n",
    "dft = dft[dft[\"md\"]==0.5]\n",
    "dft = dft[dft[\"SNR\"]==0]\n",
    "dftp = dft.pivot_table(\"err-mean\", index=[\"var-val\", \"var-fixed\"], columns=\"n-sources\", aggfunc='mean')\n",
    "print(dftp)\n",
    "print_summary(dft)"
   ]
  },
  {
   "cell_type": "code",
   "execution_count": 100,
   "metadata": {},
   "outputs": [
    {
     "name": "stdout",
     "output_type": "stream",
     "text": [
      "n-sources          2.0  3.0  4.0  5.0  6.0  7.0\n",
      "var-val var-fixed                              \n",
      "0.1     0.0        100  100  100  100  100  100\n",
      "        1.0        200  200  200  200  200  200\n",
      "0.5     1.0        200  200  200  150   50   50\n",
      "1.0     0.0         50   50   50   50   50   50\n",
      "2.0     0.0         50   50   50   50   50   50\n",
      "        1.0         50   50   50   50   50   50\n",
      "3.0     1.0        150  150  150  150  150  150\n",
      "5.0     1.0        250  250  250  250  250  250\n"
     ]
    }
   ],
   "source": [
    "dfp = dft.pivot_table(\"x1\", index=[\"n-sources\"], columns=[\"var-val\",\"var-fixed\"], aggfunc='count').transpose()\n",
    "print(dfp)"
   ]
  },
  {
   "cell_type": "code",
   "execution_count": 97,
   "metadata": {},
   "outputs": [
    {
     "data": {
      "image/png": "[encoded data removed]",
      "text/plain": [
       "<matplotlib.figure.Figure at 0x10f6e09e8>"
      ]
     },
     "metadata": {},
     "output_type": "display_data"
    }
   ],
   "source": [
    "# dfp = df.pivot_table(\"err-mean\", index=[\"description\", \"wd\"], columns=\"n-sources\", aggfunc='mean').transpose()\n",
    "# dfp.boxplot(column=(\"n-sources\", \"var\", \"var-val\"))\n",
    "spgrid = (2,5)\n",
    "plt.subplots(spgrid[0],spgrid[1], figsize=(17,8))\n",
    "ax = list()\n",
    "for i in range(1,spgrid[0]*spgrid[1]+1):\n",
    "    ax.append(plt.subplot(spgrid[0],spgrid[1],i))\n",
    "\n",
    "plt.subplots_adjust()\n",
    "i=0\n",
    "for vv, vf in [(0.1,1), (0.5,1), (1.0,1), (2.0,1), (5.0,1), (0.1, 0), (0.5, 0), (1.0, 0), (2.0, 0), (5.0, 0)]:\n",
    "    dftt = dft[dft[\"var-val\"]==vv]\n",
    "    dftt = dftt[dftt[\"var-fixed\"]==vf]\n",
    "    try:\n",
    "        bp = dftt.boxplot('err-mean', by=[\"n-sources\"], return_type='both', figsize=(6,  6), showmeans=True, meanline=True, ax=ax[i])\n",
    "        style_boxplot(bp)\n",
    "        ax[i].set_title(\"var-fixed={}, var-val={}\".format(vf, vv))\n",
    "        i+=1\n",
    "    except ValueError:\n",
    "        continue\n",
    "    "
   ]
  },
  {
   "cell_type": "markdown",
   "metadata": {},
   "source": [
    "# Analyse DataFrame"
   ]
  },
  {
   "cell_type": "markdown",
   "metadata": {},
   "source": [
    "### Examine Outliers"
   ]
  },
  {
   "cell_type": "code",
   "execution_count": null,
   "metadata": {
    "collapsed": true
   },
   "outputs": [],
   "source": [
    "# print(pd.concat([df[df[\"err-mean\"]>=1.5].loc[:, \"err1\":\"err7\"], df[df[\"err-mean\"]>=1.5].loc[:, \"x1\":\"x7\"]], axis=1))\n",
    "print(\"ERRORS:\\n{}\\n\".format(df[df[\"err-mean\"]>=1.5].loc[:, \"err1\":\"err7\"]))\n",
    "print(\"X-COORDINATES:\\n{}\\n\".format(df[df[\"err-mean\"]>=1.5].loc[:, \"x1\":\"x7est\"]))\n",
    "print(\"Y-COORDINATES:\\n{}\\n\".format(df[df[\"err-mean\"]>=1.5].loc[:, \"y1\":\"y7est\"]))"
   ]
  },
  {
   "cell_type": "code",
   "execution_count": null,
   "metadata": {
    "collapsed": true
   },
   "outputs": [],
   "source": [
    "# Box Plot\n",
    "bp = df.boxplot('err-mean', by=[\"n-sources\", \"refl-ord\"], return_type='both',figsize=(17,  12), showmeans=True, meanline=True)\n",
    "style_boxplot(bp)\n",
    "\n",
    "if EXPORT_LATEX:\n",
    "    tikz_save(PATH_BOX_PLOT, show_info=False)"
   ]
  },
  {
   "cell_type": "markdown",
   "metadata": {},
   "source": [
    "# Perfect Match Analysis"
   ]
  },
  {
   "cell_type": "code",
   "execution_count": null,
   "metadata": {
    "collapsed": true
   },
   "outputs": [],
   "source": [
    "dfcp = df.pivot_table(\"percent-matched\", columns=\"refl-ord\", aggfunc='mean').transpose()\n",
    "dfcp.plot(**DEFAULT_LINE_PLOT_ARGS)\n",
    "# Style plot\n",
    "style_line_plot(xlabel=\"number of sources\", ylabel=\"perfect matches\", grid=\"y\")"
   ]
  },
  {
   "cell_type": "markdown",
   "metadata": {},
   "source": [
    "# Significance Analysis"
   ]
  },
  {
   "cell_type": "code",
   "execution_count": null,
   "metadata": {
    "collapsed": true
   },
   "outputs": [],
   "source": [
    "from scipy.stats import ttest_ind, describe, norm\n",
    "from statsmodels.formula.api import ols\n",
    "\n",
    "means = []\n",
    "stddevs = []\n",
    "\n",
    "# extract err-mean per n_sources\n",
    "cat = {}\n",
    "for n in set(df[\"n-sources\"].values):\n",
    "    cat[str(n)] = df[df['n-sources']==n]['err-mean']\n",
    "\n",
    "x = np.linspace(0,1.5,100)\n",
    "print(\"DESCRIPTIVE ANALYSIS:\")\n",
    "fig, ax = plt.subplots(1,3, figsize=(17,  6))\n",
    "for n, c in cat.items():\n",
    "    dr = describe(c)\n",
    "    means.append(dr.mean)\n",
    "    stddevs.append(np.sqrt(dr.variance))\n",
    "    y = norm.pdf(x, loc=dr.mean, scale=np.sqrt(dr.variance))\n",
    "    plt.subplot(131)\n",
    "    plt.plot(x, y, label=n)  # plot gaussian\n",
    "    print(\"{} sources: n={:3}, min={:0.3f}, max={:0.3f}, mean={:0.3f}, variance={:0.3f}, std.dev={:0.3f}\".format(\n",
    "        n, dr.nobs, dr.minmax[0], dr.minmax[1], dr.mean, dr.variance, np.sqrt(dr.variance)))\n",
    "plt.legend()\n",
    "\n",
    "plt.subplot(132)\n",
    "plt.boxplot(list(cat.values()), showmeans=True, meanline=True)\n",
    "\n",
    "plt.subplot(133)\n",
    "plt.boxplot(list(cat.values()), showmeans=True, meanline=True)\n",
    "plt.ylim(-0.01, 0.31)\n",
    "plt.yticks([0, 0.1, 0.2, 0.3])\n",
    "\n",
    "# This means that given p and t values from a two-tailed test, you would reject the null hypothesis \n",
    "# of a greater-than test when p/2 < alpha and t > 0, and of a less-than test when p/2 < alpha and t < 0.    \n",
    "\n",
    "print(\"\\nT-TEST FOR DIFFERENCE IN MEANS:\")\n",
    "for i1 in set(df[\"n-sources\"].values):\n",
    "    for i2 in set(df[\"n-sources\"].values):\n",
    "        if i1!=i2 and i2>i1 and i2<=i1+1:\n",
    "            ttest = ttest_ind(cat[str(i2)], cat[str(i1)], equal_var=False)\n",
    "            p_onesided = ttest.pvalue/2\n",
    "            if p_onesided <= 0.01:sign=\"***\"\n",
    "            elif p_onesided <= 0.05: sign=\"**\"\n",
    "            elif p_onesided <= 0.10: sign=\"*\"\n",
    "            else: sign=\"(n.s.)\"\n",
    "            print(\"{}x{}: t={t.statistic:0.3f}, p={p:0.3f} {s:^6}\".format(i1, i2, t=ttest, p=p_onesided, s=sign))\n",
    "\n",
    "print(\"\\nVISUALIZE MEANS AND VARIANCE OF DATA:\")"
   ]
  },
  {
   "cell_type": "code",
   "execution_count": null,
   "metadata": {},
   "outputs": [],
   "source": [
    "import pylab\n",
    "\n",
    "\n",
    "def _test_restrict_to_integer():\n",
    "    pylab.figure()\n",
    "    ax = pylab.subplot(1, 2, 1)\n",
    "    pylab.bar(np.arange(1,4), range(1,4), align='center')\n",
    "    ticks_restrict_to_integer(ax.xaxis)\n",
    "    ticks_restrict_to_integer(ax.yaxis)\n",
    "\n",
    "    ax = pylab.subplot(1, 2, 2)\n",
    "    pylab.bar(range(1,4), range(100,400,100), align='center')\n",
    "    ticks_restrict_to_integer(ax.xaxis)\n",
    "    ticks_restrict_to_integer(ax.yaxis)\n",
    "\n",
    "_test_restrict_to_integer()\n",
    "pylab.show()"
   ]
  },
  {
   "cell_type": "code",
   "execution_count": null,
   "metadata": {
    "collapsed": true
   },
   "outputs": [],
   "source": []
  }
 ],
 "metadata": {
  "kernelspec": {
   "display_name": "Python 3",
   "language": "python",
   "name": "python3"
  },
  "language_info": {
   "codemirror_mode": {
    "name": "ipython",
    "version": 3
   },
   "file_extension": ".py",
   "mimetype": "text/x-python",
   "name": "python",
   "nbconvert_exporter": "python",
   "pygments_lexer": "ipython3",
   "version": "3.6.2"
  }
 },
 "nbformat": 4,
 "nbformat_minor": 2
}
