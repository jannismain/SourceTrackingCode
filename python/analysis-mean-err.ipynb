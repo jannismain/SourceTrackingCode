{
 "cells": [
  {
   "cell_type": "markdown",
   "metadata": {},
   "source": [
    "# Mean Error Analysis"
   ]
  },
  {
   "cell_type": "code",
   "execution_count": 1,
   "metadata": {
    "collapsed": true
   },
   "outputs": [],
   "source": [
    "EXPORT_LATEX = False\n",
    "\n",
    "%matplotlib inline \n",
    "# %matplotlib notebook would provide interactive plots\n",
    "\n",
    "import os\n",
    "import sys\n",
    "nb_dir = os.path.split(os.getcwd())[0]\n",
    "if nb_dir not in sys.path:\n",
    "    sys.path.append(nb_dir)\n",
    "\n",
    "from mthesis.helpers import *  # all functions are in this package\n",
    "\n",
    "# DISPLAY CONFIGURATION\n",
    "BP_OFFSETS = [0,0,0,0.15,0.25, 0.35, 0.40]\n",
    "DEFAULT_LINE_PLOT_ARGS = {'kind':'line',\n",
    "                          'marker':'o',\n",
    "                          'markersize':6,\n",
    "                          'color':colors}\n",
    "\n",
    "pd.set_option('display.precision', 2,\n",
    "              'display.width', 300,\n",
    "              'display.chop_threshold', 0.0001,\n",
    "              'display.expand_frame_repr', True,\n",
    "              'display.max_rows', 55,\n",
    "              'max_colwidth', 20,\n",
    "              'display.float_format', float_fmt)"
   ]
  },
  {
   "cell_type": "markdown",
   "metadata": {},
   "source": [
    "## All Data "
   ]
  },
  {
   "cell_type": "code",
   "execution_count": 2,
   "metadata": {
    "collapsed": true
   },
   "outputs": [],
   "source": [
    "df = load_all_data()\n",
    "dft = df"
   ]
  },
  {
   "cell_type": "code",
   "execution_count": null,
   "metadata": {
    "collapsed": true
   },
   "outputs": [],
   "source": [
    "print(\"SUMMARY:\")\n",
    "dft = df\n",
    "summary = dft.groupby('n-sources').agg({'x1':'count', 'err-mean':np.mean, 'percent-matched':np.mean}).rename(columns={'x1':'n'})\n",
    "print(summary.transpose())\n",
    "\n",
    "if EXPORT_LATEX:\n",
    "    summary.transpose().to_latex(\"\".join([PATH_LATEX_TABLES, 'summary-all.tex']), column_format=\"rrrrrrr\", bold_rows=True)"
   ]
  },
  {
   "cell_type": "code",
   "execution_count": null,
   "metadata": {
    "collapsed": true
   },
   "outputs": [],
   "source": [
    "print_summary(dft, verbose=False)\n",
    "# print(\"OVERVIEW OF SAMPLE SIZES PER EVALUATION:\")\n",
    "# dfp = df.pivot_table(\"x1\", index=[\"n-sources\"], columns=[\"T60\", \"em\", \"reflect-order\", \"md\", \"SNR\",\"wd\",\"var-val\",\"var-fixed\"], aggfunc='count').transpose()\n",
    "# print(dfp)\n",
    "\n",
    "# plt.legend(fancybox=True, title=(\"T60\",\"description\"))"
   ]
  },
  {
   "cell_type": "code",
   "execution_count": null,
   "metadata": {
    "collapsed": true
   },
   "outputs": [],
   "source": [
    "ax, i = init_grid((1,2), (12,3))\n",
    "cols = ['err-mean', 'percent-matched']\n",
    "for col in cols:\n",
    "    dft.pivot_table(col, index=['n-sources'], aggfunc='mean').plot(**DEFAULT_LINE_PLOT_ARGS, grid=True, ax=ax[i], title=col)\n",
    "    style_line_plot(\"\", \"\", grid='x', ax=ax[i])\n",
    "    adjust_y_axis(0.1,1,0,1.01,ax[i])\n",
    "    i+=1"
   ]
  },
  {
   "cell_type": "markdown",
   "metadata": {},
   "source": [
    "## Fixed EM-Iterations"
   ]
  },
  {
   "cell_type": "code",
   "execution_count": null,
   "metadata": {
    "collapsed": true
   },
   "outputs": [],
   "source": [
    "df = load_all_data()\n",
    "dft = df"
   ]
  },
  {
   "cell_type": "code",
   "execution_count": 3,
   "metadata": {},
   "outputs": [
    {
     "name": "stdout",
     "output_type": "stream",
     "text": [
      "DATA FROM:  {'em-iterations'}\n",
      "n-sources          2    3    4    5    6    7\n",
      "n               1275 1275 1275 1275 1275 1275\n",
      "em-iterations   7.61 7.61 7.61 7.61 7.61 7.61\n",
      "T60             0.30 0.30 0.30 0.30 0.30 0.30\n",
      "SNR                0    0    0    0    0    0\n",
      "md              0.50 0.50 0.50 0.50 0.50 0.50\n",
      "reflect-order      3    3    3    3    3    3\n",
      "var-fixed          0    0    0    0    0    0\n",
      "var-val         0.10 0.10 0.10 0.10 0.10 0.10\n",
      "prior              0    0    0    0    0    0\n",
      "err-mean        0.14 0.23 0.32 0.39 0.48 0.46\n",
      "percent-matched 0.78 0.72 0.68 0.62 0.57 0.47\n",
      "NOTE: Data contains range of em (['1.0', '2.0', '3.0', '5.0', '10.0', '20.0'], n=[200, 200, 200, 200, 200, 275])\n",
      "\n"
     ]
    }
   ],
   "source": [
    "# Manipulate Data\n",
    "var = \"em\"\n",
    "dft = df\n",
    "dft = dft[dft[\"description\"]==\"em-iterations\"]\n",
    "dft = dft[dft[\"reflect-order\"]==3]\n",
    "dft = dft[dft[\"T60\"]==0.3]\n",
    "# dft = dft[dft[\"em\"]==5]\n",
    "dft = dft[dft[\"wd\"]==1.2]\n",
    "dft = dft[dft[\"md\"]==0.5]\n",
    "dft = dft[dft[\"SNR\"]==0]\n",
    "dft = dft[dft[\"var-fixed\"]==0]\n",
    "dft = dft[dft[\"var-val\"]==0.1]\n",
    "print_summary(dft)"
   ]
  },
  {
   "cell_type": "code",
   "execution_count": 4,
   "metadata": {},
   "outputs": [
    {
     "name": "stdout",
     "output_type": "stream",
     "text": [
      "SAMPLE SIZE:\n",
      "n-sources    2    3    4    5    6    7\n",
      "em                                     \n",
      "1          200  200  200  200  200  200\n",
      "2          200  200  200  200  200  200\n",
      "3          200  200  200  200  200  200\n",
      "5          200  200  200  200  200  200\n",
      "10         200  200  200  200  200  200\n",
      "20         275  275  275  275  275  275\n",
      "\n",
      "MEAN ERROR:\n",
      "n-sources    2    3    4    5    6    7\n",
      "em                                     \n",
      "1         0.19 0.37 0.48 0.50 0.65 0.60\n",
      "2         0.17 0.23 0.39 0.47 0.52 0.50\n",
      "3         0.14 0.22 0.29 0.43 0.46 0.44\n",
      "5         0.12 0.20 0.25 0.36 0.46 0.44\n",
      "10        0.13 0.20 0.25 0.30 0.39 0.43\n",
      "20        0.09 0.18 0.27 0.32 0.44 0.40\n"
     ]
    }
   ],
   "source": [
    "print(\"SAMPLE SIZE:\")\n",
    "dfp = dft.pivot_table(\"x1\", index=[\"n-sources\"], columns=[var], aggfunc='count').transpose()\n",
    "print(dfp)\n",
    "\n",
    "print(\"\\nMEAN ERROR:\")\n",
    "dfp = dft.pivot_table(\"err-mean\", index=[\"n-sources\"], columns=var, aggfunc='mean').transpose()\n",
    "print(dfp)"
   ]
  },
  {
   "cell_type": "code",
   "execution_count": 5,
   "metadata": {},
   "outputs": [
    {
     "data": {
      "image/png": "[encoded data removed]",
      "text/plain": [
       "<matplotlib.figure.Figure at 0x11590a0b8>"
      ]
     },
     "metadata": {},
     "output_type": "display_data"
    }
   ],
   "source": [
    "# Joint Boxplot, grouped\n",
    "offset = 0.40\n",
    "colors = ['lightgray', 'darkgray', 'k',lms_red, 'lightblue', 'orange']\n",
    "offset_table = np.arange(-offset, offset, 2*offset/len(colors))\n",
    "fig = figure( figsize=(17,6.5) )\n",
    "ax  = fig.add_subplot(111)\n",
    "boxplot_args = {'ax':ax,'notch':False,'return_type':'both','widths':0.08,'showmeans':True, 'meanline':False}\n",
    "idx=0\n",
    "legend_dict = {}\n",
    "\n",
    "for val in dfp.index.values:\n",
    "    dftt = dft[dft[var]==val]\n",
    "    bp = dftt.boxplot(\"err-mean\", by=[\"n-sources\"], **boxplot_args, whiskerprops = WHISKER_PROPS)\n",
    "    legend_dict[\"em={}\".format(int(val))] = Patch(color=colors[idx])\n",
    "    style_boxplot(bp, None, colors[idx])\n",
    "    boxlines = bp[\"err-mean\"][1]\n",
    "    for el in boxlines:\n",
    "        setp(boxlines[el], color=colors[idx],linewidth=0.5)  # this styles elements not in box\n",
    "        for el2 in boxlines[el]:\n",
    "            line = el2\n",
    "            setp(line, xdata=getp(line, 'xdata')+offset_table[idx])\n",
    "    idx+=1\n",
    "# plt.legend(list(legend_dict.values()), list(legend_dict.keys()))  # Legend is added in LaTeX!\n",
    "if EXPORT_LATEX:\n",
    "    tikz_save(\"\".join([PATH_LATEX_PLOTS, 'boxplot-joined-{}.tex'.format(var)]), strict=True, wrap=False)"
   ]
  },
  {
   "cell_type": "code",
   "execution_count": 6,
   "metadata": {},
   "outputs": [
    {
     "data": {
      "image/png": "[encoded data removed]",
      "text/plain": [
       "<matplotlib.figure.Figure at 0x11590a518>"
      ]
     },
     "metadata": {},
     "output_type": "display_data"
    }
   ],
   "source": [
    "# Print Means in Lineplot\n",
    "ax, i = init_grid((1,2),(15,8))\n",
    "cols = ['err-mean', 'percent-matched']\n",
    "axis_param = [[0.1, 0, 0, 1.01],[0.1, 0, 0,1.01]]\n",
    "for col in cols:\n",
    "    a = dft.pivot_table(col, index=['n-sources'], columns=[var], aggfunc='mean').plot(**DEFAULT_LINE_PLOT_ARGS, grid=True, ax=ax[i], title=col)\n",
    "#     a.set_ylim([0,1])\n",
    "    style_line_plot(\"number of sources\", \"\", grid='x', ax=ax[i])\n",
    "    adjust_y_axis(*axis_param[i], a)\n",
    "    i+=1\n",
    "    if EXPORT_LATEX:\n",
    "        tikz_save(\"\".join([PATH_LATEX_PLOTS, 'lineplot-{}-{}.tex'.format(var, col)]))"
   ]
  },
  {
   "cell_type": "markdown",
   "metadata": {},
   "source": [
    "## T60"
   ]
  },
  {
   "cell_type": "code",
   "execution_count": null,
   "metadata": {
    "collapsed": true
   },
   "outputs": [],
   "source": [
    "df = load_all_data()"
   ]
  },
  {
   "cell_type": "code",
   "execution_count": null,
   "metadata": {
    "collapsed": true
   },
   "outputs": [],
   "source": [
    "# Manipulate Data\n",
    "var = \"T60\"\n",
    "dft = df\n",
    "dft = dft[dft[\"reflect-order\"]==3]\n",
    "# dft = dft[dft[\"T60\"]==0.3]\n",
    "dft = dft[dft[\"em\"]==5]\n",
    "dft = dft[dft[\"wd\"]==1.2]\n",
    "dft = dft[dft[\"md\"]==0.5]\n",
    "dft = dft[dft[\"SNR\"]==0]\n",
    "dft = dft[dft[\"var-fixed\"]==0]\n",
    "dft = dft[dft[\"var-val\"]==0.1]\n",
    "# print_summary(dft)"
   ]
  },
  {
   "cell_type": "code",
   "execution_count": null,
   "metadata": {
    "collapsed": true
   },
   "outputs": [],
   "source": [
    "print(\"SAMPLE SIZE:\")\n",
    "dfp = dft.pivot_table(\"x1\", index=[\"n-sources\"], columns=[var], aggfunc='count').transpose()\n",
    "print(dfp)\n",
    "\n",
    "print(\"\\nMEAN ERROR:\")\n",
    "dfp = dft.pivot_table(\"err-mean\", index=[\"n-sources\"], columns=var, aggfunc='mean').transpose()\n",
    "print(dfp)"
   ]
  },
  {
   "cell_type": "code",
   "execution_count": null,
   "metadata": {
    "collapsed": true
   },
   "outputs": [],
   "source": [
    "dfp = dft.pivot_table(\"err-mean\", index=[\"n-sources\"], columns=var, aggfunc='mean').transpose()\n",
    "\n",
    "# Joint Boxplot, grouped\n",
    "offset = 0.25\n",
    "colors = ['darkgray', 'k',lms_red, 'lightblue']\n",
    "offset_table = np.arange(-offset, offset, 2*offset/len(colors))\n",
    "fig = figure( figsize=(17,6.5) )\n",
    "ax  = fig.add_subplot(111)\n",
    "boxplot_args = {'ax':ax,'notch':False,'return_type':'both','widths':0.08,'sym':'','showmeans':True, 'meanline':False}\n",
    "idx=0\n",
    "legend_dict = {}\n",
    "\n",
    "for val in dfp.index.values:\n",
    "    dftt = dft[dft[var]==val]\n",
    "    bp = dftt.boxplot(\"err-mean\", by=[\"n-sources\"], **boxplot_args, whiskerprops = WHISKER_PROPS)\n",
    "    legend_dict[\"em={}\".format(int(val))] = Patch(color=colors[idx])\n",
    "    style_boxplot(bp, None, colors[idx])\n",
    "    boxlines = bp[\"err-mean\"][1]\n",
    "    for el in boxlines:\n",
    "        setp(boxlines[el], color=colors[idx],linewidth=0.5)  # this styles elements not in box\n",
    "        for el2 in boxlines[el]:\n",
    "            line = el2\n",
    "            setp(line, xdata=getp(line, 'xdata')+offset_table[idx])\n",
    "    idx+=1\n",
    "# plt.legend(list(legend_dict.values()), list(legend_dict.keys()))  # Legend is added in LaTeX!\n",
    "if EXPORT_LATEX:\n",
    "    tikz_save(\"\".join([PATH_LATEX_PLOTS, 'boxplot-joined-{}.tex'.format(var)]), strict=True, wrap=False)"
   ]
  },
  {
   "cell_type": "code",
   "execution_count": null,
   "metadata": {
    "collapsed": true
   },
   "outputs": [],
   "source": [
    "# Print Boxplots\n",
    "ax, i = init_grid((1,len(dfp.index.values)),(17,6))\n",
    "for val in dfp.index.values:\n",
    "    dftt = dft[dft[var]==val]\n",
    "    try:\n",
    "        bp = dftt.boxplot('err-mean', by=[\"n-sources\"], return_type='both', figsize=(6,  6), showmeans=True, meanline=True, ax=ax[i])\n",
    "        style_boxplot(bp)\n",
    "        ax[i].set_title(\"{}={}\".format(var,val))\n",
    "        i+=1\n",
    "    except ValueError:\n",
    "        continue"
   ]
  },
  {
   "cell_type": "code",
   "execution_count": null,
   "metadata": {
    "collapsed": true
   },
   "outputs": [],
   "source": [
    "# Print Means in Lineplot\n",
    "ax, i = init_grid((1,1),(6,6))\n",
    "cols = ['err-mean']#, 'percent-matched']\n",
    "axis_param = [[0.2, 0, 0, 1.01],[0.1, 0, 0,1.01]]\n",
    "for col in cols:\n",
    "    a = dft.pivot_table(col, index=['n-sources'], columns=[var], aggfunc='mean').plot(**DEFAULT_LINE_PLOT_ARGS, grid=True, ax=ax[i], title=col)\n",
    "#     a.set_ylim([0,1])\n",
    "    style_line_plot(\"number of sources\", \"\", grid='x', ax=ax[i])\n",
    "    adjust_y_axis(*axis_param[i], a)\n",
    "    i+=1\n",
    "    if EXPORT_LATEX:\n",
    "        tikz_save(\"\".join([PATH_LATEX_PLOTS, 'plot_{}_{}.tex'.format(desc, col)]),\n",
    "        figureheight = '\\\\figureheight',\n",
    "        figurewidth = '\\\\figurewidth'\n",
    "        )"
   ]
  },
  {
   "cell_type": "markdown",
   "metadata": {},
   "source": [
    "# Min-Distance "
   ]
  },
  {
   "cell_type": "code",
   "execution_count": null,
   "metadata": {
    "collapsed": true
   },
   "outputs": [],
   "source": [
    "df = load_all_data()"
   ]
  },
  {
   "cell_type": "code",
   "execution_count": null,
   "metadata": {
    "collapsed": true
   },
   "outputs": [],
   "source": [
    "var=\"md\"\n",
    "# Manipulate Data\n",
    "dft = df\n",
    "dft = dft[dft[\"reflect-order\"]==3]\n",
    "dft = dft[dft[\"T60\"]==0.0]\n",
    "dft = dft[dft[\"em\"]==5]\n",
    "dft = dft[dft[\"wd\"]==1.2]\n",
    "# dft = dft[dft[\"md\"]==0.5]\n",
    "dft = dft[dft[\"SNR\"]==0]\n",
    "dft = dft[dft[\"var-fixed\"]==0]\n",
    "dft = dft[dft[\"var-val\"]==0.1]\n",
    "# print_summary(dft)"
   ]
  },
  {
   "cell_type": "code",
   "execution_count": null,
   "metadata": {
    "collapsed": true
   },
   "outputs": [],
   "source": [
    "print(\"SAMPLE SIZE:\")\n",
    "dfp = dft.pivot_table(\"x1\", index=[\"n-sources\"], columns=[\"md\"], aggfunc='count').transpose()\n",
    "print(dfp)\n",
    "\n",
    "print(\"\\nMEAN ERROR:\")\n",
    "dfp = dft.pivot_table(\"err-mean\", index=[\"n-sources\"], columns=[\"md\"], aggfunc='mean').transpose()\n",
    "print(dfp)"
   ]
  },
  {
   "cell_type": "code",
   "execution_count": null,
   "metadata": {
    "collapsed": true
   },
   "outputs": [],
   "source": [
    "dfp = dft.pivot_table(\"err-mean\", index=[\"n-sources\"], columns=var, aggfunc='mean').transpose()\n",
    "\n",
    "# Joint Boxplot, grouped\n",
    "offset = 0.25\n",
    "colors = ['darkgray', 'k',lms_red, 'lightblue']\n",
    "offset_table = np.arange(-offset, offset, 2*offset/len(colors))\n",
    "fig = figure( figsize=(17,6.5) )\n",
    "ax  = fig.add_subplot(111)\n",
    "boxplot_args = {'ax':ax,'notch':False,'return_type':'both','widths':0.08,'sym':'','showmeans':True, 'meanline':False}\n",
    "idx=0\n",
    "legend_dict = {}\n",
    "\n",
    "for val in dfp.index.values:\n",
    "    dftt = dft[dft[var]==val]\n",
    "    bp = dftt.boxplot(\"err-mean\", by=[\"n-sources\"], **boxplot_args, whiskerprops = WHISKER_PROPS)\n",
    "    legend_dict[\"em={}\".format(int(val))] = Patch(color=colors[idx])\n",
    "    style_boxplot(bp, None, colors[idx])\n",
    "    boxlines = bp[\"err-mean\"][1]\n",
    "    for el in boxlines:\n",
    "        setp(boxlines[el], color=colors[idx],linewidth=0.5)  # this styles elements not in box\n",
    "        for el2 in boxlines[el]:\n",
    "            line = el2\n",
    "            setp(line, xdata=getp(line, 'xdata')+offset_table[idx])\n",
    "    idx+=1\n",
    "# plt.legend(list(legend_dict.values()), list(legend_dict.keys()))  # Legend is added in LaTeX!\n",
    "if EXPORT_LATEX:\n",
    "    tikz_save(\"\".join([PATH_LATEX_PLOTS, 'boxplot-joined-{}.tex'.format(var)]), strict=True, wrap=False)"
   ]
  },
  {
   "cell_type": "code",
   "execution_count": null,
   "metadata": {
    "collapsed": true
   },
   "outputs": [],
   "source": [
    "spgrid = (1,4)\n",
    "plt.subplots(spgrid[0],spgrid[1], figsize=(17,5))\n",
    "ax = list()\n",
    "for i in range(1,spgrid[0]*spgrid[1]+1):\n",
    "    ax.append(plt.subplot(spgrid[0],spgrid[1],i))\n",
    "\n",
    "i=0\n",
    "for md in [.1,.3,.5,1.]:\n",
    "    dftt = dft[dft[\"md\"]==md]\n",
    "    try:\n",
    "        bp = dftt.boxplot('err-mean', by=[\"n-sources\"], return_type='both', figsize=(6,  6), showmeans=True, meanline=True, ax=ax[i])\n",
    "        style_boxplot(bp)\n",
    "        ax[i].set_title(\"min-distance={}\".format(md))\n",
    "        i+=1\n",
    "    except ValueError:\n",
    "        continue"
   ]
  },
  {
   "cell_type": "code",
   "execution_count": null,
   "metadata": {
    "collapsed": true
   },
   "outputs": [],
   "source": [
    "spgrid = (1,2)\n",
    "plt.subplots(spgrid[0],spgrid[1], figsize=(17,6))\n",
    "ax = list()\n",
    "for i in range(1,spgrid[0]*spgrid[1]+1):\n",
    "    ax.append(plt.subplot(spgrid[0],spgrid[1],i))\n",
    "\n",
    "i=0\n",
    "desc = \"md\"\n",
    "cols = ['err-mean', 'percent-matched']\n",
    "axis_param = [[0.1, 0, 0, 1.01],[0.1, 0, 0,1.01]]\n",
    "for col in cols:\n",
    "    a = dft.pivot_table(col, index=['n-sources'], columns=desc, aggfunc='mean').plot(**DEFAULT_LINE_PLOT_ARGS, grid=True, ax=ax[i], title=col)\n",
    "    a.set_ylim([0,1])\n",
    "    style_line_plot(\"number of sources\", \"\", grid='x', ax=ax[i])\n",
    "    adjust_y_axis(*axis_param[i], a)\n",
    "    i+=1\n",
    "    if EXPORT_LATEX:\n",
    "        tikz_save(\"\".join([PATH_LATEX_PLOTS, 'plot_{}_{}.tex'.format(desc, col)]),\n",
    "        figureheight = '\\\\figureheight',\n",
    "        figurewidth = '\\\\figurewidth'\n",
    "        )"
   ]
  },
  {
   "cell_type": "markdown",
   "metadata": {},
   "source": [
    "# Reflect Order"
   ]
  },
  {
   "cell_type": "code",
   "execution_count": null,
   "metadata": {
    "collapsed": true
   },
   "outputs": [],
   "source": [
    "df = load_all_data()"
   ]
  },
  {
   "cell_type": "code",
   "execution_count": null,
   "metadata": {
    "collapsed": true
   },
   "outputs": [],
   "source": [
    "# Manipulate Data\n",
    "var = \"reflect-order\"\n",
    "dft = df\n",
    "# dft = dft[dft[\"reflect-order\"]==3]\n",
    "dft = dft[dft[\"T60\"]==0.6]\n",
    "dft = dft[dft[\"em\"]==5]\n",
    "dft = dft[dft[\"wd\"]==1.2]\n",
    "dft = dft[dft[\"md\"]==0.5]\n",
    "dft = dft[dft[\"SNR\"]==0]\n",
    "dft = dft[dft[\"var-fixed\"]==0]\n",
    "dft = dft[dft[\"var-val\"]==0.1]\n",
    "# print_summary(dft)"
   ]
  },
  {
   "cell_type": "code",
   "execution_count": null,
   "metadata": {
    "collapsed": true
   },
   "outputs": [],
   "source": [
    "print(\"SAMPLE SIZE:\")\n",
    "dfp = dft.pivot_table(\"x1\", index=[\"n-sources\"], columns=[\"reflect-order\"], aggfunc='count').transpose()\n",
    "print(dfp)\n",
    "\n",
    "print(\"\\nMEAN ERROR:\")\n",
    "dfp = dft.pivot_table(\"err-mean\", index=[\"n-sources\"], columns=[\"reflect-order\"], aggfunc='mean').transpose()\n",
    "print(dfp)"
   ]
  },
  {
   "cell_type": "code",
   "execution_count": null,
   "metadata": {
    "collapsed": true
   },
   "outputs": [],
   "source": [
    "dfp = dft.pivot_table(\"err-mean\", index=[\"n-sources\"], columns=var, aggfunc='mean').transpose()\n",
    "# Joint Boxplot, grouped\n",
    "offset = 0.15\n",
    "colors = ['darkgray', 'k',lms_red]\n",
    "offset_table = np.linspace(-offset, offset, len(dfp.index.values))\n",
    "fig = figure( figsize=(17,6.5) )\n",
    "ax  = fig.add_subplot(111)\n",
    "boxplot_args = {'ax':ax,'notch':False,'return_type':'both','widths':0.08,'sym':'','showmeans':True, 'meanline':False}\n",
    "idx=0\n",
    "legend_dict = {}\n",
    "\n",
    "for val in [1, 3, -1]:  # custom values to sort -1 as maximum value!\n",
    "    dftt = dft[dft[var]==val]\n",
    "    bp = dftt.boxplot(\"err-mean\", by=[\"n-sources\"], **boxplot_args, whiskerprops = WHISKER_PROPS)\n",
    "    legend_dict[\"em={}\".format(int(val))] = Patch(color=colors[idx])\n",
    "    style_boxplot(bp, None, colors[idx])\n",
    "    boxlines = bp[\"err-mean\"][1]\n",
    "    for el in boxlines:\n",
    "        setp(boxlines[el], color=colors[idx],linewidth=0.5)  # this styles elements not in box\n",
    "        for el2 in boxlines[el]:\n",
    "            line = el2\n",
    "            setp(line, xdata=getp(line, 'xdata')+offset_table[idx])\n",
    "    idx+=1\n",
    "# plt.legend(list(legend_dict.values()), list(legend_dict.keys()))  # Legend is added in LaTeX!\n",
    "if EXPORT_LATEX:\n",
    "    tikz_save(\"\".join([PATH_LATEX_PLOTS, 'boxplot-joined-{}.tex'.format(var)]), strict=True, wrap=False)"
   ]
  },
  {
   "cell_type": "code",
   "execution_count": null,
   "metadata": {
    "collapsed": true
   },
   "outputs": [],
   "source": [
    "ax, i = init_grid((1,3),(17,5))\n",
    "for val in [1., 3., -1.]:\n",
    "    dftt = dft[dft[var]==val]\n",
    "    try:\n",
    "        bp = dftt.boxplot('err-mean', by=[\"n-sources\"], return_type='both', figsize=(6,  6), showmeans=True, meanline=True, ax=ax[i])\n",
    "        style_boxplot(bp)\n",
    "        ax[i].set_title(\"{}={}\".format(var, val))\n",
    "        i+=1\n",
    "    except ValueError:\n",
    "        continue"
   ]
  },
  {
   "cell_type": "code",
   "execution_count": null,
   "metadata": {
    "collapsed": true
   },
   "outputs": [],
   "source": [
    "ax, i = init_grid((1,2),(17,6))\n",
    "desc = \"reflect-order\"\n",
    "cols = ['err-mean', 'percent-matched']\n",
    "axis_param = [[0.2, 0, 0, 2.01],[0.1, 0, 0,1.01]]\n",
    "for col in cols:\n",
    "    a = dft.pivot_table(col, index=['n-sources'], columns=['reflect-order'], aggfunc='mean').plot(**DEFAULT_LINE_PLOT_ARGS, grid=True, ax=ax[i], title=col)\n",
    "#     a.set_ylim([0,1])\n",
    "    style_line_plot(\"number of sources\", \"\", grid='x', ax=ax[i])\n",
    "    adjust_y_axis(*axis_param[i], a)\n",
    "    i+=1\n",
    "    if EXPORT_LATEX:\n",
    "        tikz_save(\"\".join([PATH_LATEX_PLOTS, 'plot_{}_{}.tex'.format(desc, col)]),\n",
    "        figureheight = '\\\\figureheight',\n",
    "        figurewidth = '\\\\figurewidth'\n",
    "        )"
   ]
  },
  {
   "cell_type": "markdown",
   "metadata": {},
   "source": [
    "## SNR"
   ]
  },
  {
   "cell_type": "code",
   "execution_count": null,
   "metadata": {
    "collapsed": true
   },
   "outputs": [],
   "source": [
    "df = load_all_data()"
   ]
  },
  {
   "cell_type": "code",
   "execution_count": null,
   "metadata": {
    "collapsed": true
   },
   "outputs": [],
   "source": [
    "var = \"SNR\"\n",
    "# Manipulate Data\n",
    "dft = df\n",
    "dft = dft[dft[\"reflect-order\"]==3]\n",
    "dft = dft[dft[\"T60\"]==0.3]\n",
    "dft = dft[dft[\"em\"]==5]\n",
    "dft = dft[dft[\"wd\"]==1.2]\n",
    "dft = dft[dft[\"md\"]==0.5]\n",
    "# dft = dft[dft[\"SNR\"]==0]\n",
    "dft = dft[dft[\"var-fixed\"]==0]\n",
    "dft = dft[dft[\"var-val\"]==0.1]\n",
    "dft = dft[dft[\"description\"]==\"noise\"]\n",
    "print_summary(dft)"
   ]
  },
  {
   "cell_type": "code",
   "execution_count": null,
   "metadata": {
    "collapsed": true
   },
   "outputs": [],
   "source": [
    "print(\"SAMPLE SIZE:\")\n",
    "dfp = dft.pivot_table(\"x1\", index=[\"n-sources\"], columns=[var], aggfunc='count').transpose()\n",
    "print(dfp)\n",
    "\n",
    "print(\"\\nMEAN ERROR:\")\n",
    "dfp = dft.pivot_table(\"err-mean\", index=[\"n-sources\"], columns=var, aggfunc='mean').transpose()\n",
    "print(dfp)"
   ]
  },
  {
   "cell_type": "code",
   "execution_count": null,
   "metadata": {
    "collapsed": true
   },
   "outputs": [],
   "source": [
    "dfp = dft.pivot_table(\"err-mean\", index=[\"n-sources\"], columns=var, aggfunc='mean').transpose()\n",
    "# Joint Boxplot, grouped\n",
    "offset = 0.25\n",
    "colors = ['darkgray', 'k',lms_red, 'lightblue',\"orange\"]\n",
    "offset_table = np.linspace(-offset, offset, len(dfp.index.values))\n",
    "fig = figure( figsize=(17,6.5) )\n",
    "ax  = fig.add_subplot(111)\n",
    "boxplot_args = {'ax':ax,'notch':False,'return_type':'both','widths':0.08,'sym':'','showmeans':True, 'meanline':False}\n",
    "idx=0\n",
    "legend_dict = {}\n",
    "for val in [0,30,15,10,5]:\n",
    "    dftt = dft[dft[var]==val]\n",
    "    bp = dftt.boxplot(\"err-mean\", by=[\"n-sources\"], **boxplot_args, whiskerprops = WHISKER_PROPS)\n",
    "    legend_dict[\"em={}\".format(int(val))] = Patch(color=colors[idx])\n",
    "    style_boxplot(bp, None, colors[idx])\n",
    "    boxlines = bp[\"err-mean\"][1]\n",
    "    for el in boxlines:\n",
    "        setp(boxlines[el], color=colors[idx],linewidth=0.5)  # this styles elements not in box\n",
    "        for el2 in boxlines[el]:\n",
    "            line = el2\n",
    "            setp(line, xdata=getp(line, 'xdata')+offset_table[idx])\n",
    "    idx+=1\n",
    "# plt.legend(list(legend_dict.values()), list(legend_dict.keys()))  # Legend is added in LaTeX!\n",
    "if EXPORT_LATEX:\n",
    "    tikz_save(\"\".join([PATH_LATEX_PLOTS, 'boxplot-joined-{}.tex'.format(var)]), strict=True, wrap=False)"
   ]
  },
  {
   "cell_type": "code",
   "execution_count": null,
   "metadata": {
    "collapsed": true
   },
   "outputs": [],
   "source": [
    "ax, i = init_grid((1,5),(17,4))\n",
    "for val in dfp.index.values:\n",
    "    dftt = dft[dft[var]==val]\n",
    "    try:\n",
    "        bp = dftt.boxplot('err-mean', by=[\"n-sources\"], return_type='both', figsize=(6,  6), showmeans=True, meanline=True, ax=ax[i])\n",
    "        style_boxplot(bp)\n",
    "        ax[i].set_title(\"{}={}\".format(var,val))\n",
    "        i+=1\n",
    "    except ValueError:\n",
    "        continue"
   ]
  },
  {
   "cell_type": "code",
   "execution_count": null,
   "metadata": {
    "collapsed": true
   },
   "outputs": [],
   "source": [
    "ax, i = init_grid((1,2),(17,6))\n",
    "cols = ['err-mean', 'percent-matched']\n",
    "axis_param = [[0.2, 0, 0, 2.01],[0.1, 0, 0,1.01]]\n",
    "for col in cols:\n",
    "    a = dft.pivot_table(col, index=['n-sources'], columns=[var], aggfunc='mean').plot(**DEFAULT_LINE_PLOT_ARGS, grid=True, ax=ax[i], title=col)\n",
    "#     a.set_ylim([0,1])\n",
    "    style_line_plot(\"number of sources\", \"\", grid='x', ax=ax[i])\n",
    "#     adjust_y_axis(*axis_param[i], a)\n",
    "    i+=1\n",
    "    if EXPORT_LATEX:\n",
    "        tikz_save(\"\".join([PATH_LATEX_PLOTS, 'plot_{}_{}.tex'.format(desc, col)]),\n",
    "        figureheight = '\\\\figureheight',\n",
    "        figurewidth = '\\\\figurewidth'\n",
    "        )"
   ]
  },
  {
   "cell_type": "markdown",
   "metadata": {},
   "source": [
    "## Guessing at random"
   ]
  },
  {
   "cell_type": "code",
   "execution_count": null,
   "metadata": {
    "collapsed": true
   },
   "outputs": [],
   "source": [
    "dft = matlab2pandas(dirname='_guessing', save_to=path.join(PATH_ROOT, '_guessing'), summary=False)"
   ]
  },
  {
   "cell_type": "code",
   "execution_count": null,
   "metadata": {
    "collapsed": true
   },
   "outputs": [],
   "source": [
    "dft = dft[dft['description'].isin(['_guessing', 'base'])]\n",
    "print_summary(dft)\n",
    "dfp = dft.pivot_table(\"err-mean\", index=\"description\", columns=\"n-sources\", aggfunc='mean').transpose()\n",
    "dfp.plot(kind='line', marker='o', color=[lms_red, \"darkgray\", \"lightgray\", \"orange\", \"black\"])\n",
    "\n",
    "style_line_plot(xlabel=\"number of sources\", ylabel=\"mean localisation error [m]\", grid=\"y\")"
   ]
  },
  {
   "cell_type": "markdown",
   "metadata": {},
   "source": [
    "# Wall distance"
   ]
  },
  {
   "cell_type": "code",
   "execution_count": null,
   "metadata": {
    "collapsed": true
   },
   "outputs": [],
   "source": [
    "df = load_all_data()\n",
    "dft = df"
   ]
  },
  {
   "cell_type": "code",
   "execution_count": null,
   "metadata": {
    "collapsed": true
   },
   "outputs": [],
   "source": [
    "var = \"wd\"\n",
    "# Manipulate Data\n",
    "dft = df\n",
    "dft = dft[dft[\"reflect-order\"]==3]\n",
    "dft = dft[dft[\"T60\"]==0.3]\n",
    "dft = dft[dft[\"em\"]==5]\n",
    "# dft = dft[dft[\"wd\"]==1.2]\n",
    "dft = dft[dft[\"md\"]==0.5]\n",
    "dft = dft[dft[\"SNR\"]==0]\n",
    "dft = dft[dft[\"var-fixed\"]==0]\n",
    "dft = dft[dft[\"var-val\"]==0.1]\n",
    "print_summary(dft)\n",
    "# dfp = df.pivot_table(\"err-mean\", index=[\"description\", \"wd\"], columns=\"n-sources\", aggfunc='mean').transpose()\n",
    "# dfp.boxplot(column=(\"n-sources\"))"
   ]
  },
  {
   "cell_type": "code",
   "execution_count": null,
   "metadata": {
    "collapsed": true
   },
   "outputs": [],
   "source": [
    "dfp = dft.pivot_table(\"err-mean\", index=[\"n-sources\"], columns=var, aggfunc='mean').transpose()\n",
    "\n",
    "# Joint Boxplot, grouped\n",
    "offset = 0.15\n",
    "colors = ['darkgray', 'k',lms_red, 'lightblue']\n",
    "offset_table = np.linspace(-offset, offset, len(dfp.index.values))\n",
    "fig = figure( figsize=(17,6.5) )\n",
    "ax  = fig.add_subplot(111)\n",
    "boxplot_args = {'ax':ax,'notch':False,'return_type':'both','widths':0.08,'sym':'','showmeans':True, 'meanline':False}\n",
    "idx=0\n",
    "legend_dict = {}\n",
    "\n",
    "for val in dfp.index.values:\n",
    "    dftt = dft[dft[var]==val]\n",
    "    bp = dftt.boxplot(\"err-mean\", by=[\"n-sources\"], **boxplot_args, whiskerprops = WHISKER_PROPS)\n",
    "    legend_dict[\"em={}\".format(int(val))] = Patch(color=colors[idx])\n",
    "    style_boxplot(bp, None, colors[idx])\n",
    "    boxlines = bp[\"err-mean\"][1]\n",
    "    for el in boxlines:\n",
    "        setp(boxlines[el], color=colors[idx],linewidth=0.5)  # this styles elements not in box\n",
    "        for el2 in boxlines[el]:\n",
    "            line = el2\n",
    "            setp(line, xdata=getp(line, 'xdata')+offset_table[idx])\n",
    "    idx+=1\n",
    "# plt.legend(list(legend_dict.values()), list(legend_dict.keys()))  # Legend is added in LaTeX!\n",
    "if EXPORT_LATEX:\n",
    "    tikz_save(\"\".join([PATH_LATEX_PLOTS, 'boxplot-joined-{}.tex'.format(var)]), strict=True, wrap=False)"
   ]
  },
  {
   "cell_type": "code",
   "execution_count": null,
   "metadata": {
    "collapsed": true
   },
   "outputs": [],
   "source": [
    "ax, i = init_grid((1,3), (17,8))\n",
    "for val in [1.2, 1.3, 1.5]:\n",
    "    dftt = dft[dft[var]==val]\n",
    "    bp = dftt.boxplot('err-mean', by=[\"n-sources\"], return_type='both', figsize=(6,  6), ax=ax[i],showmeans=True, meanline=True)\n",
    "    style_boxplot(bp)\n",
    "    ax[i].set_title(\"Wall distance = {}m\".format(val))\n",
    "    i+=1"
   ]
  },
  {
   "cell_type": "code",
   "execution_count": null,
   "metadata": {
    "collapsed": true
   },
   "outputs": [],
   "source": [
    "ax, i = init_grid((2,2),(17,17))\n",
    "cols = ['err-mean', 'percent-matched']\n",
    "axis_param = [[0.1, 0, 0, 1.01],[0.1, 0, 0,1.01]]\n",
    "for vf in [1, 0]:\n",
    "    dftt = dft[dft[\"var-fixed\"]==vf]\n",
    "    for col in cols:\n",
    "        a = dftt.pivot_table(col, index=['n-sources'], columns=['var-val', 'var-fixed'], aggfunc='mean').plot(**DEFAULT_LINE_PLOT_ARGS, grid=True, ax=ax[i], title=col)\n",
    "        a.set_ylim([0,1])\n",
    "        style_line_plot(\"number of sources\", \"\", grid='x', ax=ax[i])\n",
    "        adjust_y_axis(*axis_param[i], a)\n",
    "        i+=1\n",
    "        if EXPORT_LATEX:\n",
    "            tikz_save(\"\".join([PATH_LATEX_PLOTS, 'plot_{}_{}.tex'.format(desc, col)]),\n",
    "            figureheight = '\\\\figureheight',\n",
    "            figurewidth = '\\\\figurewidth'\n",
    "            )"
   ]
  },
  {
   "cell_type": "markdown",
   "metadata": {},
   "source": [
    "# Best Case Scenario vs. Worst Case Scenario"
   ]
  },
  {
   "cell_type": "code",
   "execution_count": null,
   "metadata": {
    "collapsed": true
   },
   "outputs": [],
   "source": [
    "df = load_all_data()\n",
    "dft = df.copy()"
   ]
  },
  {
   "cell_type": "code",
   "execution_count": null,
   "metadata": {
    "collapsed": true
   },
   "outputs": [],
   "source": [
    "var = \"wd\"\n",
    "dfts = []\n",
    "\n",
    "print(\"BEST CASE SCENARIO:\")\n",
    "# Manipulate Data\n",
    "dft = df\n",
    "dft = dft[dft[\"reflect-order\"]==0]\n",
    "dft = dft[dft[\"T60\"]==0.0]\n",
    "dft = dft[dft[\"em\"]==5]\n",
    "dft = dft[dft[\"wd\"]==1.5]\n",
    "dft = dft[dft[\"md\"]==0.5]\n",
    "dft = dft[dft[\"SNR\"]==0]\n",
    "dft = dft[dft[\"var-fixed\"]==0]\n",
    "dft = dft[dft[\"var-val\"]==0.1]\n",
    "print_summary(dft)\n",
    "dfts.append(dft)\n",
    "\n",
    "print(\"BASE SCENARIO:\")\n",
    "# Manipulate Data\n",
    "dft = df\n",
    "dft = dft[dft[\"reflect-order\"]==3]\n",
    "dft = dft[dft[\"T60\"]==0.3]\n",
    "dft = dft[dft[\"em\"]==5]\n",
    "dft = dft[dft[\"wd\"]==1.2]\n",
    "dft = dft[dft[\"md\"]==0.5]\n",
    "dft = dft[dft[\"SNR\"]==0]\n",
    "dft = dft[dft[\"var-fixed\"]==0]\n",
    "dft = dft[dft[\"var-val\"]==0.1]\n",
    "print_summary(dft)\n",
    "dfts.append(dft)\n",
    "\n",
    "print(\"WORST CASE SCENARIO:\")\n",
    "# Manipulate Data\n",
    "dft = df\n",
    "dft = dft[dft[\"reflect-order\"]==-1]\n",
    "dft = dft[dft[\"T60\"]==0.9]\n",
    "dft = dft[dft[\"em\"]==5]\n",
    "dft = dft[dft[\"wd\"]==1.2]\n",
    "dft = dft[dft[\"md\"]==0.5]\n",
    "dft = dft[dft[\"SNR\"]==5]\n",
    "dft = dft[dft[\"var-fixed\"]==0]\n",
    "dft = dft[dft[\"var-val\"]==0.1]\n",
    "print_summary(dft)\n",
    "dfts.append(dft)\n",
    "\n",
    "print(\"GUESSING:\")\n",
    "dft = matlab2pandas(dirname='_guessing', save_to=path.join(PATH_ROOT, '_guessing'), summary=True)\n",
    "dfts.append(dft)"
   ]
  },
  {
   "cell_type": "code",
   "execution_count": null,
   "metadata": {
    "collapsed": true
   },
   "outputs": [],
   "source": [
    "# Joint Boxplot, grouped\n",
    "offset = 0.15\n",
    "colors = ['darkgray', 'k',lms_red, 'lightblue']\n",
    "offset_table = np.linspace(-offset, offset, 4)\n",
    "fig = figure( figsize=(17,6.5) )\n",
    "ax  = fig.add_subplot(111)\n",
    "boxplot_args = {'ax':ax,'notch':False,'return_type':'both','widths':0.08,'sym':'','showmeans':True, 'meanline':False}\n",
    "idx=0\n",
    "legend_dict = {}\n",
    "\n",
    "for dft in dfts:\n",
    "    dftt = dft\n",
    "    bp = dftt.boxplot(\"err-mean\", by=[\"n-sources\"], **boxplot_args)\n",
    "    legend_dict[\"em={}\".format(int(val))] = Patch(color=colors[idx])\n",
    "    style_boxplot(bp, None, colors[idx])\n",
    "    boxlines = bp[\"err-mean\"][1]\n",
    "    for el in boxlines:\n",
    "        setp(boxlines[el], color=colors[idx],linewidth=0.5)  # this styles elements not in box\n",
    "        for el2 in boxlines[el]:\n",
    "            line = el2\n",
    "            setp(line, xdata=getp(line, 'xdata')+offset_table[idx])\n",
    "    idx+=1\n",
    "    \n",
    "# plt.legend(list(legend_dict.values()), list(legend_dict.keys()))  # Legend is added in LaTeX!\n",
    "# adjust axis to larger values of guessing and worst case scenario\n",
    "ax.set_ylim([0,3.51])\n",
    "ax.set_yticks(np.arange(0,3.51,0.25))\n",
    "\n",
    "if EXPORT_LATEX:\n",
    "    tikz_save(\"\".join([PATH_LATEX_PLOTS, 'boxplot-joined-best-case.tex'.format(var)]), strict=True, wrap=False)"
   ]
  },
  {
   "cell_type": "code",
   "execution_count": null,
   "metadata": {
    "collapsed": true
   },
   "outputs": [],
   "source": [
    "ax, i = init_grid((1,4), (17,7))\n",
    "desc = ['best case', 'base', 'worst case', 'guessing']\n",
    "for dft in dfts:\n",
    "    dftt = dft\n",
    "    bp = dftt.boxplot('err-mean', by=[\"n-sources\"], return_type='both', figsize=(6,  6), ax=ax[i],showmeans=True, meanline=True)\n",
    "    style_boxplot(bp)\n",
    "    adjust_y_axis(0.25,2,0,3.51,ax[i])\n",
    "    ax[i].set_title(\"{}\".format(desc[i]))\n",
    "    i+=1\n",
    "if EXPORT_LATEX:\n",
    "    tikz_save(\"\".join([PATH_LATEX_PLOTS, 'boxplot-seperate-cases.tex'.format(var)]), strict=True, wrap=False)"
   ]
  },
  {
   "cell_type": "markdown",
   "metadata": {},
   "source": [
    "# Variance Analysis"
   ]
  },
  {
   "cell_type": "code",
   "execution_count": null,
   "metadata": {
    "collapsed": true
   },
   "outputs": [],
   "source": [
    "# Load Data\n",
    "df = load_all_data()\n",
    "dft = df.copy()"
   ]
  },
  {
   "cell_type": "code",
   "execution_count": null,
   "metadata": {
    "collapsed": true
   },
   "outputs": [],
   "source": [
    "# Manipulate Data\n",
    "dft = df.copy()\n",
    "dft = dft[dft[\"reflect-order\"]==3]\n",
    "dft = dft[dft[\"T60\"]==0.3]\n",
    "dft = dft[dft[\"em\"]==10]\n",
    "dft = dft[dft[\"wd\"]==1.2]\n",
    "dft = dft[dft[\"md\"]==0.5]\n",
    "dft = dft[dft[\"SNR\"]==0]\n",
    "print_summary(dft)"
   ]
  },
  {
   "cell_type": "code",
   "execution_count": null,
   "metadata": {
    "collapsed": true
   },
   "outputs": [],
   "source": [
    "# Sample Sizes\n",
    "dfp = dft.pivot_table(\"x1\", index=[\"n-sources\"], columns=[\"var-val\",\"var-fixed\"], aggfunc='count').transpose()\n",
    "print(dfp)\n",
    "init_vars = set([x[0] for x in dfp.index.values])\n",
    "var_fixed = set([x[1] for x in dfp.index.values])\n",
    "# print(var_fixed)\n",
    "# print()\n",
    "\n",
    "evals = sorted(itertools.product(var_fixed, init_vars))\n",
    "for e in evals: print(e)"
   ]
  },
  {
   "cell_type": "code",
   "execution_count": null,
   "metadata": {
    "collapsed": true
   },
   "outputs": [],
   "source": [
    "# dfp = df.pivot_table(\"err-mean\", index=[\"description\", \"wd\"], columns=\"n-sources\", aggfunc='mean').transpose()\n",
    "# dfp.boxplot(column=(\"n-sources\", \"var\", \"var-val\"))\n",
    "ax, i = init_grid((2,6),(17,8))\n",
    "\n",
    "for vf, vv in comb:\n",
    "    dftt = dft[dft[\"var-val\"]==vv]\n",
    "    dftt = dftt[dftt[\"var-fixed\"]==vf]\n",
    "    try:\n",
    "        bp = dftt.boxplot('err-mean', by=[\"n-sources\"], return_type='both', figsize=(6,  6), showmeans=True, meanline=True, ax=ax[i])\n",
    "        style_boxplot(bp)\n",
    "        ax[i].set_title(\"var-fixed={}, var-val={}\".format(vf, vv))\n",
    "        i+=1\n",
    "    except ValueError:\n",
    "        continue\n",
    "    "
   ]
  },
  {
   "cell_type": "code",
   "execution_count": null,
   "metadata": {
    "collapsed": true
   },
   "outputs": [],
   "source": [
    "var = 'var-val'\n",
    "dfp = dft.pivot_table(\"err-mean\", index=[\"n-sources\"], columns=var, aggfunc='mean').transpose()\n",
    "\n",
    "# Joint Boxplot, grouped\n",
    "offset = 0.30\n",
    "colors = ['darkgray', 'k',lms_red, 'lightblue', 'orange', 'lightgray']\n",
    "offset_table = np.linspace(-offset, offset, 6)\n",
    "fig = figure( figsize=(17,6.5) )\n",
    "ax  = fig.add_subplot(111)\n",
    "boxplot_args = {'ax':ax,'notch':False,'return_type':'both','widths':0.08,'sym':'','showmeans':True, 'meanline':False}\n",
    "idx=0\n",
    "legend_dict={}\n",
    "print(sorted(init_vars))\n",
    "for val in sorted(init_vars):\n",
    "    dftt = dft[dft[var]==val]\n",
    "    dftt = dftt[dftt['var-fixed']==1]\n",
    "    bp = dftt.boxplot(\"err-mean\", by=[\"n-sources\"], **boxplot_args)\n",
    "    legend_dict[\"$\\sigma^2$={}\".format(val)] = Patch(color=colors[idx])\n",
    "    style_boxplot(bp, None, colors[idx])\n",
    "    boxlines = bp[\"err-mean\"][1]\n",
    "    for el in boxlines:\n",
    "        setp(boxlines[el], color=colors[idx],linewidth=0.5)  # this styles elements not in box\n",
    "        for el2 in boxlines[el]:\n",
    "            line = el2\n",
    "            setp(line, xdata=getp(line, 'xdata')+offset_table[idx])\n",
    "    idx+=1\n",
    "# ax.legend(list(legend_dict.values()), list(legend_dict.keys()))  # Legend is added in LaTeX!\n",
    "if EXPORT_LATEX:\n",
    "    tikz_save(\"\".join([PATH_LATEX_PLOTS, 'boxplot-joined-{}.tex'.format(var)]), strict=True, wrap=False)"
   ]
  },
  {
   "cell_type": "code",
   "execution_count": null,
   "metadata": {
    "collapsed": true
   },
   "outputs": [],
   "source": [
    "var = 'var-val'\n",
    "dfp = dft.pivot_table(\"err-mean\", index=[\"n-sources\"], columns=var, aggfunc='mean').transpose()\n",
    "\n",
    "# Joint Boxplot, grouped\n",
    "offset = 0.30\n",
    "colors = ['darkgray', 'k',lms_red, 'lightblue', 'orange', 'lightgray']\n",
    "offset_table = np.linspace(-offset, offset, 6)\n",
    "fig = figure( figsize=(17,6.5) )\n",
    "ax  = fig.add_subplot(111)\n",
    "boxplot_args = {'ax':ax,'notch':False,'return_type':'both','widths':0.08,'sym':'','showmeans':True, 'meanline':False}\n",
    "idx=0\n",
    "legend_dict={}\n",
    "print(sorted(init_vars))\n",
    "for val in sorted(init_vars):\n",
    "    dftt = dft[dft[var]==val]\n",
    "    dftt = dftt[dftt['var-fixed']==0]\n",
    "    bp = dftt.boxplot(\"err-mean\", by=[\"n-sources\"], **boxplot_args)\n",
    "    legend_dict[\"$\\sigma^2$={}\".format(val)] = Patch(color=colors[idx])\n",
    "    style_boxplot(bp, None, colors[idx])\n",
    "    boxlines = bp[\"err-mean\"][1]\n",
    "    for el in boxlines:\n",
    "        setp(boxlines[el], color=colors[idx],linewidth=0.5)  # this styles elements not in box\n",
    "        for el2 in boxlines[el]:\n",
    "            line = el2\n",
    "            setp(line, xdata=getp(line, 'xdata')+offset_table[idx])\n",
    "    idx+=1\n",
    "# ax.legend(list(legend_dict.values()), list(legend_dict.keys()))  # Legend is added in LaTeX!\n",
    "if EXPORT_LATEX:\n",
    "    tikz_save(\"\".join([PATH_LATEX_PLOTS, 'boxplot-joined-{}-est.tex'.format(var)]), strict=True, wrap=False)"
   ]
  },
  {
   "cell_type": "code",
   "execution_count": null,
   "metadata": {
    "collapsed": true
   },
   "outputs": [],
   "source": [
    "ax, i = init_grid((2,2),(17,17))\n",
    "cols = ['err-mean', 'percent-matched']\n",
    "axis_param = [[0.1, 0, 0, 1.01],[0.1, 0, 0,1.01],[0.1, 0, 0, 1.01],[0.1, 0, 0,1.01]]\n",
    "for vf in [1, 0]:\n",
    "    dftt = dft[dft[\"var-fixed\"]==vf]\n",
    "    for col in cols:\n",
    "        a = dftt.pivot_table(col, index=['n-sources'], columns=['var-val', 'var-fixed'], aggfunc='mean').plot(**DEFAULT_LINE_PLOT_ARGS, grid=True, ax=ax[i])\n",
    "        ax[i].legend_.remove()\n",
    "        a.set_ylim([0,1])\n",
    "        style_line_plot(\"\", \"\", grid='x', ax=ax[i])\n",
    "        adjust_y_axis(*axis_param[i], a)\n",
    "        i+=1\n",
    "if EXPORT_LATEX:\n",
    "    tikz_save(\"\".join([PATH_LATEX_PLOTS, 'plot-variance-fixed.tex']),\n",
    "    figureheight = '\\\\figureheight',\n",
    "    figurewidth = '\\\\figurewidth'\n",
    "    )"
   ]
  },
  {
   "cell_type": "markdown",
   "metadata": {},
   "source": [
    "# Implementierung von $\\psi_{s}$ "
   ]
  },
  {
   "cell_type": "code",
   "execution_count": null,
   "metadata": {
    "collapsed": true
   },
   "outputs": [],
   "source": [
    "# Load Data\n",
    "df = load_all_data()\n",
    "dft = df.copy()"
   ]
  },
  {
   "cell_type": "code",
   "execution_count": null,
   "metadata": {},
   "outputs": [],
   "source": [
    "# Manipulate Data\n",
    "var = 'prior'\n",
    "dft = df.copy()\n",
    "dft = dft[dft[\"reflect-order\"]==3]\n",
    "dft = dft[dft[\"T60\"]==0.3]\n",
    "dft = dft[dft[\"em\"]==5]\n",
    "dft = dft[dft[\"wd\"]==1.2]\n",
    "dft = dft[dft[\"md\"]==0.5]\n",
    "dft = dft[dft[\"SNR\"]==0]\n",
    "# dft = dft[dft[\"prior\"]=='equal']\n",
    "print_summary(dft)"
   ]
  },
  {
   "cell_type": "code",
   "execution_count": null,
   "metadata": {},
   "outputs": [],
   "source": [
    "dfp = dft.pivot_table(\"err-mean\", index=[\"n-sources\"], columns=var, aggfunc='mean').transpose()\n",
    "\n",
    "# Joint Boxplot, grouped\n",
    "offset = 0.15\n",
    "colors = ['darkgray', 'k',lms_red, 'lightblue']\n",
    "offset_table = np.linspace(-offset, offset, len(dfp.index.values))\n",
    "fig = figure( figsize=(17,6.5) )\n",
    "ax  = fig.add_subplot(111)\n",
    "boxplot_args = {'ax':ax,'notch':False,'return_type':'both','widths':0.08,'sym':'','showmeans':True, 'meanline':False}\n",
    "idx=0\n",
    "legend_dict = {}\n",
    "\n",
    "for val in dfp.index.values:\n",
    "    dftt = dft[dft[var]==val]\n",
    "    bp = dftt.boxplot(\"err-mean\", by=[\"n-sources\"], **boxplot_args, whiskerprops = WHISKER_PROPS)\n",
    "    legend_dict[\"prior={}\".format(val)] = Patch(color=colors[idx])\n",
    "    style_boxplot(bp, None, colors[idx])\n",
    "    boxlines = bp[\"err-mean\"][1]\n",
    "    for el in boxlines:\n",
    "        setp(boxlines[el], color=colors[idx],linewidth=0.5)  # this styles elements not in box\n",
    "        for el2 in boxlines[el]:\n",
    "            line = el2\n",
    "            setp(line, xdata=getp(line, 'xdata')+offset_table[idx])\n",
    "    idx+=1\n",
    "plt.legend(list(legend_dict.values()), list(legend_dict.keys()))  # Legend is added in LaTeX!\n",
    "# if EXPORT_LATEX:\n",
    "#     tikz_save(\"\".join([PATH_LATEX_PLOTS, 'boxplot-joined-{}.tex'.format(var)]), strict=True, wrap=False)"
   ]
  },
  {
   "cell_type": "markdown",
   "metadata": {},
   "source": [
    "# Analyse DataFrame"
   ]
  },
  {
   "cell_type": "markdown",
   "metadata": {},
   "source": [
    "### Examine Outliers"
   ]
  },
  {
   "cell_type": "code",
   "execution_count": null,
   "metadata": {
    "collapsed": true
   },
   "outputs": [],
   "source": [
    "# print(pd.concat([df[df[\"err-mean\"]>=1.5].loc[:, \"err1\":\"err7\"], df[df[\"err-mean\"]>=1.5].loc[:, \"x1\":\"x7\"]], axis=1))\n",
    "print(\"ERRORS:\\n{}\\n\".format(df[df[\"err-mean\"]>=1.5].loc[:, \"err1\":\"err7\"]))\n",
    "print(\"X-COORDINATES:\\n{}\\n\".format(df[df[\"err-mean\"]>=1.5].loc[:, \"x1\":\"x7est\"]))\n",
    "print(\"Y-COORDINATES:\\n{}\\n\".format(df[df[\"err-mean\"]>=1.5].loc[:, \"y1\":\"y7est\"]))"
   ]
  },
  {
   "cell_type": "code",
   "execution_count": null,
   "metadata": {
    "collapsed": true
   },
   "outputs": [],
   "source": [
    "# Box Plot\n",
    "bp = df.boxplot('err-mean', by=[\"n-sources\", \"refl-ord\"], return_type='both',figsize=(17,  12), showmeans=True, meanline=True)\n",
    "style_boxplot(bp)\n",
    "\n",
    "if EXPORT_LATEX:\n",
    "    tikz_save(PATH_BOX_PLOT, show_info=False)"
   ]
  },
  {
   "cell_type": "markdown",
   "metadata": {},
   "source": [
    "# Perfect Match Analysis"
   ]
  },
  {
   "cell_type": "code",
   "execution_count": null,
   "metadata": {
    "collapsed": true
   },
   "outputs": [],
   "source": [
    "dfcp = df.pivot_table(\"percent-matched\", columns=\"refl-ord\", aggfunc='mean').transpose()\n",
    "dfcp.plot(**DEFAULT_LINE_PLOT_ARGS)\n",
    "# Style plot\n",
    "style_line_plot(xlabel=\"number of sources\", ylabel=\"perfect matches\", grid=\"y\")"
   ]
  },
  {
   "cell_type": "markdown",
   "metadata": {},
   "source": [
    "# Significance Analysis"
   ]
  },
  {
   "cell_type": "code",
   "execution_count": null,
   "metadata": {
    "collapsed": true
   },
   "outputs": [],
   "source": [
    "from scipy.stats import ttest_ind, describe, norm\n",
    "from statsmodels.formula.api import ols\n",
    "\n",
    "means = []\n",
    "stddevs = []\n",
    "\n",
    "# extract err-mean per n_sources\n",
    "cat = {}\n",
    "for n in set(df[\"n-sources\"].values):\n",
    "    cat[str(n)] = df[df['n-sources']==n]['err-mean']\n",
    "\n",
    "x = np.linspace(0,1.5,100)\n",
    "print(\"DESCRIPTIVE ANALYSIS:\")\n",
    "fig, ax = plt.subplots(1,3, figsize=(17,  6))\n",
    "for n, c in cat.items():\n",
    "    dr = describe(c)\n",
    "    means.append(dr.mean)\n",
    "    stddevs.append(np.sqrt(dr.variance))\n",
    "    y = norm.pdf(x, loc=dr.mean, scale=np.sqrt(dr.variance))\n",
    "    plt.subplot(131)\n",
    "    plt.plot(x, y, label=n)  # plot gaussian\n",
    "    print(\"{} sources: n={:3}, min={:0.3f}, max={:0.3f}, mean={:0.3f}, variance={:0.3f}, std.dev={:0.3f}\".format(\n",
    "        n, dr.nobs, dr.minmax[0], dr.minmax[1], dr.mean, dr.variance, np.sqrt(dr.variance)))\n",
    "plt.legend()\n",
    "\n",
    "plt.subplot(132)\n",
    "plt.boxplot(list(cat.values()), showmeans=True, meanline=True)\n",
    "\n",
    "plt.subplot(133)\n",
    "plt.boxplot(list(cat.values()), showmeans=True, meanline=True)\n",
    "plt.ylim(-0.01, 0.31)\n",
    "plt.yticks([0, 0.1, 0.2, 0.3])\n",
    "\n",
    "# This means that given p and t values from a two-tailed test, you would reject the null hypothesis \n",
    "# of a greater-than test when p/2 < alpha and t > 0, and of a less-than test when p/2 < alpha and t < 0.    \n",
    "\n",
    "print(\"\\nT-TEST FOR DIFFERENCE IN MEANS:\")\n",
    "for i1 in set(df[\"n-sources\"].values):\n",
    "    for i2 in set(df[\"n-sources\"].values):\n",
    "        if i1!=i2 and i2>i1 and i2<=i1+1:\n",
    "            ttest = ttest_ind(cat[str(i2)], cat[str(i1)], equal_var=False)\n",
    "            p_onesided = ttest.pvalue/2\n",
    "            if p_onesided <= 0.01:sign=\"***\"\n",
    "            elif p_onesided <= 0.05: sign=\"**\"\n",
    "            elif p_onesided <= 0.10: sign=\"*\"\n",
    "            else: sign=\"(n.s.)\"\n",
    "            print(\"{}x{}: t={t.statistic:0.3f}, p={p:0.3f} {s:^6}\".format(i1, i2, t=ttest, p=p_onesided, s=sign))\n",
    "\n",
    "print(\"\\nVISUALIZE MEANS AND VARIANCE OF DATA:\")"
   ]
  },
  {
   "cell_type": "code",
   "execution_count": null,
   "metadata": {
    "collapsed": true
   },
   "outputs": [],
   "source": [
    "import matplotlib.pyplot as plt\n",
    "import numpy as np\n",
    "from matplotlib.patches import Rectangle\n",
    "\n",
    "x = np.linspace(0, 1)\n",
    "p1, = plt.plot(x, np.cos(x))\n",
    "\n"
   ]
  },
  {
   "cell_type": "code",
   "execution_count": null,
   "metadata": {
    "collapsed": true
   },
   "outputs": [],
   "source": []
  }
 ],
 "metadata": {
  "kernelspec": {
   "display_name": "Python 3",
   "language": "python",
   "name": "python3"
  },
  "language_info": {
   "codemirror_mode": {
    "name": "ipython",
    "version": 3
   },
   "file_extension": ".py",
   "mimetype": "text/x-python",
   "name": "python",
   "nbconvert_exporter": "python",
   "pygments_lexer": "ipython3",
   "version": "3.6.2"
  }
 },
 "nbformat": 4,
 "nbformat_minor": 2
}
